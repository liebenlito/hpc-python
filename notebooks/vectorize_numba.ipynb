{
 "cells": [
  {
   "cell_type": "markdown",
   "id": "16e0ea8c",
   "metadata": {},
   "source": [
    "# Numba Vectorize"
   ]
  },
  {
   "cell_type": "markdown",
   "id": "b6f0531b",
   "metadata": {},
   "source": [
    "## ufuncs"
   ]
  },
  {
   "cell_type": "code",
   "execution_count": 1,
   "id": "1d47696c",
   "metadata": {},
   "outputs": [],
   "source": [
    "import numpy as np\n",
    "import numba\n",
    "import math\n",
    "from numba import float64, int64\n",
    "\n",
    "from time import time"
   ]
  },
  {
   "cell_type": "code",
   "execution_count": 2,
   "id": "26a32747",
   "metadata": {},
   "outputs": [],
   "source": [
    "def numpy_sin(a, b):\n",
    "    return np.sin(a) + np.sin(b)"
   ]
  },
  {
   "cell_type": "code",
   "execution_count": 3,
   "id": "13ef901e",
   "metadata": {},
   "outputs": [],
   "source": [
    "@np.vectorize\n",
    "def py_sin(a, b):\n",
    "    return math.sin(a) + math.sin(b)"
   ]
  },
  {
   "cell_type": "code",
   "execution_count": 4,
   "id": "400e1bc9",
   "metadata": {},
   "outputs": [],
   "source": [
    "@numba.vectorize([float64(float64, float64), int64(int64, int64)], target='parallel')\n",
    "def numba_sin(a, b):\n",
    "    return np.sin(a) + np.sin(b)"
   ]
  },
  {
   "cell_type": "code",
   "execution_count": 5,
   "id": "b861496b",
   "metadata": {},
   "outputs": [],
   "source": [
    "x = np.random.randint(0, 10, size=10_000_000)\n",
    "y = np.random.randint(0, 10, size=10_000_000)\n",
    "r = 10"
   ]
  },
  {
   "cell_type": "code",
   "execution_count": 6,
   "id": "a6bfaba7",
   "metadata": {},
   "outputs": [
    {
     "data": {
      "text/plain": [
       "(dtype('int64'), dtype('int64'))"
      ]
     },
     "execution_count": 6,
     "metadata": {},
     "output_type": "execute_result"
    }
   ],
   "source": [
    "x.dtype, y.dtype"
   ]
  },
  {
   "cell_type": "code",
   "execution_count": 7,
   "id": "1f296d09",
   "metadata": {},
   "outputs": [
    {
     "name": "stdout",
     "output_type": "stream",
     "text": [
      "CPU times: user 290 ms, sys: 40.8 ms, total: 331 ms\n",
      "Wall time: 330 ms\n",
      "CPU times: user 2.81 s, sys: 159 ms, total: 2.97 s\n",
      "Wall time: 2.97 s\n",
      "CPU times: user 523 ms, sys: 188 ms, total: 711 ms\n",
      "Wall time: 110 ms\n"
     ]
    }
   ],
   "source": [
    "%time _ = numpy_sin(x, y)\n",
    "%time _ = py_sin(x, y)\n",
    "%time _ = numba_sin(x, y)"
   ]
  },
  {
   "cell_type": "code",
   "execution_count": 8,
   "id": "969b5486",
   "metadata": {},
   "outputs": [
    {
     "name": "stdout",
     "output_type": "stream",
     "text": [
      "Numpy: 67.42008590374543 MFlops/sec\n"
     ]
    }
   ],
   "source": [
    "start = time()\n",
    "\n",
    "for i in range(r):\n",
    "    numpy_sin(x, y)\n",
    "\n",
    "mflops = 2.0 * r * x.shape[0] / ((time() - start) * 1e6)\n",
    "print(\"Numpy: {} MFlops/sec\".format(mflops))"
   ]
  },
  {
   "cell_type": "code",
   "execution_count": 9,
   "id": "2230915b",
   "metadata": {},
   "outputs": [
    {
     "name": "stdout",
     "output_type": "stream",
     "text": [
      "Python: 6.902808952432553 MFlops/sec\n"
     ]
    }
   ],
   "source": [
    "start = time()\n",
    "\n",
    "for i in range(r):\n",
    "    py_sin(x, y)\n",
    "\n",
    "mflops = 2.0 * r * x.shape[0] / ((time() - start) * 1e6)\n",
    "print(\"Python: {} MFlops/sec\".format(mflops))"
   ]
  },
  {
   "cell_type": "code",
   "execution_count": 10,
   "id": "6c1ae435",
   "metadata": {},
   "outputs": [
    {
     "name": "stdout",
     "output_type": "stream",
     "text": [
      "Numba: 175.27794731553533 MFlops/sec\n"
     ]
    }
   ],
   "source": [
    "start = time()\n",
    "\n",
    "for i in range(r):\n",
    "    numba_sin(x, y)\n",
    "\n",
    "mflops = 2.0 * r * x.shape[0] / ((time() - start) * 1e6)\n",
    "print(\"Numba: {} MFlops/sec\".format(mflops))"
   ]
  },
  {
   "cell_type": "markdown",
   "id": "d20e4657",
   "metadata": {},
   "source": [
    "## Paralelisasi"
   ]
  },
  {
   "cell_type": "code",
   "execution_count": 11,
   "id": "a380182e",
   "metadata": {},
   "outputs": [],
   "source": [
    "@np.vectorize\n",
    "def prima_numpy_v(n):\n",
    "    if n <= 1:\n",
    "        raise ArithmeticError('n <= 1')\n",
    "    if n == 2 or n == 3:\n",
    "        return True\n",
    "    elif n % 2 == 0:\n",
    "        return False\n",
    "    else:\n",
    "        n_sqrt = math.ceil(math.sqrt(n))\n",
    "        for i in range(3, n_sqrt+1):\n",
    "            if n % i == 0:\n",
    "                return False\n",
    "    \n",
    "    return True"
   ]
  },
  {
   "cell_type": "code",
   "execution_count": 12,
   "id": "7f1a9284",
   "metadata": {},
   "outputs": [],
   "source": [
    "@numba.vectorize(['boolean(int64)', 'boolean(int32)'])\n",
    "def prima_numba_v(n):\n",
    "    if n <= 1:\n",
    "        raise ArithmeticError('n <= 1')\n",
    "    if n == 2 or n == 3:\n",
    "        return True\n",
    "    elif n % 2 == 0:\n",
    "        return False\n",
    "    else:\n",
    "        n_sqrt = math.ceil(math.sqrt(n))\n",
    "        for i in range(3, n_sqrt+1):\n",
    "            if n % i == 0:\n",
    "                return False\n",
    "    \n",
    "    return True"
   ]
  },
  {
   "cell_type": "code",
   "execution_count": 13,
   "id": "c62b557a",
   "metadata": {},
   "outputs": [],
   "source": [
    "@numba.vectorize(['boolean(int64)', 'boolean(int32)'], target='parallel')\n",
    "def prima_numba_vp(n):\n",
    "    if n <= 1:\n",
    "        raise ArithmeticError('n <= 1')\n",
    "    if n == 2 or n == 3:\n",
    "        return True\n",
    "    elif n % 2 == 0:\n",
    "        return False\n",
    "    else:\n",
    "        n_sqrt = math.ceil(math.sqrt(n))\n",
    "        for i in range(3, n_sqrt+1):\n",
    "            if n % i == 0:\n",
    "                return False\n",
    "    \n",
    "    return True"
   ]
  },
  {
   "cell_type": "code",
   "execution_count": 14,
   "id": "3c65ff03",
   "metadata": {},
   "outputs": [
    {
     "name": "stdout",
     "output_type": "stream",
     "text": [
      "CPU times: user 3.8 s, sys: 17.2 ms, total: 3.82 s\n",
      "Wall time: 3.82 s\n",
      "CPU times: user 7.83 s, sys: 39.8 ms, total: 7.87 s\n",
      "Wall time: 1.08 s\n"
     ]
    }
   ],
   "source": [
    "angka = np.random.randint(2, 10_000_000_000, dtype=np.int64, size=1000_000)\n",
    "# %time p1 = prima_numpy_v(angka)\n",
    "%time p2 = prima_numba_v(angka)\n",
    "%time p3 = prima_numba_vp(angka)\n"
   ]
  },
  {
   "cell_type": "code",
   "execution_count": 15,
   "id": "0f3e3ddb",
   "metadata": {},
   "outputs": [],
   "source": [
    "angka = np.arange(2, 10_000_000, dtype=np.int32)"
   ]
  },
  {
   "cell_type": "code",
   "execution_count": 16,
   "id": "fab34878",
   "metadata": {},
   "outputs": [
    {
     "data": {
      "text/plain": [
       "array([9999889, 9999901, 9999907, 9999929, 9999931, 9999937, 9999943,\n",
       "       9999971, 9999973, 9999991], dtype=int32)"
      ]
     },
     "execution_count": 16,
     "metadata": {},
     "output_type": "execute_result"
    }
   ],
   "source": [
    "p1 = prima_numba_vp(angka)\n",
    "prima = angka[p1]\n",
    "prima[-10:]"
   ]
  },
  {
   "cell_type": "code",
   "execution_count": 17,
   "id": "61b9aa89",
   "metadata": {},
   "outputs": [
    {
     "name": "stdout",
     "output_type": "stream",
     "text": [
      "CPU times: user 2.13 s, sys: 8.58 ms, total: 2.13 s\n",
      "Wall time: 2.13 s\n",
      "CPU times: user 4.01 s, sys: 212 ms, total: 4.23 s\n",
      "Wall time: 551 ms\n"
     ]
    }
   ],
   "source": [
    "%time _ = prima_numba_v(angka)\n",
    "%time _ = prima_numba_vp(angka)"
   ]
  },
  {
   "cell_type": "markdown",
   "id": "98c3d9ca",
   "metadata": {},
   "source": [
    "## Generalized ufuncs \n",
    "\n",
    "Numba menawarkan `guvectorize` untuk mengenerate generalized ufuncs yang bekerja pada array input dengan dimensi yang berbeda."
   ]
  },
  {
   "cell_type": "code",
   "execution_count": 18,
   "id": "1ef498f2",
   "metadata": {},
   "outputs": [],
   "source": [
    "import numpy as np\n",
    "import numba\n",
    "from numba import float32"
   ]
  },
  {
   "cell_type": "markdown",
   "id": "3573856d",
   "metadata": {},
   "source": [
    "### Penambahan skalar-vektor (colum/row-wise summation)"
   ]
  },
  {
   "cell_type": "code",
   "execution_count": 19,
   "id": "7b733ba1",
   "metadata": {},
   "outputs": [],
   "source": [
    "@numba.guvectorize([(float32[:], float32[:], float32[:])], '(m),()->(m)')\n",
    "def scalar_vector_add(x, y, z):\n",
    "    for i in range(x.shape[0]):\n",
    "        z[i] = x[i] + y[0]"
   ]
  },
  {
   "cell_type": "code",
   "execution_count": 20,
   "id": "84ca8312",
   "metadata": {},
   "outputs": [
    {
     "ename": "TypeError",
     "evalue": "ufunc 'scalar_vector_add' not supported for the input types, and the inputs could not be safely coerced to any supported types according to the casting rule ''safe''",
     "output_type": "error",
     "traceback": [
      "\u001b[0;31m---------------------------------------------------------------------------\u001b[0m",
      "\u001b[0;31mTypeError\u001b[0m                                 Traceback (most recent call last)",
      "Input \u001b[0;32mIn [20]\u001b[0m, in \u001b[0;36m<cell line: 2>\u001b[0;34m()\u001b[0m\n\u001b[1;32m      1\u001b[0m x \u001b[38;5;241m=\u001b[39m np\u001b[38;5;241m.\u001b[39marange(\u001b[38;5;241m10.0\u001b[39m)\n\u001b[0;32m----> 2\u001b[0m z \u001b[38;5;241m=\u001b[39m \u001b[43mscalar_vector_add\u001b[49m\u001b[43m(\u001b[49m\u001b[43mx\u001b[49m\u001b[43m,\u001b[49m\u001b[43m \u001b[49m\u001b[38;5;241;43m2.0\u001b[39;49m\u001b[43m)\u001b[49m\n\u001b[1;32m      3\u001b[0m \u001b[38;5;28mprint\u001b[39m(x, z, sep\u001b[38;5;241m=\u001b[39m\u001b[38;5;124m'\u001b[39m\u001b[38;5;130;01m\\n\u001b[39;00m\u001b[38;5;124m'\u001b[39m)\n",
      "File \u001b[0;32m~/opt/miniconda3/lib/python3.9/site-packages/numba/np/ufunc/gufunc.py:170\u001b[0m, in \u001b[0;36mGUFunc.__call__\u001b[0;34m(self, *args, **kwargs)\u001b[0m\n\u001b[1;32m    166\u001b[0m \u001b[38;5;28;01mdef\u001b[39;00m \u001b[38;5;21m__call__\u001b[39m(\u001b[38;5;28mself\u001b[39m, \u001b[38;5;241m*\u001b[39margs, \u001b[38;5;241m*\u001b[39m\u001b[38;5;241m*\u001b[39mkwargs):\n\u001b[1;32m    167\u001b[0m     \u001b[38;5;66;03m# If compilation is disabled OR it is NOT a dynamic gufunc\u001b[39;00m\n\u001b[1;32m    168\u001b[0m     \u001b[38;5;66;03m# call the underlying gufunc\u001b[39;00m\n\u001b[1;32m    169\u001b[0m     \u001b[38;5;28;01mif\u001b[39;00m \u001b[38;5;28mself\u001b[39m\u001b[38;5;241m.\u001b[39m_frozen \u001b[38;5;129;01mor\u001b[39;00m \u001b[38;5;129;01mnot\u001b[39;00m \u001b[38;5;28mself\u001b[39m\u001b[38;5;241m.\u001b[39mis_dynamic:\n\u001b[0;32m--> 170\u001b[0m         \u001b[38;5;28;01mreturn\u001b[39;00m \u001b[38;5;28;43mself\u001b[39;49m\u001b[38;5;241;43m.\u001b[39;49m\u001b[43mufunc\u001b[49m\u001b[43m(\u001b[49m\u001b[38;5;241;43m*\u001b[39;49m\u001b[43margs\u001b[49m\u001b[43m,\u001b[49m\u001b[43m \u001b[49m\u001b[38;5;241;43m*\u001b[39;49m\u001b[38;5;241;43m*\u001b[39;49m\u001b[43mkwargs\u001b[49m\u001b[43m)\u001b[49m\n\u001b[1;32m    171\u001b[0m     \u001b[38;5;28;01melif\u001b[39;00m \u001b[38;5;124m\"\u001b[39m\u001b[38;5;124mout\u001b[39m\u001b[38;5;124m\"\u001b[39m \u001b[38;5;129;01min\u001b[39;00m kwargs:\n\u001b[1;32m    172\u001b[0m         \u001b[38;5;66;03m# If \"out\" argument is supplied\u001b[39;00m\n\u001b[1;32m    173\u001b[0m         args \u001b[38;5;241m+\u001b[39m\u001b[38;5;241m=\u001b[39m (kwargs\u001b[38;5;241m.\u001b[39mpop(\u001b[38;5;124m\"\u001b[39m\u001b[38;5;124mout\u001b[39m\u001b[38;5;124m\"\u001b[39m),)\n",
      "\u001b[0;31mTypeError\u001b[0m: ufunc 'scalar_vector_add' not supported for the input types, and the inputs could not be safely coerced to any supported types according to the casting rule ''safe''"
     ]
    }
   ],
   "source": [
    "x = np.arange(10.0)\n",
    "z = scalar_vector_add(x, 2.0)\n",
    "print(x, z, sep='\\n')"
   ]
  },
  {
   "cell_type": "markdown",
   "id": "11cf382e",
   "metadata": {},
   "source": [
    "### Perkalian matriks-vector"
   ]
  },
  {
   "cell_type": "code",
   "execution_count": 21,
   "id": "a3bd6eeb",
   "metadata": {},
   "outputs": [],
   "source": [
    "@numba.guvectorize(['(f8[:, :], f8[:], f8[:])'], '(m,n), (n) -> (m)')\n",
    "def mat_vec_mult(X, y, z):\n",
    "    for i in range(X.shape[0]):\n",
    "        w = 0.0\n",
    "        for j in range(X.shape[1]):\n",
    "            w += X[i,j] * y[j]\n",
    "        z[i] = w"
   ]
  },
  {
   "cell_type": "code",
   "execution_count": 22,
   "id": "4446a194",
   "metadata": {},
   "outputs": [
    {
     "name": "stdout",
     "output_type": "stream",
     "text": [
      "[[0. 1. 2.]\n",
      " [3. 4. 5.]\n",
      " [6. 7. 8.]]\n",
      "[1. 2. 3.]\n",
      "[ 8. 26. 44.]\n"
     ]
    }
   ],
   "source": [
    "A = np.arange(9.0).reshape(3, 3)\n",
    "x = np.array([1., 2., 3.])\n",
    "b = mat_vec_mult(A, x)\n",
    "print(A, x, b, sep='\\n')"
   ]
  },
  {
   "cell_type": "markdown",
   "id": "b40666a0",
   "metadata": {},
   "source": [
    "### Perkalian matriks-matriks"
   ]
  },
  {
   "cell_type": "code",
   "execution_count": 23,
   "id": "226c104b",
   "metadata": {},
   "outputs": [],
   "source": [
    "@numba.guvectorize(['(f8[:, :], f8[:, :], f8[:, :])'], '(m,n), (n,k) -> (m,k)')\n",
    "def mat_mult(X, Y, Z):\n",
    "    for i in range(X.shape[0]):\n",
    "        for j in range(Y.shape[1]):\n",
    "            w = 0.0\n",
    "            for k in range(X.shape[1]):\n",
    "                w += X[i,k] * Y[k,j]\n",
    "            \n",
    "            Z[i,j] = w"
   ]
  },
  {
   "cell_type": "code",
   "execution_count": 24,
   "id": "d8a52043",
   "metadata": {},
   "outputs": [
    {
     "name": "stdout",
     "output_type": "stream",
     "text": [
      "[[0. 1. 2.]\n",
      " [3. 4. 5.]\n",
      " [6. 7. 8.]]\n",
      "[[ 0.  1.  2.  3.  4.]\n",
      " [ 5.  6.  7.  8.  9.]\n",
      " [10. 11. 12. 13. 14.]]\n",
      "[[ 25.  28.  31.  34.  37.]\n",
      " [ 70.  82.  94. 106. 118.]\n",
      " [115. 136. 157. 178. 199.]]\n"
     ]
    }
   ],
   "source": [
    "A = np.arange(9.0).reshape(3, 3)\n",
    "B = np.arange(15.0).reshape(3, 5)\n",
    "C = mat_mult(A, B)\n",
    "print(A, B, C, sep='\\n')"
   ]
  },
  {
   "cell_type": "code",
   "execution_count": 26,
   "id": "3bd227d4",
   "metadata": {},
   "outputs": [],
   "source": [
    "numba.guvectorize?"
   ]
  },
  {
   "cell_type": "code",
   "execution_count": null,
   "id": "7fa0a6bf",
   "metadata": {},
   "outputs": [],
   "source": []
  }
 ],
 "metadata": {
  "kernelspec": {
   "display_name": "Python 3 (ipykernel)",
   "language": "python",
   "name": "python3"
  },
  "language_info": {
   "codemirror_mode": {
    "name": "ipython",
    "version": 3
   },
   "file_extension": ".py",
   "mimetype": "text/x-python",
   "name": "python",
   "nbconvert_exporter": "python",
   "pygments_lexer": "ipython3",
   "version": "3.9.12"
  }
 },
 "nbformat": 4,
 "nbformat_minor": 5
}

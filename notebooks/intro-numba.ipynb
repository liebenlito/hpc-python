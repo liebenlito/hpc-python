{
 "cells": [
  {
   "cell_type": "markdown",
   "metadata": {},
   "source": [
    "# Numba - CPU\n",
    "\n",
    "Numba adalah JIT (Just-In-Time) compiler yang menerjemahkan code Python ke dalam bahasa machine.\n",
    "\n",
    "* Menggunakan special decorator pada fungsi Python, Numba meng-compile fungsi tersebut ke dalam bahasa mesin menggunakan LLVM.\n",
    "* Numba compatible dengan array NumPy.\n",
    "* Dapat melakukan paralelisasi yang dapat memanfaatkan semua CPU core."
   ]
  },
  {
   "cell_type": "code",
   "execution_count": 1,
   "metadata": {},
   "outputs": [],
   "source": [
    "import numpy as np\n",
    "\n",
    "def inner_rows(C,A,B):\n",
    "    for i in range(len(A)):\n",
    "        for j in range(len(A)):\n",
    "            C[i,j] = A[i,j] + B[i,j]\n",
    "\n",
    "def inner_cols(C,A,B):\n",
    "    for j in range(len(A)):\n",
    "        for i in range(len(A)):\n",
    "            C[i,j] = A[i,j] + B[i,j]\n",
    "\n",
    "\n",
    "def inner_alloc(C,A,B):\n",
    "    for i in range(len(A)):\n",
    "        for j in range(len(A)):\n",
    "            val = [A[i,j] + B[i,j]]\n",
    "            C[i,j] = val[0]\n"
   ]
  },
  {
   "cell_type": "code",
   "execution_count": 2,
   "metadata": {},
   "outputs": [],
   "source": [
    "A = np.random.rand(100,100)\n",
    "B = np.random.rand(100,100)\n",
    "C = np.random.rand(100,100)\n"
   ]
  },
  {
   "cell_type": "code",
   "execution_count": 3,
   "metadata": {},
   "outputs": [
    {
     "name": "stdout",
     "output_type": "stream",
     "text": [
      "3.2 ms ± 72.1 µs per loop (mean ± std. dev. of 7 runs, 100 loops each)\n",
      "3.32 ms ± 13.7 µs per loop (mean ± std. dev. of 7 runs, 100 loops each)\n",
      "3.78 ms ± 15.6 µs per loop (mean ± std. dev. of 7 runs, 100 loops each)\n"
     ]
    }
   ],
   "source": [
    "%timeit inner_rows(C,A,B)\n",
    "%timeit inner_cols(C,A,B)\n",
    "%timeit inner_alloc(C,A,B)"
   ]
  },
  {
   "cell_type": "code",
   "execution_count": 4,
   "metadata": {},
   "outputs": [],
   "source": [
    "%reload_ext memory_profiler"
   ]
  },
  {
   "cell_type": "code",
   "execution_count": 5,
   "metadata": {},
   "outputs": [
    {
     "name": "stdout",
     "output_type": "stream",
     "text": [
      "peak memory: 85.16 MiB, increment: 0.31 MiB\n",
      "peak memory: 85.20 MiB, increment: 0.05 MiB\n",
      "peak memory: 85.20 MiB, increment: 0.00 MiB\n"
     ]
    }
   ],
   "source": [
    "%memit inner_rows(C,A,B)\n",
    "%memit inner_cols(C,A,B)\n",
    "%memit inner_alloc(C,A,B)"
   ]
  },
  {
   "cell_type": "markdown",
   "metadata": {},
   "source": [
    "## Menggunakan Decorator JIT"
   ]
  },
  {
   "cell_type": "markdown",
   "metadata": {},
   "source": [
    "### Contoh 1"
   ]
  },
  {
   "cell_type": "code",
   "execution_count": 6,
   "metadata": {},
   "outputs": [],
   "source": [
    "import math\n",
    "import numpy as np\n",
    "import numba\n",
    "import matplotlib.pyplot as plt"
   ]
  },
  {
   "cell_type": "code",
   "execution_count": 7,
   "metadata": {},
   "outputs": [],
   "source": [
    "def prima(n):\n",
    "    if n <= 1:\n",
    "        raise ArithmeticError('\"%s\" <= 1' % n)\n",
    "    if n == 2 or n == 3:\n",
    "        return True\n",
    "    elif n % 2 == 0:\n",
    "        return False\n",
    "    else:\n",
    "        n_sqrt = math.ceil(math.sqrt(n))\n",
    "        for i in range(3, n_sqrt):\n",
    "            if n % 1 == 0:\n",
    "                return False\n",
    "    \n",
    "    return True"
   ]
  },
  {
   "cell_type": "code",
   "execution_count": 8,
   "metadata": {},
   "outputs": [
    {
     "name": "stdout",
     "output_type": "stream",
     "text": [
      "893937 False\n"
     ]
    }
   ],
   "source": [
    "n = np.random.randint(2, 1000_000, dtype=np.int64)\n",
    "print(n, prima(n))"
   ]
  },
  {
   "cell_type": "code",
   "execution_count": 9,
   "metadata": {},
   "outputs": [],
   "source": [
    "@numba.jit\n",
    "def prima_numba(n):\n",
    "    if n <= 1:\n",
    "        raise ArithmeticError('\"%s\" <= 1' % n)\n",
    "    if n == 2 or n == 3:\n",
    "        return True\n",
    "    elif n % 2 == 0:\n",
    "        return False\n",
    "    else:\n",
    "        n_sqrt = math.ceil(math.sqrt(n))\n",
    "        for i in range(3, n_sqrt):\n",
    "            if n % 1 == 0:\n",
    "                return False\n",
    "    \n",
    "    return True"
   ]
  },
  {
   "cell_type": "code",
   "execution_count": 28,
   "metadata": {},
   "outputs": [
    {
     "name": "stdout",
     "output_type": "stream",
     "text": [
      "CPU times: user 24.7 ms, sys: 2.12 ms, total: 26.8 ms\n",
      "Wall time: 25.4 ms\n",
      "CPU times: user 15.4 ms, sys: 327 µs, total: 15.7 ms\n",
      "Wall time: 15.8 ms\n"
     ]
    }
   ],
   "source": [
    "angka = np.random.randint(2, 1000_000, dtype=np.int64, size=10000)\n",
    "\n",
    "%time p1 = [prima(n) for i in angka]\n",
    "%time p2 = [prima_numba(n) for i in angka]"
   ]
  },
  {
   "cell_type": "code",
   "execution_count": 11,
   "metadata": {},
   "outputs": [],
   "source": [
    "@numba.njit\n",
    "def prima_numba_njit(n):\n",
    "    if n <= 1:\n",
    "        raise ArithmeticError('\"angka\" <= 1')\n",
    "    if n == 2 or n == 3:\n",
    "        return True\n",
    "    elif n % 2 == 0:\n",
    "        return False\n",
    "    else:\n",
    "        n_sqrt = math.ceil(math.sqrt(n))\n",
    "        for i in range(3, n_sqrt):\n",
    "            if n % 1 == 0:\n",
    "                return False\n",
    "    \n",
    "    return True"
   ]
  },
  {
   "cell_type": "code",
   "execution_count": 29,
   "metadata": {},
   "outputs": [
    {
     "name": "stdout",
     "output_type": "stream",
     "text": [
      "CPU times: user 28 ms, sys: 1.99 ms, total: 30 ms\n",
      "Wall time: 28.5 ms\n",
      "CPU times: user 2.25 ms, sys: 493 µs, total: 2.74 ms\n",
      "Wall time: 2.74 ms\n"
     ]
    }
   ],
   "source": [
    "%time p1 = [prima(n) for i in angka]\n",
    "%time p2 = [prima_numba_njit(n) for i in angka]"
   ]
  },
  {
   "cell_type": "code",
   "execution_count": null,
   "metadata": {},
   "outputs": [],
   "source": []
  },
  {
   "cell_type": "markdown",
   "metadata": {},
   "source": [
    "### Contoh 2"
   ]
  },
  {
   "cell_type": "code",
   "execution_count": 13,
   "metadata": {
    "tags": []
   },
   "outputs": [],
   "source": [
    "import numba\n",
    "import numpy as np"
   ]
  },
  {
   "cell_type": "code",
   "execution_count": 14,
   "metadata": {},
   "outputs": [],
   "source": [
    "def py_sum(x):\n",
    "    hasil = 0\n",
    "    for i in range(len(x)):\n",
    "        hasil = hasil + x[i]\n",
    "    return hasil"
   ]
  },
  {
   "cell_type": "code",
   "execution_count": 15,
   "metadata": {},
   "outputs": [],
   "source": [
    "@numba.jit(nopython=True) # Decorator Numba\n",
    "def numba_sum(x):\n",
    "    hasil = 0\n",
    "    for i in range(len(x)):\n",
    "        hasil = hasil + x[i]\n",
    "    return hasil"
   ]
  },
  {
   "cell_type": "code",
   "execution_count": 16,
   "metadata": {},
   "outputs": [
    {
     "data": {
      "text/plain": [
       "(100000,)"
      ]
     },
     "execution_count": 16,
     "metadata": {},
     "output_type": "execute_result"
    }
   ],
   "source": [
    "# generating data\n",
    "x = np.random.randint(10, 100, 100_000)\n",
    "x.shape"
   ]
  },
  {
   "cell_type": "code",
   "execution_count": 17,
   "metadata": {},
   "outputs": [
    {
     "name": "stdout",
     "output_type": "stream",
     "text": [
      "11.8 ms ± 88.7 µs per loop (mean ± std. dev. of 7 runs, 100 loops each)\n"
     ]
    }
   ],
   "source": [
    "%timeit py_sum(x)"
   ]
  },
  {
   "cell_type": "code",
   "execution_count": 18,
   "metadata": {},
   "outputs": [
    {
     "name": "stdout",
     "output_type": "stream",
     "text": [
      "25.9 µs ± 21.1 ns per loop (mean ± std. dev. of 7 runs, 10,000 loops each)\n"
     ]
    }
   ],
   "source": [
    "%timeit numba_sum(x)"
   ]
  },
  {
   "cell_type": "markdown",
   "metadata": {},
   "source": [
    "### Latihan\n",
    "\n",
    "Buat fungsi `numba_sum(x, y)` untuk menghitung jarak-$L_1$ \n",
    "\n",
    "$$\n",
    "L_1 = \\sum_{i=0}^{N-1} |x_i - y_i|.\n",
    "$$\n",
    "\n",
    "Kemudian, buat perbandingan waktu komputasi antara **python original**, menggunakan **numpy.sum**, dan **numba**. Gunakan modul `from time import time` untuk menghitung waktu eksekusinya."
   ]
  },
  {
   "cell_type": "code",
   "execution_count": 19,
   "metadata": {},
   "outputs": [],
   "source": [
    "import numpy as np\n",
    "import numba"
   ]
  },
  {
   "cell_type": "code",
   "execution_count": 20,
   "metadata": {},
   "outputs": [],
   "source": [
    "# Generate 1 juta bilangan random (0,9)\n",
    "x = np.random.randint(0, 9, 1_000_000)\n",
    "y = np.random.randint(0, 9, 1_000_000)"
   ]
  },
  {
   "cell_type": "code",
   "execution_count": 21,
   "metadata": {},
   "outputs": [],
   "source": [
    "def py_sum(x, y):\n",
    "    hasil = 0\n",
    "    for i in range(len(x)):\n",
    "        hasil = hasil + abs(x[i] - y[i])\n",
    "    return hasil"
   ]
  },
  {
   "cell_type": "code",
   "execution_count": 22,
   "metadata": {},
   "outputs": [],
   "source": [
    "@numba.njit\n",
    "def numba_sum(x, y):\n",
    "    hasil = 0\n",
    "    for i in range(len(x)):\n",
    "        hasil = hasil + abs(x[i] - y[i])\n",
    "    return hasil"
   ]
  },
  {
   "cell_type": "code",
   "execution_count": 23,
   "metadata": {},
   "outputs": [
    {
     "data": {
      "text/plain": [
       "2962098"
      ]
     },
     "execution_count": 23,
     "metadata": {},
     "output_type": "execute_result"
    }
   ],
   "source": [
    "py_sum(x, y)"
   ]
  },
  {
   "cell_type": "code",
   "execution_count": 30,
   "metadata": {},
   "outputs": [
    {
     "name": "stdout",
     "output_type": "stream",
     "text": [
      "waktu eksekusi python: 0.2918870449066162 detik\n",
      "waktu eksekusi numpy: 0.0029730796813964844 detik\n",
      "waktu eksekusi numba: 0.0004470348358154297 detik\n"
     ]
    }
   ],
   "source": [
    "from time import time\n",
    "\n",
    "start = time()\n",
    "py_sum(x, y)\n",
    "exec_py = time() - start\n",
    "print(\"waktu eksekusi python: {} detik\".format(exec_py))\n",
    "\n",
    "start = time()\n",
    "np.sum(np.abs(x-y))\n",
    "exec_np = time() - start\n",
    "print(\"waktu eksekusi numpy: {} detik\".format(exec_np))\n",
    "\n",
    "start = time()\n",
    "numba_sum(x, y)\n",
    "exec_numba = time() - start\n",
    "print(\"waktu eksekusi numba: {} detik\".format(exec_numba))"
   ]
  },
  {
   "cell_type": "markdown",
   "metadata": {},
   "source": [
    "Jalankan 10 kali perhitungan di atas dan simpan hasilnya kemudian tampilkan nilai rata-rata dan standard deviasi dari perhitungan tersebut."
   ]
  },
  {
   "cell_type": "code",
   "execution_count": 32,
   "metadata": {},
   "outputs": [],
   "source": [
    "from time import time\n",
    "\n",
    "hasil_py_sum = np.zeros(shape=10)\n",
    "hasil_np_sum = np.zeros(shape=10)\n",
    "hasil_numba_sum = np.zeros(shape=10)\n",
    "\n",
    "for i in range(10):\n",
    "    start = time()\n",
    "    py_sum(x, y)\n",
    "    exec_py = time() - start\n",
    "    hasil_py_sum[i] = exec_py\n",
    "\n",
    "    start = time()\n",
    "    np.sum(np.abs(x-y))\n",
    "    exec_np = time() - start\n",
    "    hasil_np_sum[i] = exec_np\n",
    "\n",
    "    start = time()\n",
    "    numba_sum(x, y)\n",
    "    exec_numba = time() - start\n",
    "    hasil_numba_sum[i] = exec_numba\n"
   ]
  },
  {
   "cell_type": "code",
   "execution_count": 33,
   "metadata": {},
   "outputs": [
    {
     "name": "stdout",
     "output_type": "stream",
     "text": [
      "[0.30304694 0.28393698 0.28491616 0.28913093 0.28406382 0.28457808\n",
      " 0.28503489 0.28801489 0.28690004 0.28831267]\n",
      "[0.00292611 0.00305986 0.00300121 0.00266504 0.00303197 0.00287485\n",
      " 0.00294924 0.00347805 0.00321484 0.00273895]\n",
      "[0.00037098 0.00049996 0.00050735 0.00033617 0.00049996 0.00050497\n",
      " 0.00039005 0.00052691 0.00108576 0.00037622]\n"
     ]
    }
   ],
   "source": [
    "print(hasil_py_sum)\n",
    "print(hasil_np_sum)\n",
    "print(hasil_numba_sum)"
   ]
  },
  {
   "cell_type": "code",
   "execution_count": 34,
   "metadata": {},
   "outputs": [
    {
     "name": "stdout",
     "output_type": "stream",
     "text": [
      "Speedup (Python, Numba): mean = 624.6113229778235, std.dev = 165.4739722259265\n",
      "Speedup (NumPy, Numba): mean = 6.401130585121463, std.dev = 1.3950777452279868\n"
     ]
    }
   ],
   "source": [
    "speedup_python = hasil_py_sum / hasil_numba_sum\n",
    "speedup_np = hasil_np_sum / hasil_numba_sum\n",
    "\n",
    "mean_py = np.mean(speedup_python)\n",
    "std_py = np.std(speedup_python)\n",
    "mean_np = np.mean(speedup_np)\n",
    "std_np = np.std(speedup_np)\n",
    "\n",
    "print(\"Speedup (Python, Numba): mean = {}, std.dev = {}\".format(mean_py, std_py))\n",
    "print(\"Speedup (NumPy, Numba): mean = {}, std.dev = {}\".format(mean_np, std_np))"
   ]
  },
  {
   "cell_type": "code",
   "execution_count": null,
   "metadata": {},
   "outputs": [],
   "source": []
  }
 ],
 "metadata": {
  "kernelspec": {
   "display_name": "Python 3 (ipykernel)",
   "language": "python",
   "name": "python3"
  },
  "language_info": {
   "codemirror_mode": {
    "name": "ipython",
    "version": 3
   },
   "file_extension": ".py",
   "mimetype": "text/x-python",
   "name": "python",
   "nbconvert_exporter": "python",
   "pygments_lexer": "ipython3",
   "version": "3.9.12"
  },
  "toc-autonumbering": false,
  "toc-showcode": false,
  "toc-showtags": false,
  "vscode": {
   "interpreter": {
    "hash": "53d5a6e36cc43c05634cd1771832eb144e71cf8056471b08a2f37e088ce7f261"
   }
  }
 },
 "nbformat": 4,
 "nbformat_minor": 4
}

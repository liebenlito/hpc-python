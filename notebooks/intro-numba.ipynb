{
 "cells": [
  {
   "cell_type": "code",
   "execution_count": 5,
   "metadata": {},
   "outputs": [],
   "source": [
    "def inner_rows(C,A,B):\n",
    "    for i in range(len(A)):\n",
    "        for j in range(len(A)):\n",
    "            C[i,j] = A[i,j] + B[i,j]\n",
    "\n",
    "def inner_cols(C,A,B):\n",
    "    for j in range(len(A)):\n",
    "        for i in range(len(A)):\n",
    "            C[i,j] = A[i,j] + B[i,j]\n",
    "\n",
    "\n",
    "def inner_alloc(C,A,B):\n",
    "    for i in range(len(A)):\n",
    "        for j in range(len(A)):\n",
    "            val = [A[i,j] + B[i,j]]\n",
    "            C[i,j] = val[0]\n"
   ]
  },
  {
   "cell_type": "code",
   "execution_count": 6,
   "metadata": {},
   "outputs": [],
   "source": [
    "A = np.random.rand(100,100)\n",
    "B = np.random.rand(100,100)\n",
    "C = np.random.rand(100,100)\n"
   ]
  },
  {
   "cell_type": "code",
   "execution_count": 7,
   "metadata": {},
   "outputs": [
    {
     "name": "stdout",
     "output_type": "stream",
     "text": [
      "3.67 ms ± 110 µs per loop (mean ± std. dev. of 7 runs, 100 loops each)\n",
      "3.67 ms ± 106 µs per loop (mean ± std. dev. of 7 runs, 100 loops each)\n",
      "4.09 ms ± 102 µs per loop (mean ± std. dev. of 7 runs, 100 loops each)\n"
     ]
    }
   ],
   "source": [
    "%timeit inner_rows(C,A,B)\n",
    "%timeit inner_cols(C,A,B)\n",
    "%timeit inner_alloc(C,A,B)"
   ]
  },
  {
   "cell_type": "code",
   "execution_count": 8,
   "metadata": {},
   "outputs": [],
   "source": [
    "%reload_ext memory_profiler"
   ]
  },
  {
   "cell_type": "code",
   "execution_count": 9,
   "metadata": {},
   "outputs": [
    {
     "name": "stdout",
     "output_type": "stream",
     "text": [
      "peak memory: 151.83 MiB, increment: 0.05 MiB\n",
      "peak memory: 151.83 MiB, increment: 0.00 MiB\n",
      "peak memory: 151.83 MiB, increment: 0.00 MiB\n"
     ]
    }
   ],
   "source": [
    "%memit inner_rows(C,A,B)\n",
    "%memit inner_cols(C,A,B)\n",
    "%memit inner_alloc(C,A,B)"
   ]
  },
  {
   "cell_type": "markdown",
   "metadata": {},
   "source": [
    "## Menggunakan Decorator JIT"
   ]
  },
  {
   "cell_type": "code",
   "execution_count": 10,
   "metadata": {},
   "outputs": [],
   "source": [
    "import numba\n",
    "import numpy as np"
   ]
  },
  {
   "cell_type": "code",
   "execution_count": 11,
   "metadata": {},
   "outputs": [],
   "source": [
    "def py_sum(x):\n",
    "    hasil = 0\n",
    "    for i in range(len(x)):\n",
    "        hasil = hasil + x[i]\n",
    "    return hasil"
   ]
  },
  {
   "cell_type": "code",
   "execution_count": 12,
   "metadata": {},
   "outputs": [],
   "source": [
    "@numba.jit(nopython=True) # Decorator Numba\n",
    "def numba_sum(x):\n",
    "    hasil = 0\n",
    "    for i in range(len(x)):\n",
    "        hasil = hasil + x[i]\n",
    "    return hasil"
   ]
  },
  {
   "cell_type": "code",
   "execution_count": 17,
   "metadata": {},
   "outputs": [
    {
     "data": {
      "text/plain": [
       "(100000,)"
      ]
     },
     "execution_count": 17,
     "metadata": {},
     "output_type": "execute_result"
    }
   ],
   "source": [
    "# generating data\n",
    "x = np.random.randint(10, 100, 100_000)\n",
    "x.shape"
   ]
  },
  {
   "cell_type": "code",
   "execution_count": 18,
   "metadata": {},
   "outputs": [
    {
     "name": "stdout",
     "output_type": "stream",
     "text": [
      "13.9 ms ± 168 µs per loop (mean ± std. dev. of 7 runs, 100 loops each)\n"
     ]
    }
   ],
   "source": [
    "%timeit py_sum(x)"
   ]
  },
  {
   "cell_type": "code",
   "execution_count": 19,
   "metadata": {},
   "outputs": [
    {
     "name": "stdout",
     "output_type": "stream",
     "text": [
      "26 µs ± 47.9 ns per loop (mean ± std. dev. of 7 runs, 10,000 loops each)\n"
     ]
    }
   ],
   "source": [
    "%timeit numba_sum(x)"
   ]
  },
  {
   "cell_type": "markdown",
   "metadata": {},
   "source": [
    "## Latihan\n",
    "\n",
    "Buat fungsi `numba_sum(x, y)` untuk menghitung jarak-$L_1$ \n",
    "\n",
    "$$\n",
    "L_1 = \\sum_{i=0}^{N-1} |x_i - y_i|.\n",
    "$$\n",
    "\n",
    "Kemudian, buat perbandingan waktu komputasi antara **python original**, menggunakan **numpy.sum**, dan **numba**. Gunakan modul `from time import time` untuk menghitung waktu eksekusinya."
   ]
  },
  {
   "cell_type": "code",
   "execution_count": 20,
   "metadata": {},
   "outputs": [],
   "source": [
    "import numpy as np\n",
    "import numba"
   ]
  },
  {
   "cell_type": "code",
   "execution_count": 21,
   "metadata": {},
   "outputs": [],
   "source": [
    "# Generate 1 juta bilangan random (0,9)\n",
    "x = np.random.randint(0, 9, 1_000_000)\n",
    "y = np.random.randint(0, 9, 1_000_000)"
   ]
  },
  {
   "cell_type": "code",
   "execution_count": 22,
   "metadata": {},
   "outputs": [],
   "source": [
    "def py_sum(x, y):\n",
    "    hasil = 0\n",
    "    for i in range(len(x)):\n",
    "        hasil = hasil + abs(x[i] - y[i])\n",
    "    return hasil"
   ]
  },
  {
   "cell_type": "code",
   "execution_count": 23,
   "metadata": {},
   "outputs": [],
   "source": [
    "@numba.njit\n",
    "def numba_sum(x, y):\n",
    "    hasil = 0\n",
    "    for i in range(len(x)):\n",
    "        hasil = hasil + abs(x[i] - y[i])\n",
    "    return hasil"
   ]
  },
  {
   "cell_type": "code",
   "execution_count": 24,
   "metadata": {},
   "outputs": [
    {
     "data": {
      "text/plain": [
       "2962575"
      ]
     },
     "execution_count": 24,
     "metadata": {},
     "output_type": "execute_result"
    }
   ],
   "source": [
    "py_sum(x, y)"
   ]
  },
  {
   "cell_type": "code",
   "execution_count": 33,
   "metadata": {},
   "outputs": [
    {
     "name": "stdout",
     "output_type": "stream",
     "text": [
      "waktu eksekusi python: 0.33647799491882324 detik\n",
      "waktu eksekusi numpy: 0.0030450820922851562 detik\n",
      "waktu eksekusi numba: 0.00041103363037109375 detik\n"
     ]
    }
   ],
   "source": [
    "from time import time\n",
    "\n",
    "start = time()\n",
    "py_sum(x, y)\n",
    "exec_py = time() - start\n",
    "print(\"waktu eksekusi python: {} detik\".format(exec_py))\n",
    "\n",
    "start = time()\n",
    "np.sum(np.abs(x-y))\n",
    "exec_np = time() - start\n",
    "print(\"waktu eksekusi numpy: {} detik\".format(exec_np))\n",
    "\n",
    "start = time()\n",
    "numba_sum(x, y)\n",
    "exec_numba = time() - start\n",
    "print(\"waktu eksekusi numba: {} detik\".format(exec_numba))"
   ]
  },
  {
   "cell_type": "code",
   "execution_count": null,
   "metadata": {},
   "outputs": [],
   "source": []
  }
 ],
 "metadata": {
  "kernelspec": {
   "display_name": "Python 3.9.12 ('base')",
   "language": "python",
   "name": "python3"
  },
  "language_info": {
   "codemirror_mode": {
    "name": "ipython",
    "version": 3
   },
   "file_extension": ".py",
   "mimetype": "text/x-python",
   "name": "python",
   "nbconvert_exporter": "python",
   "pygments_lexer": "ipython3",
   "version": "3.9.12"
  },
  "orig_nbformat": 4,
  "vscode": {
   "interpreter": {
    "hash": "53d5a6e36cc43c05634cd1771832eb144e71cf8056471b08a2f37e088ce7f261"
   }
  }
 },
 "nbformat": 4,
 "nbformat_minor": 2
}

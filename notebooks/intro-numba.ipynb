{
 "cells": [
  {
   "cell_type": "markdown",
   "metadata": {},
   "source": [
    "# Numba - CPU\n",
    "\n",
    "Numba adalah JIT (Just-In-Time) compiler yang menerjemahkan code Python ke dalam bahasa machine.\n",
    "\n",
    "* Menggunakan special decorator pada fungsi Python, Numba meng-compile fungsi tersebut ke dalam bahasa mesin menggunakan LLVM.\n",
    "* Numba compatible dengan array NumPy.\n",
    "* Dapat melakukan paralelisasi yang dapat memanfaatkan semua CPU core."
   ]
  },
  {
   "cell_type": "code",
   "execution_count": 2,
   "metadata": {},
   "outputs": [],
   "source": [
    "import numpy as np\n",
    "\n",
    "def inner_rows(C,A,B):\n",
    "    for i in range(len(A)):\n",
    "        for j in range(len(A)):\n",
    "            C[i,j] = A[i,j] + B[i,j]\n",
    "\n",
    "def inner_cols(C,A,B):\n",
    "    for j in range(len(A)):\n",
    "        for i in range(len(A)):\n",
    "            C[i,j] = A[i,j] + B[i,j]\n",
    "\n",
    "\n",
    "def inner_alloc(C,A,B):\n",
    "    for i in range(len(A)):\n",
    "        for j in range(len(A)):\n",
    "            val = [A[i,j] + B[i,j]]\n",
    "            C[i,j] = val[0]\n"
   ]
  },
  {
   "cell_type": "code",
   "execution_count": 3,
   "metadata": {},
   "outputs": [],
   "source": [
    "A = np.random.rand(100,100)\n",
    "B = np.random.rand(100,100)\n",
    "C = np.random.rand(100,100)\n"
   ]
  },
  {
   "cell_type": "code",
   "execution_count": 4,
   "metadata": {},
   "outputs": [
    {
     "name": "stdout",
     "output_type": "stream",
     "text": [
      "1.99 ms ± 56.6 µs per loop (mean ± std. dev. of 7 runs, 100 loops each)\n",
      "2.07 ms ± 13.3 µs per loop (mean ± std. dev. of 7 runs, 100 loops each)\n",
      "2.36 ms ± 7.36 µs per loop (mean ± std. dev. of 7 runs, 100 loops each)\n"
     ]
    }
   ],
   "source": [
    "%timeit inner_rows(C,A,B)\n",
    "%timeit inner_cols(C,A,B)\n",
    "%timeit inner_alloc(C,A,B)"
   ]
  },
  {
   "cell_type": "code",
   "execution_count": 5,
   "metadata": {},
   "outputs": [],
   "source": [
    "%load_ext memory_profiler"
   ]
  },
  {
   "cell_type": "code",
   "execution_count": 6,
   "metadata": {},
   "outputs": [
    {
     "name": "stdout",
     "output_type": "stream",
     "text": [
      "peak memory: 97.94 MiB, increment: 0.41 MiB\n",
      "peak memory: 97.94 MiB, increment: 0.00 MiB\n",
      "peak memory: 97.95 MiB, increment: 0.00 MiB\n"
     ]
    }
   ],
   "source": [
    "%memit inner_rows(C,A,B)\n",
    "%memit inner_cols(C,A,B)\n",
    "%memit inner_alloc(C,A,B)"
   ]
  },
  {
   "cell_type": "markdown",
   "metadata": {},
   "source": [
    "## Menggunakan Decorator JIT"
   ]
  },
  {
   "cell_type": "markdown",
   "metadata": {},
   "source": [
    "### Contoh 1"
   ]
  },
  {
   "cell_type": "code",
   "execution_count": 7,
   "metadata": {},
   "outputs": [],
   "source": [
    "import math\n",
    "import numpy as np\n",
    "import numba\n",
    "import matplotlib.pyplot as plt"
   ]
  },
  {
   "cell_type": "markdown",
   "metadata": {},
   "source": [
    "**Python**"
   ]
  },
  {
   "cell_type": "code",
   "execution_count": 8,
   "metadata": {},
   "outputs": [],
   "source": [
    "def prima(n):\n",
    "    if n <= 1:\n",
    "        raise ArithmeticError('\"%s\" <= 1' % n)\n",
    "    if n == 2 or n == 3:\n",
    "        return True\n",
    "    elif n % 2 == 0:\n",
    "        return False\n",
    "    else:\n",
    "        n_sqrt = math.ceil(math.sqrt(n))\n",
    "        for i in range(3, n_sqrt+1):\n",
    "            if n % 1 == 0:\n",
    "                return False\n",
    "    \n",
    "    return True"
   ]
  },
  {
   "cell_type": "code",
   "execution_count": 9,
   "metadata": {},
   "outputs": [
    {
     "name": "stdout",
     "output_type": "stream",
     "text": [
      "952 False\n"
     ]
    }
   ],
   "source": [
    "n = np.random.randint(2, 1000, dtype=np.int64)\n",
    "print(n, prima(n))"
   ]
  },
  {
   "cell_type": "markdown",
   "metadata": {},
   "source": [
    "**numba.jit**"
   ]
  },
  {
   "cell_type": "code",
   "execution_count": 10,
   "metadata": {},
   "outputs": [],
   "source": [
    "@numba.jit\n",
    "def prima_numba(n):\n",
    "    if n <= 1:\n",
    "        raise ArithmeticError('\"%s\" <= 1' % n)\n",
    "    if n == 2 or n == 3:\n",
    "        return True\n",
    "    elif n % 2 == 0:\n",
    "        return False\n",
    "    else:\n",
    "        n_sqrt = math.ceil(math.sqrt(n))\n",
    "        for i in range(3, n_sqrt+1):\n",
    "            if n % i == 0:\n",
    "                return False\n",
    "    \n",
    "    return True"
   ]
  },
  {
   "cell_type": "code",
   "execution_count": 11,
   "metadata": {},
   "outputs": [
    {
     "name": "stdout",
     "output_type": "stream",
     "text": [
      "CPU times: user 5.18 ms, sys: 1 µs, total: 5.19 ms\n",
      "Wall time: 5.19 ms\n",
      "CPU times: user 245 ms, sys: 22.3 ms, total: 268 ms\n",
      "Wall time: 304 ms\n"
     ]
    },
    {
     "name": "stderr",
     "output_type": "stream",
     "text": [
      "/var/folders/d8/_nrt2sy9567f87n08gxx0xc00000gn/T/ipykernel_1091/2505651498.py:1: NumbaWarning: \n",
      "Compilation is falling back to object mode WITH looplifting enabled because Internal error in pre-inference rewriting pass encountered during compilation of function \"prima_numba\" due to: Constant inference not possible for: $const12.1 % n\n",
      "\n",
      "File \"../../../../../var/folders/d8/_nrt2sy9567f87n08gxx0xc00000gn/T/ipykernel_1091/2505651498.py\", line 4:\n",
      "<source missing, REPL/exec in use?>\n",
      "\n",
      "  @numba.jit\n",
      "/var/folders/d8/_nrt2sy9567f87n08gxx0xc00000gn/T/ipykernel_1091/2505651498.py:1: NumbaWarning: \n",
      "Compilation is falling back to object mode WITHOUT looplifting enabled because Function \"prima_numba\" failed type inference due to: Unsupported constraint encountered: raise $18call_function.4\n",
      "\n",
      "File \"../../../../../var/folders/d8/_nrt2sy9567f87n08gxx0xc00000gn/T/ipykernel_1091/2505651498.py\", line 4:\n",
      "<source missing, REPL/exec in use?>\n",
      "\n",
      "  @numba.jit\n",
      "/Users/muhazaliebenlito/miniconda3/lib/python3.9/site-packages/numba/core/object_mode_passes.py:151: NumbaWarning: Function \"prima_numba\" was compiled in object mode without forceobj=True, but has lifted loops.\n",
      "\n",
      "File \"../../../../../var/folders/d8/_nrt2sy9567f87n08gxx0xc00000gn/T/ipykernel_1091/2505651498.py\", line 3:\n",
      "<source missing, REPL/exec in use?>\n",
      "\n",
      "  warnings.warn(errors.NumbaWarning(warn_msg,\n",
      "/Users/muhazaliebenlito/miniconda3/lib/python3.9/site-packages/numba/core/object_mode_passes.py:161: NumbaDeprecationWarning: \n",
      "Fall-back from the nopython compilation path to the object mode compilation path has been detected, this is deprecated behaviour.\n",
      "\n",
      "For more information visit https://numba.readthedocs.io/en/stable/reference/deprecation.html#deprecation-of-object-mode-fall-back-behaviour-when-using-jit\n",
      "\n",
      "File \"../../../../../var/folders/d8/_nrt2sy9567f87n08gxx0xc00000gn/T/ipykernel_1091/2505651498.py\", line 3:\n",
      "<source missing, REPL/exec in use?>\n",
      "\n",
      "  warnings.warn(errors.NumbaDeprecationWarning(msg,\n"
     ]
    }
   ],
   "source": [
    "angka = np.random.randint(2, 1000_000, dtype=np.int64, size=10000)\n",
    "\n",
    "%time p1 = [prima(n) for i in angka]\n",
    "%time p2 = [prima_numba(n) for i in angka]"
   ]
  },
  {
   "cell_type": "markdown",
   "metadata": {},
   "source": [
    "**numba.njit** atau **numba.jit(nopython=True)**"
   ]
  },
  {
   "cell_type": "code",
   "execution_count": 12,
   "metadata": {},
   "outputs": [],
   "source": [
    "@numba.njit\n",
    "def prima_numba_njit(n):\n",
    "    if n <= 1:\n",
    "        raise ArithmeticError('\"angka\" <= 1')\n",
    "    if n == 2 or n == 3:\n",
    "        return True\n",
    "    elif n % 2 == 0:\n",
    "        return False\n",
    "    else:\n",
    "        n_sqrt = math.ceil(math.sqrt(n))\n",
    "        for i in range(3, n_sqrt+1):\n",
    "            if n % i == 0:\n",
    "                return False\n",
    "    \n",
    "    return True"
   ]
  },
  {
   "cell_type": "code",
   "execution_count": 13,
   "metadata": {},
   "outputs": [
    {
     "name": "stdout",
     "output_type": "stream",
     "text": [
      "CPU times: user 5.41 ms, sys: 72 µs, total: 5.48 ms\n",
      "Wall time: 5.47 ms\n",
      "CPU times: user 39.3 ms, sys: 1.85 ms, total: 41.1 ms\n",
      "Wall time: 40.6 ms\n"
     ]
    }
   ],
   "source": [
    "%time p1 = [prima(n) for i in angka]\n",
    "%time p2 = [prima_numba_njit(n) for i in angka]"
   ]
  },
  {
   "cell_type": "markdown",
   "metadata": {},
   "source": [
    "### Contoh 2"
   ]
  },
  {
   "cell_type": "code",
   "execution_count": 14,
   "metadata": {
    "tags": []
   },
   "outputs": [],
   "source": [
    "import numba\n",
    "import numpy as np"
   ]
  },
  {
   "cell_type": "code",
   "execution_count": 15,
   "metadata": {},
   "outputs": [],
   "source": [
    "def py_sum(x):\n",
    "    hasil = 0\n",
    "    for i in range(len(x)):\n",
    "        hasil = hasil + x[i]\n",
    "    return hasil"
   ]
  },
  {
   "cell_type": "code",
   "execution_count": 16,
   "metadata": {},
   "outputs": [],
   "source": [
    "@numba.jit(nopython=True) # Decorator Numba\n",
    "def numba_sum(x):\n",
    "    hasil = 0\n",
    "    for i in range(len(x)):\n",
    "        hasil = hasil + x[i]\n",
    "    return hasil"
   ]
  },
  {
   "cell_type": "code",
   "execution_count": 17,
   "metadata": {},
   "outputs": [
    {
     "data": {
      "text/plain": [
       "(100000,)"
      ]
     },
     "execution_count": 17,
     "metadata": {},
     "output_type": "execute_result"
    }
   ],
   "source": [
    "# generating data\n",
    "x = np.random.randint(10, 100, 100_000)\n",
    "x.shape"
   ]
  },
  {
   "cell_type": "code",
   "execution_count": 18,
   "metadata": {},
   "outputs": [
    {
     "name": "stdout",
     "output_type": "stream",
     "text": [
      "7.36 ms ± 49.7 µs per loop (mean ± std. dev. of 7 runs, 100 loops each)\n"
     ]
    }
   ],
   "source": [
    "%timeit py_sum(x)"
   ]
  },
  {
   "cell_type": "code",
   "execution_count": 19,
   "metadata": {},
   "outputs": [
    {
     "name": "stdout",
     "output_type": "stream",
     "text": [
      "16.2 µs ± 16 ns per loop (mean ± std. dev. of 7 runs, 100,000 loops each)\n"
     ]
    }
   ],
   "source": [
    "%timeit numba_sum(x)"
   ]
  },
  {
   "cell_type": "markdown",
   "metadata": {},
   "source": [
    "### Benchmark Vektor Python vs NumPy vs Numba"
   ]
  },
  {
   "cell_type": "code",
   "execution_count": 20,
   "metadata": {},
   "outputs": [],
   "source": [
    "import numpy as np\n",
    "import numba\n",
    "from time import time"
   ]
  },
  {
   "cell_type": "code",
   "execution_count": 21,
   "metadata": {},
   "outputs": [],
   "source": [
    "def vekPy(a, b, c, d):\n",
    "    for i in range(a.shape[0]):\n",
    "        a[i] = b[i] + c[i] * d[i]\n",
    "\n",
    "def vekNumpy(a, b, c, d):\n",
    "    a[:] = b + c * d\n",
    "    \n",
    "@numba.njit\n",
    "def vekNumba(a, b, c, d):\n",
    "    for i in range(a.shape[0]):\n",
    "        a[i] = b[i] + c[i] * d[i]"
   ]
  },
  {
   "cell_type": "code",
   "execution_count": 22,
   "metadata": {},
   "outputs": [],
   "source": [
    "## Inisialisasi\n",
    "\n",
    "n = 10000 # ukuran vektor\n",
    "r = 100 # jumlah iterasi\n",
    "\n",
    "a = np.zeros(n, dtype=np.float64)\n",
    "b = np.empty_like(a)\n",
    "b[:] = 1.0\n",
    "c = np.empty_like(a)\n",
    "c[:] = 1.0\n",
    "d = np.empty_like(a)\n",
    "d[:] = 1.0"
   ]
  },
  {
   "cell_type": "markdown",
   "metadata": {},
   "source": [
    "**Python**"
   ]
  },
  {
   "cell_type": "code",
   "execution_count": 23,
   "metadata": {},
   "outputs": [
    {
     "name": "stdout",
     "output_type": "stream",
     "text": [
      "Python: 9.827328959700093 MFlops/sec\n"
     ]
    }
   ],
   "source": [
    "start = time()\n",
    "\n",
    "for i in range(r):\n",
    "    vekPy(a,b,c,d)\n",
    "end = time()\n",
    "\n",
    "mflops = 2.0 * r * n / ((end - start) * 1e6)\n",
    "print(\"Python: {} MFlops/sec\".format(mflops))"
   ]
  },
  {
   "cell_type": "markdown",
   "metadata": {},
   "source": [
    "**Numpy**"
   ]
  },
  {
   "cell_type": "code",
   "execution_count": 24,
   "metadata": {},
   "outputs": [
    {
     "name": "stdout",
     "output_type": "stream",
     "text": [
      "Numpy: 1344.112802435507 MFlops/sec\n"
     ]
    }
   ],
   "source": [
    "start = time()\n",
    "\n",
    "for i in range(r):\n",
    "    vekNumpy(a,b,c,d)\n",
    "\n",
    "mflops = 2.0 * r * n / ((time() - start) * 1e6)\n",
    "print(\"Numpy: {} MFlops/sec\".format(mflops))"
   ]
  },
  {
   "cell_type": "markdown",
   "metadata": {},
   "source": [
    "**Numba**"
   ]
  },
  {
   "cell_type": "code",
   "execution_count": 25,
   "metadata": {},
   "outputs": [
    {
     "name": "stdout",
     "output_type": "stream",
     "text": [
      "Numba: 55.841036325995354 MFlops/sec\n"
     ]
    }
   ],
   "source": [
    "start = time()\n",
    "\n",
    "for i in range(r):\n",
    "    vekNumba(a,b,c,d)\n",
    "\n",
    "mflops = 2.0 * r * n / ((time() - start) * 1e6)\n",
    "print(\"Numba: {} MFlops/sec\".format(mflops))"
   ]
  },
  {
   "cell_type": "markdown",
   "metadata": {},
   "source": [
    "### Latihan\n",
    "\n",
    "Buat fungsi `numba_sum(x, y)` untuk menghitung jarak-$L_1$ \n",
    "\n",
    "$$\n",
    "L_1 = \\sum_{i=0}^{N-1} |x_i - y_i|.\n",
    "$$\n",
    "\n",
    "Kemudian, buat perbandingan waktu komputasi antara **python original**, menggunakan **numpy.sum**, dan **numba**. Gunakan modul `from time import time` untuk menghitung waktu eksekusinya."
   ]
  },
  {
   "cell_type": "markdown",
   "metadata": {},
   "source": [
    "Jalankan 10 kali perhitungan di atas dan simpan hasilnya kemudian tampilkan nilai rata-rata dan standard deviasi dari perhitungan tersebut."
   ]
  },
  {
   "cell_type": "code",
   "execution_count": 26,
   "metadata": {},
   "outputs": [
    {
     "ename": "NameError",
     "evalue": "name 'hasil_py_sum' is not defined",
     "output_type": "error",
     "traceback": [
      "\u001b[0;31m---------------------------------------------------------------------------\u001b[0m",
      "\u001b[0;31mNameError\u001b[0m                                 Traceback (most recent call last)",
      "Input \u001b[0;32mIn [26]\u001b[0m, in \u001b[0;36m<cell line: 1>\u001b[0;34m()\u001b[0m\n\u001b[0;32m----> 1\u001b[0m \u001b[38;5;28mprint\u001b[39m(\u001b[43mhasil_py_sum\u001b[49m)\n\u001b[1;32m      2\u001b[0m \u001b[38;5;28mprint\u001b[39m(hasil_np_sum)\n\u001b[1;32m      3\u001b[0m \u001b[38;5;28mprint\u001b[39m(hasil_numba_sum)\n",
      "\u001b[0;31mNameError\u001b[0m: name 'hasil_py_sum' is not defined"
     ]
    }
   ],
   "source": [
    "print(hasil_py_sum)\n",
    "print(hasil_np_sum)\n",
    "print(hasil_numba_sum)"
   ]
  },
  {
   "cell_type": "markdown",
   "metadata": {},
   "source": [
    "### Contoh 3"
   ]
  },
  {
   "cell_type": "code",
   "execution_count": null,
   "metadata": {},
   "outputs": [],
   "source": [
    "import math\n",
    "\n",
    "@numba.njit(['boolean(int64)', 'boolean(int32)', 'boolean(int16)'])\n",
    "def prima_numba_eager(n):\n",
    "    if n <= 1:\n",
    "        raise ArithmeticError('n <= 1')\n",
    "    if n == 2 or n == 3:\n",
    "        return True\n",
    "    elif n % 2 == 0:\n",
    "        return False\n",
    "    else:\n",
    "        n_sqrt = math.ceil(math.sqrt(n))\n",
    "        for i in range(3, n_sqrt+1):\n",
    "            if n % i == 0:\n",
    "                return False\n",
    "    \n",
    "    return True"
   ]
  },
  {
   "cell_type": "code",
   "execution_count": null,
   "metadata": {},
   "outputs": [],
   "source": [
    "prima_numba_eager.signatures"
   ]
  },
  {
   "cell_type": "code",
   "execution_count": null,
   "metadata": {},
   "outputs": [],
   "source": [
    "rng = np.random.default_rng()"
   ]
  },
  {
   "cell_type": "code",
   "execution_count": null,
   "metadata": {},
   "outputs": [],
   "source": [
    "angka = rng.integers(2, 1000_000, size=10000)\n",
    "%time p1 = [prima_numba_eager(n) for i in angka]\n",
    "%time p2 = [prima_numba_eager(n) for i in angka]"
   ]
  },
  {
   "cell_type": "code",
   "execution_count": null,
   "metadata": {},
   "outputs": [],
   "source": [
    "p1 = [prima_numba_eager(n) for i in angka.astype(np.int32)]\n",
    "p2 = [prima_numba_eager(n) for i in angka.astype(np.float64)]"
   ]
  },
  {
   "cell_type": "markdown",
   "metadata": {},
   "source": [
    "## Parallel Computing dengan Numba\n",
    "\n",
    "![](https://github.com/bsotomayorg/Intro_HPC_Python/blob/main/notebooks/imgs/slides_d2/046.PNG?raw=1)"
   ]
  },
  {
   "cell_type": "markdown",
   "metadata": {},
   "source": [
    "### Contoh 1"
   ]
  },
  {
   "cell_type": "code",
   "execution_count": null,
   "metadata": {},
   "outputs": [],
   "source": [
    "import numpy as np\n",
    "import numba"
   ]
  },
  {
   "cell_type": "code",
   "execution_count": null,
   "metadata": {},
   "outputs": [],
   "source": [
    "def deret_serial(x):\n",
    "    hasil = 0\n",
    "    for i in range(x.shape[0]):\n",
    "        hasil = hasil + x[i]\n",
    "    return hasil"
   ]
  },
  {
   "cell_type": "code",
   "execution_count": null,
   "metadata": {},
   "outputs": [],
   "source": [
    "def deret_numpy(x):\n",
    "    return np.sum(x)"
   ]
  },
  {
   "cell_type": "code",
   "execution_count": null,
   "metadata": {},
   "outputs": [],
   "source": [
    "@numba.njit(parallel=True)\n",
    "def deret_paralel(x):\n",
    "    hasil = 0\n",
    "    for i in numba.prange(x.shape[0]):\n",
    "        hasil = hasil + x[i]\n",
    "    return hasil"
   ]
  },
  {
   "cell_type": "code",
   "execution_count": null,
   "metadata": {},
   "outputs": [],
   "source": [
    "x = np.random.randint(1, 100, size=1000_000)"
   ]
  },
  {
   "cell_type": "code",
   "execution_count": null,
   "metadata": {},
   "outputs": [],
   "source": [
    "%timeit deret_serial(x)"
   ]
  },
  {
   "cell_type": "code",
   "execution_count": null,
   "metadata": {},
   "outputs": [],
   "source": [
    "%timeit deret_numpy(x)"
   ]
  },
  {
   "cell_type": "code",
   "execution_count": null,
   "metadata": {},
   "outputs": [],
   "source": [
    "%timeit deret_paralel(x)"
   ]
  },
  {
   "cell_type": "markdown",
   "metadata": {},
   "source": [
    "### Contoh 2: Mandelbrot Set\n",
    "\n",
    "```\n",
    "for each pixel (Px, Py) on the screen do\n",
    "    x0 := scaled x coordinate of pixel (scaled to lie in the Mandelbrot X scale (-2.00, 0.47))\n",
    "    y0 := scaled y coordinate of pixel (scaled to lie in the Mandelbrot Y scale (-1.12, 1.12))\n",
    "    x := 0.0\n",
    "    y := 0.0\n",
    "    iteration := 0\n",
    "    max_iteration := 1000\n",
    "    while (x*x + y*y ≤ 2*2 AND iteration < max_iteration) do\n",
    "        xtemp := x*x - y*y + x0\n",
    "        y := 2*x*y + y0\n",
    "        x := xtemp\n",
    "        iteration := iteration + 1\n",
    "    \n",
    "    color := palette[iteration]\n",
    "    plot(Px, Py, color)\n",
    "```"
   ]
  },
  {
   "cell_type": "code",
   "execution_count": null,
   "metadata": {},
   "outputs": [],
   "source": [
    "def mandelbrot(X, Y, maxiter):\n",
    "    mandel = np.empty(shape=X.shape, dtype=np.int32)\n",
    "    for i in range(X.shape[0]):\n",
    "        for j in range(X.shape[1]):\n",
    "            it = 0\n",
    "            cx = X[i, j]\n",
    "            cy = Y[i, j]\n",
    "            x = 0.0\n",
    "            y = 0.0\n",
    "            while x * x + y * y < 4.0 and it < maxiter:\n",
    "                xtemp = x * x - y * y + cx\n",
    "                y = 2.0 * x * y + cy\n",
    "                x = xtemp\n",
    "                it += 1\n",
    "            mandel[i, j] = it\n",
    "            \n",
    "    return mandel"
   ]
  },
  {
   "cell_type": "code",
   "execution_count": null,
   "metadata": {},
   "outputs": [],
   "source": [
    "X, Y = np.meshgrid(np.linspace(-2.0, 1.0, 1000), np.linspace(-1.0, 1.0, 1000))"
   ]
  },
  {
   "cell_type": "markdown",
   "metadata": {},
   "source": [
    "**Python**"
   ]
  },
  {
   "cell_type": "code",
   "execution_count": null,
   "metadata": {},
   "outputs": [],
   "source": [
    "%time m = mandelbrot(X, Y, 100)"
   ]
  },
  {
   "cell_type": "markdown",
   "metadata": {},
   "source": [
    "**Fraktal Mandelbrot**"
   ]
  },
  {
   "cell_type": "code",
   "execution_count": null,
   "metadata": {},
   "outputs": [],
   "source": [
    "fig = plt.figure(figsize=(7, 8))\n",
    "ax = fig.add_subplot(111)\n",
    "\n",
    "ax.set_aspect('equal')\n",
    "ax.set_ylabel('Im[c]')\n",
    "ax.set_xlabel('Re[c]')\n",
    "ax.imshow(m, extent=[-2.0, 1.0, -1.0, 1.0])\n",
    "\n",
    "plt.show()"
   ]
  },
  {
   "cell_type": "markdown",
   "metadata": {},
   "source": [
    "**Paralel Numba**"
   ]
  },
  {
   "cell_type": "code",
   "execution_count": null,
   "metadata": {},
   "outputs": [],
   "source": [
    "@numba.njit(parallel=True)\n",
    "def mandelbrot_numba(X, Y, maxiter):\n",
    "    mandel = np.empty(shape=X.shape, dtype=np.int32)\n",
    "    for i in numba.prange(X.shape[0]):\n",
    "        for j in numba.prange(Y.shape[1]):\n",
    "            it = 0\n",
    "            cx = X[i, j]\n",
    "            cy = Y[i, j]\n",
    "            x = 0.0\n",
    "            y = 0.0\n",
    "            while x * x + y * y < 4.0 and it < maxiter:\n",
    "                xtemp = x * x - y * y + cx\n",
    "                y = 2.0 * x * y + cy\n",
    "                x = xtemp\n",
    "                it += 1\n",
    "            mandel[i, j] = it\n",
    "            \n",
    "    return mandel"
   ]
  },
  {
   "cell_type": "code",
   "execution_count": null,
   "metadata": {},
   "outputs": [],
   "source": [
    "%time m_numba = mandelbrot_numba(X, Y, 100)"
   ]
  },
  {
   "cell_type": "code",
   "execution_count": null,
   "metadata": {},
   "outputs": [],
   "source": [
    "fig = plt.figure(figsize=(7, 8))\n",
    "ax = fig.add_subplot(111)\n",
    "\n",
    "ax.set_aspect('equal')\n",
    "ax.set_ylabel('Im[c]')\n",
    "ax.set_xlabel('Re[c]')\n",
    "ax.imshow(m_numba, extent=[-2.0, 1.0, -1.0, 1.0])\n",
    "\n",
    "plt.show()"
   ]
  },
  {
   "cell_type": "markdown",
   "metadata": {},
   "source": [
    "### Informasi tentang Paralel Numba"
   ]
  },
  {
   "cell_type": "code",
   "execution_count": null,
   "metadata": {},
   "outputs": [],
   "source": [
    "mandelbrot_numba.parallel_diagnostics(level=3)"
   ]
  },
  {
   "cell_type": "code",
   "execution_count": null,
   "metadata": {},
   "outputs": [],
   "source": []
  }
 ],
 "metadata": {
  "kernelspec": {
   "display_name": "Python 3 (ipykernel)",
   "language": "python",
   "name": "python3"
  },
  "language_info": {
   "codemirror_mode": {
    "name": "ipython",
    "version": 3
   },
   "file_extension": ".py",
   "mimetype": "text/x-python",
   "name": "python",
   "nbconvert_exporter": "python",
   "pygments_lexer": "ipython3",
   "version": "3.9.12"
  },
  "toc-autonumbering": false,
  "toc-showcode": false,
  "toc-showtags": false,
  "vscode": {
   "interpreter": {
    "hash": "53d5a6e36cc43c05634cd1771832eb144e71cf8056471b08a2f37e088ce7f261"
   }
  }
 },
 "nbformat": 4,
 "nbformat_minor": 4
}

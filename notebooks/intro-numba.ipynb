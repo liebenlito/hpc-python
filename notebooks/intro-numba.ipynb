{
 "cells": [
  {
   "cell_type": "code",
   "execution_count": 3,
   "metadata": {},
   "outputs": [],
   "source": [
    "import numpy as np\n",
    "\n",
    "def inner_rows(C,A,B):\n",
    "    for i in range(len(A)):\n",
    "        for j in range(len(A)):\n",
    "            C[i,j] = A[i,j] + B[i,j]\n",
    "\n",
    "def inner_cols(C,A,B):\n",
    "    for j in range(len(A)):\n",
    "        for i in range(len(A)):\n",
    "            C[i,j] = A[i,j] + B[i,j]\n",
    "\n",
    "\n",
    "def inner_alloc(C,A,B):\n",
    "    for i in range(len(A)):\n",
    "        for j in range(len(A)):\n",
    "            val = [A[i,j] + B[i,j]]\n",
    "            C[i,j] = val[0]\n"
   ]
  },
  {
   "cell_type": "code",
   "execution_count": 4,
   "metadata": {},
   "outputs": [],
   "source": [
    "A = np.random.rand(100,100)\n",
    "B = np.random.rand(100,100)\n",
    "C = np.random.rand(100,100)\n"
   ]
  },
  {
   "cell_type": "code",
   "execution_count": 5,
   "metadata": {},
   "outputs": [
    {
     "name": "stdout",
     "output_type": "stream",
     "text": [
      "3.34 ms ± 114 µs per loop (mean ± std. dev. of 7 runs, 100 loops each)\n",
      "3.29 ms ± 67.7 µs per loop (mean ± std. dev. of 7 runs, 100 loops each)\n",
      "3.8 ms ± 5.9 µs per loop (mean ± std. dev. of 7 runs, 100 loops each)\n"
     ]
    }
   ],
   "source": [
    "%timeit inner_rows(C,A,B)\n",
    "%timeit inner_cols(C,A,B)\n",
    "%timeit inner_alloc(C,A,B)"
   ]
  },
  {
   "cell_type": "code",
   "execution_count": 6,
   "metadata": {},
   "outputs": [],
   "source": [
    "%reload_ext memory_profiler"
   ]
  },
  {
   "cell_type": "code",
   "execution_count": 7,
   "metadata": {},
   "outputs": [
    {
     "name": "stdout",
     "output_type": "stream",
     "text": [
      "peak memory: 106.00 MiB, increment: 0.25 MiB\n",
      "peak memory: 106.00 MiB, increment: 0.00 MiB\n",
      "peak memory: 106.00 MiB, increment: 0.00 MiB\n"
     ]
    }
   ],
   "source": [
    "%memit inner_rows(C,A,B)\n",
    "%memit inner_cols(C,A,B)\n",
    "%memit inner_alloc(C,A,B)"
   ]
  },
  {
   "cell_type": "markdown",
   "metadata": {},
   "source": [
    "## Menggunakan Decorator JIT"
   ]
  },
  {
   "cell_type": "code",
   "execution_count": 8,
   "metadata": {},
   "outputs": [],
   "source": [
    "import numba\n",
    "import numpy as np"
   ]
  },
  {
   "cell_type": "code",
   "execution_count": 9,
   "metadata": {},
   "outputs": [],
   "source": [
    "def py_sum(x):\n",
    "    hasil = 0\n",
    "    for i in range(len(x)):\n",
    "        hasil = hasil + x[i]\n",
    "    return hasil"
   ]
  },
  {
   "cell_type": "code",
   "execution_count": 10,
   "metadata": {},
   "outputs": [],
   "source": [
    "@numba.jit(nopython=True) # Decorator Numba\n",
    "def numba_sum(x):\n",
    "    hasil = 0\n",
    "    for i in range(len(x)):\n",
    "        hasil = hasil + x[i]\n",
    "    return hasil"
   ]
  },
  {
   "cell_type": "code",
   "execution_count": 11,
   "metadata": {},
   "outputs": [
    {
     "data": {
      "text/plain": [
       "(100000,)"
      ]
     },
     "execution_count": 11,
     "metadata": {},
     "output_type": "execute_result"
    }
   ],
   "source": [
    "# generating data\n",
    "x = np.random.randint(10, 100, 100_000)\n",
    "x.shape"
   ]
  },
  {
   "cell_type": "code",
   "execution_count": 12,
   "metadata": {},
   "outputs": [
    {
     "name": "stdout",
     "output_type": "stream",
     "text": [
      "11.5 ms ± 162 µs per loop (mean ± std. dev. of 7 runs, 100 loops each)\n"
     ]
    }
   ],
   "source": [
    "%timeit py_sum(x)"
   ]
  },
  {
   "cell_type": "code",
   "execution_count": 13,
   "metadata": {},
   "outputs": [
    {
     "name": "stdout",
     "output_type": "stream",
     "text": [
      "26.6 µs ± 1.54 µs per loop (mean ± std. dev. of 7 runs, 1 loop each)\n"
     ]
    }
   ],
   "source": [
    "%timeit numba_sum(x)"
   ]
  },
  {
   "cell_type": "markdown",
   "metadata": {},
   "source": [
    "## Latihan\n",
    "\n",
    "Buat fungsi `numba_sum(x, y)` untuk menghitung jarak-$L_1$ \n",
    "\n",
    "$$\n",
    "L_1 = \\sum_{i=0}^{N-1} |x_i - y_i|.\n",
    "$$\n",
    "\n",
    "Kemudian, buat perbandingan waktu komputasi antara **python original**, menggunakan **numpy.sum**, dan **numba**. Gunakan modul `from time import time` untuk menghitung waktu eksekusinya."
   ]
  },
  {
   "cell_type": "code",
   "execution_count": 1,
   "metadata": {},
   "outputs": [],
   "source": [
    "import numpy as np\n",
    "import numba"
   ]
  },
  {
   "cell_type": "code",
   "execution_count": 2,
   "metadata": {},
   "outputs": [],
   "source": [
    "# Generate 1 juta bilangan random (0,9)\n",
    "x = np.random.randint(0, 9, 1_000_000)\n",
    "y = np.random.randint(0, 9, 1_000_000)"
   ]
  },
  {
   "cell_type": "code",
   "execution_count": 3,
   "metadata": {},
   "outputs": [],
   "source": [
    "def py_sum(x, y):\n",
    "    hasil = 0\n",
    "    for i in range(len(x)):\n",
    "        hasil = hasil + abs(x[i] - y[i])\n",
    "    return hasil"
   ]
  },
  {
   "cell_type": "code",
   "execution_count": 4,
   "metadata": {},
   "outputs": [],
   "source": [
    "@numba.njit\n",
    "def numba_sum(x, y):\n",
    "    hasil = 0\n",
    "    for i in range(len(x)):\n",
    "        hasil = hasil + abs(x[i] - y[i])\n",
    "    return hasil"
   ]
  },
  {
   "cell_type": "code",
   "execution_count": 5,
   "metadata": {},
   "outputs": [
    {
     "data": {
      "text/plain": [
       "2967748"
      ]
     },
     "execution_count": 5,
     "metadata": {},
     "output_type": "execute_result"
    }
   ],
   "source": [
    "py_sum(x, y)"
   ]
  },
  {
   "cell_type": "code",
   "execution_count": 6,
   "metadata": {},
   "outputs": [
    {
     "name": "stdout",
     "output_type": "stream",
     "text": [
      "waktu eksekusi python: 0.2772200107574463 detik\n",
      "waktu eksekusi numpy: 0.0044481754302978516 detik\n",
      "waktu eksekusi numba: 0.2458207607269287 detik\n"
     ]
    }
   ],
   "source": [
    "from time import time\n",
    "\n",
    "start = time()\n",
    "py_sum(x, y)\n",
    "exec_py = time() - start\n",
    "print(\"waktu eksekusi python: {} detik\".format(exec_py))\n",
    "\n",
    "start = time()\n",
    "np.sum(np.abs(x-y))\n",
    "exec_np = time() - start\n",
    "print(\"waktu eksekusi numpy: {} detik\".format(exec_np))\n",
    "\n",
    "start = time()\n",
    "numba_sum(x, y)\n",
    "exec_numba = time() - start\n",
    "print(\"waktu eksekusi numba: {} detik\".format(exec_numba))"
   ]
  },
  {
   "cell_type": "markdown",
   "metadata": {},
   "source": [
    "Jalankan 10 kali perhitungan di atas dan simpan hasilnya kemudian tampilkan nilai rata-rata dan standard deviasi dari perhitungan tersebut."
   ]
  },
  {
   "cell_type": "code",
   "execution_count": 7,
   "metadata": {},
   "outputs": [],
   "source": [
    "from time import time\n",
    "\n",
    "hasil_py_sum = np.zeros(shape=10)\n",
    "hasil_np_sum = np.zeros(shape=10)\n",
    "hasil_numba_sum = np.zeros(shape=10)\n",
    "\n",
    "for i in range(10):\n",
    "    start = time()\n",
    "    py_sum(x, y)\n",
    "    exec_py = time() - start\n",
    "    hasil_py_sum[i] = exec_py\n",
    "\n",
    "    start = time()\n",
    "    np.sum(np.abs(x-y))\n",
    "    exec_np = time() - start\n",
    "    hasil_np_sum[i] = exec_np\n",
    "\n",
    "    start = time()\n",
    "    numba_sum(x, y)\n",
    "    exec_numba = time() - start\n",
    "    hasil_numba_sum[i] = exec_numba\n"
   ]
  },
  {
   "cell_type": "code",
   "execution_count": 8,
   "metadata": {},
   "outputs": [
    {
     "name": "stdout",
     "output_type": "stream",
     "text": [
      "[0.27235818 0.26828504 0.26779318 0.26770687 0.26844525 0.26766396\n",
      " 0.26736617 0.26739883 0.2670362  0.26742101]\n",
      "[0.00675392 0.00316119 0.00300789 0.00273991 0.00275517 0.00270009\n",
      " 0.0031321  0.00319886 0.00269699 0.00277996]\n",
      "[0.00038505 0.00033212 0.00033307 0.00033522 0.00033212 0.00035882\n",
      " 0.00033498 0.00033402 0.00033379 0.00033498]\n"
     ]
    }
   ],
   "source": [
    "print(hasil_py_sum)\n",
    "print(hasil_np_sum)\n",
    "print(hasil_numba_sum)"
   ]
  },
  {
   "cell_type": "code",
   "execution_count": 12,
   "metadata": {},
   "outputs": [
    {
     "name": "stdout",
     "output_type": "stream",
     "text": [
      "Speedup (Python, Numba): mean = 786.9047638004301, std.dev = 31.537170359724144\n",
      "Speedup (NumPy, Numba): mean = 9.538970800399657, std.dev = 2.74688552921028\n"
     ]
    }
   ],
   "source": [
    "speedup_python = hasil_py_sum / hasil_numba_sum\n",
    "speedup_np = hasil_np_sum / hasil_numba_sum\n",
    "\n",
    "mean_py = np.mean(speedup_python)\n",
    "std_py = np.std(speedup_python)\n",
    "mean_np = np.mean(speedup_np)\n",
    "std_np = np.std(speedup_np)\n",
    "\n",
    "print(\"Speedup (Python, Numba): mean = {}, std.dev = {}\".format(mean_py, std_py))\n",
    "print(\"Speedup (NumPy, Numba): mean = {}, std.dev = {}\".format(mean_np, std_np))"
   ]
  },
  {
   "cell_type": "code",
   "execution_count": null,
   "metadata": {},
   "outputs": [],
   "source": []
  }
 ],
 "metadata": {
  "kernelspec": {
   "display_name": "Python 3.9.12 ('base')",
   "language": "python",
   "name": "python3"
  },
  "language_info": {
   "codemirror_mode": {
    "name": "ipython",
    "version": 3
   },
   "file_extension": ".py",
   "mimetype": "text/x-python",
   "name": "python",
   "nbconvert_exporter": "python",
   "pygments_lexer": "ipython3",
   "version": "3.9.12"
  },
  "orig_nbformat": 4,
  "vscode": {
   "interpreter": {
    "hash": "53d5a6e36cc43c05634cd1771832eb144e71cf8056471b08a2f37e088ce7f261"
   }
  }
 },
 "nbformat": 4,
 "nbformat_minor": 2
}

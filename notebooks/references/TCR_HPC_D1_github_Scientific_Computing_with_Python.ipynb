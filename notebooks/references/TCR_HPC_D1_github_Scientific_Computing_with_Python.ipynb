{
  "cells": [
    {
      "cell_type": "markdown",
      "metadata": {
        "id": "bN8iNUpfksXL"
      },
      "source": [
        "# Section 2: Scientific Computing with Python"
      ]
    },
    {
      "cell_type": "markdown",
      "metadata": {
        "id": "8L1N11obj1ym"
      },
      "source": [
        "## 2.1. Introduction to Scientific Computing\n",
        "\n"
      ]
    },
    {
      "cell_type": "markdown",
      "metadata": {
        "id": "IDpDKhd4JG2j"
      },
      "source": [
        "How is the process of analysing data ~(_besides a bit painful_)~? \n",
        "\n",
        "After data acquisition, we may need to clean our data before performing our analyses. Then, we transform our data and prepare it for data analysis. Here, we will be able to perform any additional analyses such as dimensionality reduction, pattern detection, etc. To understand the results of our computations, we will want to visualize them. This visualization can be either textual or geometrical. We can map objects from the results of these analyses into geometrical figures to summarize, understand, and extract knowledge from our data."
      ]
    },
    {
      "cell_type": "markdown",
      "metadata": {
        "id": "8Ag6tLznJG2j"
      },
      "source": [
        "<img src=\"https://github.com/bsotomayorg/Intro_HPC_Python/blob/main/notebooks/imgs/slides_d1/081.PNG?raw=1\" width=\"75%\" height=\"75%\" />"
      ]
    },
    {
      "cell_type": "markdown",
      "metadata": {
        "id": "dMThyFUjJG2k"
      },
      "source": [
        "This process is iterative: we may be performing a specific data analysis and then we can go back to preprocess and improve our filters, apply new normalizations, and so on. Thus, this process is iterative. Any improvement in our computations (e.g., execution time, accuracy) can affect the number of iterations we will need to perform in our study."
      ]
    },
    {
      "cell_type": "markdown",
      "metadata": {
        "id": "QNguWztHJG2k"
      },
      "source": [
        "### 2.1.1. Preprocessing"
      ]
    },
    {
      "cell_type": "markdown",
      "metadata": {
        "id": "5gqL4CP0JG2k"
      },
      "source": [
        "<img src=\"https://github.com/bsotomayorg/Intro_HPC_Python/blob/main/notebooks/imgs/slides_d1/083.PNG?raw=1\" width=\"80%\" height=\"80%\" />"
      ]
    },
    {
      "cell_type": "markdown",
      "metadata": {
        "id": "j3r8V8KzJG2l"
      },
      "source": [
        "As example in Machine Learning, this process involves:\n",
        "1. Getting the dataset.\n",
        "2. Importing libraries.\n",
        "3. Importing dataset.\n",
        "4. Encoding categorical data.\n",
        "5. Finding missing data.\n",
        "6. Splitting dataset into training and test set.\n",
        "7. Feature scaling."
      ]
    },
    {
      "cell_type": "markdown",
      "metadata": {
        "id": "upej_ipgJG2m"
      },
      "source": [
        "### 2.1.2. Data Analysis"
      ]
    },
    {
      "cell_type": "markdown",
      "metadata": {
        "id": "kjd8jbnwJG2m"
      },
      "source": [
        "<img src=\"https://github.com/bsotomayorg/Intro_HPC_Python/blob/main/notebooks/imgs/slides_d1/084.PNG?raw=1\" width=\"80%\" height=\"80%\" />"
      ]
    },
    {
      "cell_type": "markdown",
      "metadata": {
        "id": "uOnyyO1KJG2n"
      },
      "source": [
        "For example, imagine we have a dataset with million of tweets about an specific we can study the social media. There are many studies about tweets and social activities.\n",
        "\n",
        "Using text analysis techniques (finding topics in large-scale datasets, or sentiment analysis as well), we can extract knowledge via text analysis, sentiment analysis, topic modelling, principal components extraction via PCA, and so on. Any of this analyses requires a previous preprocess to ensure the quality and veracity of our findings.\n",
        "\n",
        "That also happens in other areas of science and data sources, such as Genomic Analysis, Experimental analysis.\n"
      ]
    },
    {
      "cell_type": "markdown",
      "metadata": {
        "id": "CEOekDbmJG2n"
      },
      "source": [
        "### 2.1.3. Visualization"
      ]
    },
    {
      "cell_type": "markdown",
      "metadata": {
        "id": "eprtlywIJG2o"
      },
      "source": [
        "<img src=\"https://github.com/bsotomayorg/Intro_HPC_Python/blob/main/notebooks/imgs/slides_d1/085.PNG?raw=1\" width=\"80%\" height=\"80%\" />"
      ]
    },
    {
      "cell_type": "markdown",
      "metadata": {
        "id": "s1leecIxJG2o"
      },
      "source": [
        "We need to see our results either as text or plot. For that, we transform the data into geometrical objects. This process is known as Visual mappings.\n",
        "\n",
        "What is the idea? It allows us to:\n",
        "+ Identify errors and inaccuracies in data quickly.\n",
        "+ Improve storytelling and select the right message for the audience.\n",
        "+ Making Sense of complicated Data.\n",
        "+ Detect and highlight trends and outliers from data."
      ]
    },
    {
      "cell_type": "markdown",
      "metadata": {
        "id": "PworPof12ROO"
      },
      "source": [
        "## 2.2. Python libraries for scientific computing: Numpy, Scipy, and Matplotlib "
      ]
    },
    {
      "cell_type": "markdown",
      "metadata": {
        "id": "NR76RXfA2s0Y"
      },
      "source": [
        "### 2.2.1. NumPy"
      ]
    },
    {
      "cell_type": "markdown",
      "metadata": {
        "id": "rYtsFi6dJG2o"
      },
      "source": [
        "### 2.2.1.1. Introduction\n",
        "\n",
        "NumPy (**Num**erical **Py**thon) is a scientific computing package. It provides functions to do linear algebra, matrix computations, and speeds up data analysis."
      ]
    },
    {
      "cell_type": "markdown",
      "metadata": {
        "id": "Er9eAR5SJG2p"
      },
      "source": [
        "<img src=\"https://github.com/bsotomayorg/Intro_HPC_Python/blob/main/notebooks/imgs/slides_d1/086.PNG?raw=1\" width=\"80%\" height=\"80%\" />"
      ]
    },
    {
      "cell_type": "markdown",
      "metadata": {
        "id": "fPW6rQe-JG2p"
      },
      "source": [
        "### 2.2.1.2. Main features"
      ]
    },
    {
      "cell_type": "markdown",
      "metadata": {
        "id": "GiX-AGq1JG2p"
      },
      "source": [
        "\n",
        "<img src=\"https://github.com/bsotomayorg/Intro_HPC_Python/blob/main/notebooks/imgs/slides_d1/091.PNG?raw=1\" width=\"80%\" height=\"80%\" />"
      ]
    },
    {
      "cell_type": "markdown",
      "metadata": {
        "id": "QA28fH-c3T8g"
      },
      "source": [
        "#### 2.2.1.1. How to use NumPy?"
      ]
    },
    {
      "cell_type": "markdown",
      "metadata": {
        "id": "3mfuT3Mk3SSY"
      },
      "source": [
        "We need to import numpy as follows:"
      ]
    },
    {
      "cell_type": "code",
      "execution_count": null,
      "metadata": {
        "id": "T7qpUf2x3ZBB"
      },
      "outputs": [],
      "source": [
        "import numpy as np\n",
        "print(np.__version__) # it shows our numpy version"
      ]
    },
    {
      "cell_type": "markdown",
      "metadata": {
        "id": "xrDhUGuQ3iqI"
      },
      "source": [
        "Here we added an alias just to simplify the way we call each function (i.e, `np.function_name()` instead of `numpy.function_name()`)."
      ]
    },
    {
      "cell_type": "markdown",
      "metadata": {
        "id": "v-cs_i2N3m-R"
      },
      "source": [
        "#### 2.2.1.2 Basic operations"
      ]
    },
    {
      "cell_type": "markdown",
      "metadata": {
        "id": "pPWTL5U33tEZ"
      },
      "source": [
        "Starting from the basics, how we create an array? We specified a Python list as the input parameter:"
      ]
    },
    {
      "cell_type": "code",
      "execution_count": null,
      "metadata": {
        "id": "JnpHKgHo2K31"
      },
      "outputs": [],
      "source": [
        "# creating arrays\n",
        "a = np.array([1,4,7])\n",
        "print(a)\n",
        "print(type(a))"
      ]
    },
    {
      "cell_type": "markdown",
      "metadata": {
        "id": "v-vnYhJL4Br6"
      },
      "source": [
        "Now `a` is an instance of the class `ndarray` (N-dimensional array). In this case, it is a 1D array. \n",
        "\n",
        "We can also create 2D arrays or with even higher dimensions:"
      ]
    },
    {
      "cell_type": "code",
      "execution_count": null,
      "metadata": {
        "id": "NHIrFkJA3zm6"
      },
      "outputs": [],
      "source": [
        "b = np.array([[1,2,3],[4,6,8]])\n",
        "print(b)\n",
        "print(type(b))"
      ]
    },
    {
      "cell_type": "markdown",
      "metadata": {
        "id": "vCKaD_qq4Q6y"
      },
      "source": [
        "**Inspecting your array**"
      ]
    },
    {
      "cell_type": "markdown",
      "metadata": {
        "id": "8Vihq-A74ULB"
      },
      "source": [
        "We can use some _attributes_ of our array as follows:"
      ]
    },
    {
      "cell_type": "code",
      "execution_count": null,
      "metadata": {
        "id": "rZCD-4mb4GrG"
      },
      "outputs": [],
      "source": [
        "print(a)\n",
        "print(\"array dimensions           \", a.shape) \n",
        "print(\"length of array            \", len(a) ) \n",
        "print(\"number of array dimensions \", a.ndim )\n",
        "print(\"number of array elements   \", a.size )\n",
        "print(\"Data type of array elements\", a.dtype)"
      ]
    },
    {
      "cell_type": "markdown",
      "metadata": {
        "id": "wNCHOfLHQsb9"
      },
      "source": [
        "**Copying Arrays**"
      ]
    },
    {
      "cell_type": "code",
      "execution_count": null,
      "metadata": {
        "id": "nL0vPnr4Qsb-"
      },
      "outputs": [],
      "source": [
        "# aggregate functions\n",
        "h      = a.view()   # create a view of the array with the same data\n",
        "a_copy = np.copy(a) # create a copy of the array\n",
        "print (\"h     :\", h)\n",
        "h += 1\n",
        "print (\"h     :\", h)\n",
        "print (\"a     :\", a) # we modified the array by operating the view `h`\n",
        "print (\"a_copy:\", a_copy)"
      ]
    },
    {
      "cell_type": "markdown",
      "metadata": {
        "id": "SQA32E3W4--b"
      },
      "source": [
        "Note: Be sure of copying an array in case you want a copy of it. If you do `new_array = old_array`, `old_array` will be modified after any operation you do over `new_array`."
      ]
    },
    {
      "cell_type": "markdown",
      "metadata": {
        "id": "dEDgIARi4uQC"
      },
      "source": [
        "**Aggregate functions**"
      ]
    },
    {
      "cell_type": "code",
      "execution_count": null,
      "metadata": {
        "id": "ajwQY4wo4WPa"
      },
      "outputs": [],
      "source": [
        "# aggregate functions\n",
        "print (\"Array-wise sum           :\", np.sum(a))\n",
        "print (\"Array-wise minimum value :\", np.min(a))\n",
        "print (\"Array-wise maximum value :\", np.max(a))\n",
        "print (\"Array-wise cumulative sum:\", np.cumsum(a))\n",
        "print (\"Array-wise mean          :\", np.mean(a))\n",
        "print (\"Array-wise median        :\", np.median(a))\n",
        "print (\"Array-wise std           :\", np.std(a))"
      ]
    },
    {
      "cell_type": "markdown",
      "metadata": {
        "id": "m_O9Ch2qSmoy"
      },
      "source": [
        "**Sorting Arrays**"
      ]
    },
    {
      "cell_type": "code",
      "execution_count": null,
      "metadata": {
        "id": "W0REIxEtSmoz"
      },
      "outputs": [],
      "source": [
        "x = np.array([6,1,4,3,5,2,7])\n",
        "print(x)\n",
        "x = np.sort(x)\n",
        "print(x)"
      ]
    },
    {
      "cell_type": "code",
      "execution_count": null,
      "metadata": {
        "id": "h_6HN9AFTk0l"
      },
      "outputs": [],
      "source": [
        "x = np.array([[6,1,4,3,5,2,7],[4,1,3,2,1,4,3]])\n",
        "print (\"x\\n\", x)\n",
        "\n",
        "x = np.sort(x, axis=0)\n",
        "print (\"sort (axis=0)\\n\", x)\n",
        "\n",
        "x = np.array([[6,1,4,3,5,2,7],[4,1,3,2,1,4,3]])\n",
        "x = np.sort(x, axis=1)\n",
        "print (\"sort (axis=1)\\n\", x)"
      ]
    },
    {
      "cell_type": "markdown",
      "metadata": {
        "id": "ihxBivtdbKF7"
      },
      "source": [
        "**Slicing**"
      ]
    },
    {
      "cell_type": "code",
      "execution_count": null,
      "metadata": {
        "id": "dUpRaMkObKF8"
      },
      "outputs": [],
      "source": [
        "a = np.array([8,4,7,9,1,5,2,3])\n",
        "\n",
        "# subsetting\n",
        "print (\"a      \", a   )\n",
        "print (\"a[0]   \", a[0])\n",
        "print (\"a[2]   \", a[2])\n",
        "print (\"a[-1]  \", a[-1])\n",
        "\n",
        "# slicing\n",
        "print (\"a[::-1]\", a[::-1])\n",
        "print (\"a[::2] \", a[::2])\n",
        "print (\"a[::-2]\", a[::-2])\n",
        "print (\"a[1:4] \", a[1:4])"
      ]
    },
    {
      "cell_type": "code",
      "execution_count": null,
      "metadata": {
        "id": "PPb9f8R8fuoy"
      },
      "outputs": [],
      "source": [
        "b = np.array([[8,4,7,9,1,5,2,3],[3,4,5,3,4,5,1,2]])\n",
        "print (\"b\\n \", b   )\n",
        "print (\"b[0,1:4] \", b[0,1:4])\n",
        "print (\"b[1,1:4] \", b[1,1:4])"
      ]
    },
    {
      "cell_type": "code",
      "execution_count": null,
      "metadata": {
        "id": "CUdeoFewiMnq"
      },
      "outputs": [],
      "source": [
        "# boolean indexing\n",
        "b = np.array([[8,4,7,9,1,5,2,3],[3,4,5,3,4,5,1,2]])\n",
        "bool_indices = b < 5\n",
        "print (\"b[b < 5]\\n \", b[0][bool_indices[0]]   )\n",
        "print (\"b[b < 5]\\n \", b[1][bool_indices[1]]   )\n",
        "print (\"b[b < 5]\\n \", b[bool_indices]   )"
      ]
    },
    {
      "cell_type": "markdown",
      "metadata": {
        "id": "r2_wRHth56Mk"
      },
      "source": [
        "#### 2.2.1.3 Measuring speed-up!"
      ]
    },
    {
      "cell_type": "code",
      "execution_count": null,
      "metadata": {
        "id": "7kLVYBpwsokt"
      },
      "outputs": [],
      "source": [
        "a_py = [2, 6, 7, 1, 6, 2, 0, 2, 0, 3, 4, 2, 9, 3, 4, 7, 5, 8, 1, 8, 3, 5, 2, 1, 1, 3, 0, 7, 4, 8]\n",
        "b_py = 10\n",
        "print (\"a_py\", a_py)\n",
        "print (\"b_py\", b_py)"
      ]
    },
    {
      "cell_type": "markdown",
      "metadata": {
        "id": "wl62_H-W2seU"
      },
      "source": [
        "In this case, we have a Python list called `a_py` and an scalar (integer) `b_py = 2`.\n",
        "\n",
        "If we want to multiply each element of the list, then we need to access each element in a loop (e.g., `while`, `for`)."
      ]
    },
    {
      "cell_type": "code",
      "execution_count": null,
      "metadata": {
        "id": "knVyzsZUuGUX"
      },
      "outputs": [],
      "source": [
        "def py_multiply(a, b):\n",
        "    c = [] # creating empty list `c`\n",
        "\n",
        "    # we will go throught each element of the lists `a` and compute c = a * b\n",
        "    for i in range(len(a)):\n",
        "        c.append(a[i]*b)\n",
        "\n",
        "    return c\n",
        "\n",
        "print(py_multiply(a_py, b_py))"
      ]
    },
    {
      "cell_type": "markdown",
      "metadata": {
        "id": "juEFRJPQ7abR"
      },
      "source": [
        "Now, let's convert a list into an array and multiply `a` and `b`. "
      ]
    },
    {
      "cell_type": "code",
      "execution_count": null,
      "metadata": {
        "id": "vAWv6DfmuGaX"
      },
      "outputs": [],
      "source": [
        "# creating arrays\n",
        "a = np.array(a_py) # <class 'numpy.ndarray'>"
      ]
    },
    {
      "cell_type": "code",
      "execution_count": null,
      "metadata": {
        "id": "P_vl5IRrwOMr"
      },
      "outputs": [],
      "source": [
        "c = a * b_py\n",
        "print(c)"
      ]
    },
    {
      "cell_type": "markdown",
      "metadata": {
        "id": "pmMfvupCNpnx"
      },
      "source": [
        "Did we improve the performance of such computation?"
      ]
    },
    {
      "cell_type": "code",
      "execution_count": null,
      "metadata": {
        "id": "hONqyuncNta1"
      },
      "outputs": [],
      "source": [
        "%timeit py_multiply(a, b) "
      ]
    },
    {
      "cell_type": "code",
      "execution_count": null,
      "metadata": {
        "id": "5BQTVQHENtVQ"
      },
      "outputs": [],
      "source": [
        "%timeit a*b_py"
      ]
    },
    {
      "cell_type": "markdown",
      "metadata": {
        "id": "xMC0PMYVF7Ps"
      },
      "source": [
        "As you can see, here we improved the performance by avoiding any `for` loops in our code. \n",
        "\n",
        "That happened because Numpy is optimized to operates with matrix and N-dimensional arrays. \n",
        "\n"
      ]
    },
    {
      "cell_type": "markdown",
      "metadata": {
        "id": "O5-Qdqay5Lq8"
      },
      "source": [
        "#### 2.2.1.3 Advanced features\n",
        "\n",
        "\n"
      ]
    },
    {
      "cell_type": "markdown",
      "metadata": {
        "id": "idMeckYIJG2w"
      },
      "source": [
        "<img src=\"https://github.com/bsotomayorg/Intro_HPC_Python/blob/main/notebooks/imgs/slides_d1/097.PNG?raw=1\" width=\"70%\" height=\"70%\" />"
      ]
    },
    {
      "cell_type": "markdown",
      "metadata": {
        "id": "NasbZ-W5irgH"
      },
      "source": [
        "##### 2.2.1.3.1 Broadcasting"
      ]
    },
    {
      "cell_type": "code",
      "execution_count": null,
      "metadata": {
        "id": "vwruSi5lzimE"
      },
      "outputs": [],
      "source": [
        "A = np.arange(0, 36, 1, dtype=int).reshape(3,4,3)\n",
        "print(A)"
      ]
    },
    {
      "cell_type": "markdown",
      "metadata": {
        "id": "uYH1aIzOyhuB"
      },
      "source": [
        "<img src=\"https://files.realpython.com/media/arr3d.7442cd4e11c6.jpg\" alt=\"drawing\" width=\"500\"/>\n",
        "\n",
        "(_Image source: [RealPython.com](https://realpython.com/numpy-array-programming/)_)"
      ]
    },
    {
      "cell_type": "code",
      "execution_count": null,
      "metadata": {
        "id": "OCVVDggb1Erd"
      },
      "outputs": [],
      "source": [
        "b = 3\n",
        "\n",
        "print(A*b)"
      ]
    },
    {
      "cell_type": "markdown",
      "metadata": {
        "id": "mCfyZOHd6SIe"
      },
      "source": [
        "----"
      ]
    },
    {
      "cell_type": "markdown",
      "metadata": {
        "id": "adwX8vOkQTTI"
      },
      "source": [
        "##### 2.2.1.3.2 Indexing"
      ]
    },
    {
      "cell_type": "markdown",
      "metadata": {
        "id": "-6U_d2x4REpj"
      },
      "source": [
        "**np.non-zero(`my_array`)**"
      ]
    },
    {
      "cell_type": "code",
      "execution_count": null,
      "metadata": {
        "id": "jUtuA_Y9QndU"
      },
      "outputs": [],
      "source": [
        "A = np.random.randint(10, size=50)\n",
        "print(A)"
      ]
    },
    {
      "cell_type": "code",
      "execution_count": null,
      "metadata": {
        "id": "uj3fFxrDQl0G"
      },
      "outputs": [],
      "source": [
        "sel_index = np.nonzero(A)[0]"
      ]
    },
    {
      "cell_type": "code",
      "execution_count": null,
      "metadata": {
        "id": "5-DDzeTUQ_ws"
      },
      "outputs": [],
      "source": [
        "A[sel_index]"
      ]
    },
    {
      "cell_type": "markdown",
      "metadata": {
        "id": "TXVgm9vcR28X"
      },
      "source": [
        "**np.where(`condition`)**"
      ]
    },
    {
      "cell_type": "code",
      "execution_count": null,
      "metadata": {
        "id": "_lO4BpJxSElv"
      },
      "outputs": [],
      "source": [
        "sel_index = np.where(A < 5)[0]"
      ]
    },
    {
      "cell_type": "code",
      "execution_count": null,
      "metadata": {
        "id": "ohmB3bewSVqC"
      },
      "outputs": [],
      "source": [
        "A[sel_index]"
      ]
    },
    {
      "cell_type": "markdown",
      "metadata": {
        "id": "GhN8WIFYSiAO"
      },
      "source": [
        "Note: `A < 5` is an array of booleans!"
      ]
    },
    {
      "cell_type": "markdown",
      "metadata": {
        "id": "J7lL2uVpRmvo"
      },
      "source": [
        "You can find the full list of functions [here!](https://numpy.org/doc/stable/reference/arrays.indexing.html)."
      ]
    },
    {
      "cell_type": "markdown",
      "metadata": {
        "id": "b4_gULVgjM8L"
      },
      "source": [
        "##### 2.2.1.3.3 Vectorization\n",
        "\n",
        "Vectorization, also known as \"_Array Programming_\", allow us to **express operations in terms of entire arrays** rather than individual elements.\n",
        "\n",
        "This is another way to improve the speed-up of your code.\n",
        "\n",
        "There is a concise definition:\n",
        "\n",
        "> \"_This practice of replacing explicit loops with array expressions is commonly referred to as vectorization. In general, vectorized array operations will often be one or two (or more) orders of magnitude faster than their pure Python equivalents, with the biggest impact [seen] in any kind of numerical computations.\"_, Wes McKinney.\n",
        "\n",
        "So here we want to replace explicit `for`-loops with array expressions, and use Numpy's low-level functions for computing.\n",
        "\n",
        "How we do that? It depends of the problem we want to solve."
      ]
    },
    {
      "cell_type": "markdown",
      "metadata": {
        "id": "pSFPYjvStCAX"
      },
      "source": [
        "Let's see an Example:\n",
        "\n",
        "Imagine that you have a binary signal (1s and 0s, integers) and need to count the amount of transitions from 0 to 1.\n",
        "\n"
      ]
    },
    {
      "cell_type": "code",
      "execution_count": null,
      "metadata": {
        "id": "AfPwuaMbTftx"
      },
      "outputs": [],
      "source": [
        "# generating data\n",
        "x = np.random.randint(2, size=10_000, dtype=int) #np.random.choice([False, True], size=100000) "
      ]
    },
    {
      "cell_type": "markdown",
      "metadata": {
        "id": "rzGTYE1sxCTF"
      },
      "source": [
        "Then, we can define a function `count_transitions_py(x)` that computes from a binary array the amount of transitions from False to True."
      ]
    },
    {
      "cell_type": "code",
      "execution_count": null,
      "metadata": {
        "id": "bv8jx4wCtVSM"
      },
      "outputs": [],
      "source": [
        "def count_transitions_py(x):\n",
        "    count = 0\n",
        "    for i in range(1,len(x)):\n",
        "    if (x[i-1] == 0 and x[i] == 1):\n",
        "    #if (x[i-1] == True and x[i]==False)# or (x[i-1] == False and x[i] == True):\n",
        "      count = count + 1\n",
        "    return count"
      ]
    },
    {
      "cell_type": "code",
      "execution_count": null,
      "metadata": {
        "id": "lk-vfI8judka"
      },
      "outputs": [],
      "source": [
        "count_transitions_py(x)"
      ]
    },
    {
      "cell_type": "markdown",
      "metadata": {
        "id": "2taQXGAdJG2z"
      },
      "source": [
        "Another way to solve it is by thinking in terms of arrays:"
      ]
    },
    {
      "cell_type": "markdown",
      "metadata": {
        "id": "3bJsyL0eJG2z"
      },
      "source": [
        "\n",
        "<img src=\"https://github.com/bsotomayorg/Intro_HPC_Python/blob/main/notebooks/imgs/slides_d1/095.PNG?raw=1\" width=\"60%\" height=\"60%\" />\n"
      ]
    },
    {
      "cell_type": "markdown",
      "metadata": {
        "id": "OYDt6NEvJG2z"
      },
      "source": [
        "Then,"
      ]
    },
    {
      "cell_type": "code",
      "execution_count": null,
      "metadata": {
        "id": "SJmYQuQSuRTP"
      },
      "outputs": [],
      "source": [
        "np.sum((x[1:]==1) & (x[:-1]==0))"
      ]
    },
    {
      "cell_type": "code",
      "execution_count": null,
      "metadata": {
        "id": "Z5Nd5drrvUA3"
      },
      "outputs": [],
      "source": [
        "np.count_nonzero(x[:-1] < x[1:])"
      ]
    },
    {
      "cell_type": "code",
      "execution_count": null,
      "metadata": {
        "id": "N9EtqEy7uy3z"
      },
      "outputs": [],
      "source": [
        "%timeit count_transitions_py(x)"
      ]
    },
    {
      "cell_type": "code",
      "execution_count": null,
      "metadata": {
        "id": "pL7pvqGRuJ8f"
      },
      "outputs": [],
      "source": [
        "%timeit np.sum((x[1:]==1) & (x[:-1]==0))"
      ]
    },
    {
      "cell_type": "code",
      "execution_count": null,
      "metadata": {
        "id": "v_WYcgcUvdlY"
      },
      "outputs": [],
      "source": [
        "%timeit np.count_nonzero(x[:-1] < x[1:])"
      ]
    },
    {
      "cell_type": "markdown",
      "metadata": {
        "id": "7tCOMkgMar2h"
      },
      "source": [
        "So, **vectorization** here refers to the concept of replacing explicit for-loops with array expressions, which in this case can then be computed internally with a low-level language."
      ]
    },
    {
      "cell_type": "markdown",
      "metadata": {
        "id": "BstxXT9ovy0h"
      },
      "source": [
        "##### 2.2.1.3.4 Reduction"
      ]
    },
    {
      "cell_type": "markdown",
      "metadata": {
        "id": "YpknhBzTR8bb"
      },
      "source": [
        "Numpy allow us to reduces array's dimension by applying a function along one axis.\n",
        "\n",
        "Example:"
      ]
    },
    {
      "cell_type": "code",
      "execution_count": null,
      "metadata": {
        "id": "dSwe60HiwFLB"
      },
      "outputs": [],
      "source": [
        "import numpy as np"
      ]
    },
    {
      "cell_type": "code",
      "execution_count": null,
      "metadata": {
        "id": "Ae1wEk_Sv4NX"
      },
      "outputs": [],
      "source": [
        "B = np.array([\n",
        "    [0, 1, 2],\n",
        "    [3, 4, 5],\n",
        "    [6, 7, 8],\n",
        "    [9,10,11],\n",
        "])"
      ]
    },
    {
      "cell_type": "code",
      "execution_count": null,
      "metadata": {
        "id": "nOD6-L40wB3w"
      },
      "outputs": [],
      "source": [
        "print(np.sum(B, axis=0))\n",
        "print(np.sum(B, axis=1))\n",
        "print(np.sum(B))"
      ]
    },
    {
      "cell_type": "markdown",
      "metadata": {
        "id": "zkbx-bA2KbZd"
      },
      "source": [
        "-----\n",
        "\n",
        "#### 2.2.4 Practical part"
      ]
    },
    {
      "cell_type": "markdown",
      "metadata": {
        "id": "m_z6TlQPFxmn"
      },
      "source": [
        "##### 2.2.4.1. Exercise"
      ]
    },
    {
      "cell_type": "markdown",
      "metadata": {
        "id": "PLEl34gcKcZW"
      },
      "source": [
        "Multiply the matrix $A =\\begin{bmatrix} 1 & 2 & 1 \\\\ 3 & 0 & 1 \\\\ 0 & 2 & 4 \\end{bmatrix}$ by the scalar $b = 9$. Use `np.matmul()` function (Check documentation if you need it: [matmul doc](https://numpy.org/doc/stable/reference/generated/numpy.matmul.html). Compare execution times vs pure python method `my_matmul(A,B)`.\n"
      ]
    },
    {
      "cell_type": "markdown",
      "metadata": {
        "id": "opYcrUH0SHRB"
      },
      "source": [
        "#### 2.2.4.2. Solution"
      ]
    },
    {
      "cell_type": "code",
      "execution_count": null,
      "metadata": {
        "id": "ayMJ-hqsDUQg"
      },
      "outputs": [],
      "source": [
        "# your solution here!"
      ]
    },
    {
      "cell_type": "markdown",
      "metadata": {
        "id": "GCTnQ1hVDnKd"
      },
      "source": [
        "#### 2.2.5. Bonus part\n"
      ]
    },
    {
      "cell_type": "markdown",
      "metadata": {
        "id": "_0D9joaRSaAX"
      },
      "source": [
        "#### 2.2.5.1. The task"
      ]
    },
    {
      "cell_type": "markdown",
      "metadata": {
        "id": "xGZA-eXBSPGB"
      },
      "source": [
        "1. Download pokemon dataset provided.\n",
        "\n",
        "2. Show the name of the first 151 elements of `pokemon_names` numpy array.\n",
        "\n",
        "3. Show a descritive statistics (max, min, range, mean, standard deviation) of the first 151 elements of `pokemon_attacks` numpy array.\n",
        "\n",
        "4. Check `np.argsort()` function (`np.argsort` doc: [here](https://numpy.org/doc/stable/reference/generated/numpy.argsort.html)). Then, print the TOP 10 attack points from `pokemon attacks`.\n",
        "\n",
        "5. Use `pokemon_names` to show the TOP 10 pokemon's name based on their attacks."
      ]
    },
    {
      "cell_type": "code",
      "execution_count": null,
      "metadata": {
        "id": "JTk5Iuv2Ekrt"
      },
      "outputs": [],
      "source": [
        "# downloading and loading dataset"
      ]
    },
    {
      "cell_type": "code",
      "execution_count": null,
      "metadata": {
        "id": "-gfvJyKTF3cb"
      },
      "outputs": [],
      "source": [
        "! wget https://gist.githubusercontent.com/armgilles/194bcff35001e7eb53a2a8b441e8b2c6/raw/92200bc0a673d5ce2110aaad4544ed6c4010f687/pokemon.csv"
      ]
    },
    {
      "cell_type": "code",
      "execution_count": null,
      "metadata": {
        "id": "lcHoLCIeGM2a"
      },
      "outputs": [],
      "source": [
        "import numpy as np\n",
        "def get_pokemon_dataset():\n",
        "    # function to read `pokemon.csv` into a dict of list (columns)\n",
        "\n",
        "    with open('pokemon.csv') as f:\n",
        "    first_line = True\n",
        "    pokedata = {} # dict\n",
        "    for line in f:\n",
        "        if first_line:\n",
        "            first_line = False\n",
        "            pokedata[\"ID\"] = []\n",
        "            pokedata[\"Name\"] = []\n",
        "            pokedata[\"Type1\"] = []\n",
        "            pokedata[\"Type2\"] = []\n",
        "            pokedata[\"Total\"] = []\n",
        "            pokedata[\"HP\"] = []\n",
        "            pokedata[\"Attack\"] = []\n",
        "            pokedata[\"Defense\"] = []\n",
        "            pokedata[\"Speed\"] = []\n",
        "            pokedata[\"Generation\"] = []\n",
        "            pokedata[\"Legendary\"] = []\n",
        "        else:\n",
        "            line = line.split(\",\")\n",
        "            if  not \"Mega \" in str(line[1]):\n",
        "                pokedata[\"ID\"].append(int(line[0]))\n",
        "                pokedata[\"Name\"].append(str(line[1]))\n",
        "                pokedata[\"Type1\"].append(str(line[2]))\n",
        "                pokedata[\"Type2\"].append(str(line[3]))\n",
        "                pokedata[\"Total\"].append(int(line[4]))\n",
        "                pokedata[\"HP\"].append(int(line[5]))\n",
        "                pokedata[\"Attack\"].append(int(line[6]))\n",
        "                pokedata[\"Defense\"].append(int(line[7]))\n",
        "                pokedata[\"Speed\"].append(int(line[10]))\n",
        "                pokedata[\"Generation\"].append(int(line[11]))\n",
        "                pokedata[\"Legendary\"].append(line[12][:-1]==\"True\")\n",
        "    for k in pokedata.keys():\n",
        "    pokedata[k] = np.array(pokedata[k])\n",
        "\n",
        "    return pokedata"
      ]
    },
    {
      "cell_type": "code",
      "execution_count": null,
      "metadata": {
        "id": "YWsx-kXMGqbn"
      },
      "outputs": [],
      "source": [
        "pokedataset = get_pokemon_dataset()"
      ]
    },
    {
      "cell_type": "code",
      "execution_count": null,
      "metadata": {
        "id": "aHs5h4h8GfVC"
      },
      "outputs": [],
      "source": [
        "print(\"Attributes:\", pokedataset.keys())"
      ]
    },
    {
      "cell_type": "code",
      "execution_count": null,
      "metadata": {
        "id": "WE0sXS_4Gxmw"
      },
      "outputs": [],
      "source": [
        "print(\"First 10 pokemon names:\", pokedataset[\"Name\"][:10])"
      ]
    },
    {
      "cell_type": "markdown",
      "metadata": {
        "id": "4qDWcl9gSWQA"
      },
      "source": [
        "#### 2.2.5.2. Solutions"
      ]
    },
    {
      "cell_type": "code",
      "execution_count": null,
      "metadata": {
        "id": "myLbdGR8EnTO"
      },
      "outputs": [],
      "source": [
        "# your code here !\n",
        "# (1) (Slicing) Print the first 151 pokemon's names"
      ]
    },
    {
      "cell_type": "code",
      "execution_count": null,
      "metadata": {
        "id": "KJ-1R_3mE1tl"
      },
      "outputs": [],
      "source": [
        "# your code here !\n",
        "# (2) (Descriptive statistics). Use (np.max, np.min, np.mean, np.std)"
      ]
    },
    {
      "cell_type": "code",
      "execution_count": null,
      "metadata": {
        "id": "XHlF7VkYE2Lo"
      },
      "outputs": [],
      "source": [
        "# your code here !\n",
        "# (3) (Sorting). `np.argsort(my_array)` will return the indices of sorted \n",
        "#                elements of `my_array`"
      ]
    },
    {
      "cell_type": "code",
      "execution_count": null,
      "metadata": {
        "id": "nzFcLLi7E2mP"
      },
      "outputs": [],
      "source": [
        "# your code here !\n",
        "# (4) (Mask). Use the indices you got from `np.argort` and apply it\n",
        "#             to `pokemon_names`"
      ]
    },
    {
      "cell_type": "markdown",
      "metadata": {
        "id": "jub8yC2QSiiI"
      },
      "source": [
        "-----"
      ]
    },
    {
      "cell_type": "markdown",
      "metadata": {
        "id": "qNWHpZMhJGmJ"
      },
      "source": [
        "### 2.2.2. Matplotlib"
      ]
    },
    {
      "cell_type": "markdown",
      "metadata": {
        "id": "91hBGhTMJXA5"
      },
      "source": [
        "#### 2.2.2.1. What is Matplotlib?\n",
        "\n",
        "A plotting library to create visualizations in Python.\n",
        "+ You can create publication quality plots.\n",
        "+ Make interactive figures.\n",
        "+ Customize visual style and layout.\n",
        "+ Export to many file formats.\n",
        "+ Embed in JupyterLab and Graphical User Interfaces.\n",
        "+ Use other packages built on Matplotlib."
      ]
    },
    {
      "cell_type": "markdown",
      "metadata": {
        "id": "qWTUpc0-JG24"
      },
      "source": [
        "<img src=\"https://github.com/bsotomayorg/Intro_HPC_Python/blob/main/notebooks/imgs/slides_d1/101.PNG?raw=1\" width=\"80%\" height=\"80%\" />"
      ]
    },
    {
      "cell_type": "markdown",
      "metadata": {
        "id": "v4vvd6DDJXmJ"
      },
      "source": [
        "#### 2.2.2.2. Why is data visualization important?\n",
        "\n",
        "+ It remarks useful information.\n",
        "+ It helps to tell stories by transforming your data into visual elements, by curating data into a form easier to understand.\n",
        "+ It helps to have a visual summary of your data, highlighting  the trends and outliers."
      ]
    },
    {
      "cell_type": "markdown",
      "metadata": {
        "id": "r2swhUgeKBX6"
      },
      "source": [
        "#### 2.2.2.3. Importing Matplotlib\n",
        "\n",
        "We can import matplotlib as follows:"
      ]
    },
    {
      "cell_type": "code",
      "execution_count": null,
      "metadata": {
        "id": "FPdTczU2KSHk"
      },
      "outputs": [],
      "source": [
        "import matplotlib.pyplot as plt"
      ]
    },
    {
      "cell_type": "markdown",
      "metadata": {
        "id": "bcaLohcNKZQL"
      },
      "source": [
        "#### 2.2.2.4 Exploratory data analysis (EDA)"
      ]
    },
    {
      "cell_type": "markdown",
      "metadata": {
        "id": "lMo2Ri-7LXOl"
      },
      "source": [
        "2.2.2.4.1 Downloading Dataset"
      ]
    },
    {
      "cell_type": "markdown",
      "metadata": {
        "id": "xrtvJu2aLaJt"
      },
      "source": [
        "Run the following cells:"
      ]
    },
    {
      "cell_type": "code",
      "execution_count": null,
      "metadata": {
        "id": "wh9vztKbLknL"
      },
      "outputs": [],
      "source": [
        "! wget https://gist.githubusercontent.com/armgilles/194bcff35001e7eb53a2a8b441e8b2c6/raw/92200bc0a673d5ce2110aaad4544ed6c4010f687/pokemon.csv\n",
        "\n",
        "import numpy as np\n",
        "\n",
        "def get_pokemon_dataset():\n",
        "    # function to read `pokemon.csv` into a dict of list (columns)\n",
        "\n",
        "    with open('pokemon.csv') as f:\n",
        "    first_line = True\n",
        "    pokedata = {} # dict\n",
        "    for line in f:\n",
        "        if first_line:\n",
        "            first_line = False\n",
        "            pokedata[\"ID\"] = []\n",
        "            pokedata[\"Name\"] = []\n",
        "            pokedata[\"Type1\"] = []\n",
        "            pokedata[\"Type2\"] = []\n",
        "            pokedata[\"Total\"] = []\n",
        "            pokedata[\"HP\"] = []\n",
        "            pokedata[\"Attack\"] = []\n",
        "            pokedata[\"Defense\"] = []\n",
        "            pokedata[\"Speed\"] = []\n",
        "            pokedata[\"Generation\"] = []\n",
        "            pokedata[\"Legendary\"] = []\n",
        "        else:\n",
        "            line = line.split(\",\")\n",
        "            if  not \"Mega \" in str(line[1]):\n",
        "                pokedata[\"ID\"].append(int(line[0]))\n",
        "                pokedata[\"Name\"].append(str(line[1]))\n",
        "                pokedata[\"Type1\"].append(str(line[2]))\n",
        "                pokedata[\"Type2\"].append(str(line[3]))\n",
        "                pokedata[\"Total\"].append(int(line[4]))\n",
        "                pokedata[\"HP\"].append(int(line[5]))\n",
        "                pokedata[\"Attack\"].append(int(line[6]))\n",
        "                pokedata[\"Defense\"].append(int(line[7]))\n",
        "                pokedata[\"Speed\"].append(int(line[10]))\n",
        "                pokedata[\"Generation\"].append(int(line[11]))\n",
        "                pokedata[\"Legendary\"].append(line[12][:-1]==\"True\")\n",
        "        for k in pokedata.keys():\n",
        "    pokedata[k] = np.array(pokedata[k])\n",
        "  \n",
        "    return pokedata"
      ]
    },
    {
      "cell_type": "code",
      "execution_count": null,
      "metadata": {
        "id": "Kvj3PnBVLc2C"
      },
      "outputs": [],
      "source": [
        "pokedataset = get_pokemon_dataset()"
      ]
    },
    {
      "cell_type": "markdown",
      "metadata": {
        "id": "szoOGZfYLvYO"
      },
      "source": [
        "#### 2.2.2.5. Text reports"
      ]
    },
    {
      "cell_type": "code",
      "execution_count": null,
      "metadata": {
        "id": "_h6cW6KcMODE"
      },
      "outputs": [],
      "source": [
        "pokedataset.keys()"
      ]
    },
    {
      "cell_type": "code",
      "execution_count": null,
      "metadata": {
        "id": "rn_EKXWUMTB9"
      },
      "outputs": [],
      "source": [
        "print(\"First 9 Pokemons in the Pokedex\")\n",
        "print(pokedataset['Name'][:9])"
      ]
    },
    {
      "cell_type": "code",
      "execution_count": null,
      "metadata": {
        "id": "QnIXJ-OSMg0D"
      },
      "outputs": [],
      "source": [
        "index = np.argsort(pokedataset['Total'][:151])[::-1]\n",
        "print(\"Top-10 most powerful Pokemons:\")\n",
        "print(pokedataset['Name'][index][:10])"
      ]
    },
    {
      "cell_type": "markdown",
      "metadata": {
        "id": "benH74zLMJdj"
      },
      "source": [
        "#### 2.2.2.6. Data visualization with Matplotlib"
      ]
    },
    {
      "cell_type": "markdown",
      "metadata": {
        "id": "hpVT9DGaNruI"
      },
      "source": [
        "We can quickly look at our data by using matplotlib.\n",
        "\n",
        "`plot()` function allow us to create a plot two input variables `x` and `y` as lines (`2Dlines`) and/or markers.\n",
        "\n"
      ]
    },
    {
      "cell_type": "markdown",
      "metadata": {
        "id": "NFxlNjvPN0yN"
      },
      "source": [
        "**Example:** How many Pokemons we can find by generation?\n",
        "\n",
        "Let's try to answer the question first by counting the about of values that the variable `pokedata['Generation]` cointains!\n",
        "\n",
        "How can we do that? Many ways! Check this one:"
      ]
    },
    {
      "cell_type": "code",
      "execution_count": null,
      "metadata": {
        "id": "20xnG9whMPeV"
      },
      "outputs": [],
      "source": [
        "gen_label, counts = np.unique(pokedataset['Generation'], return_counts=True)\n",
        "print(\"Generation\", gen_label)\n",
        "print(\"Count     \", counts)"
      ]
    },
    {
      "cell_type": "markdown",
      "metadata": {
        "id": "Qsbfe0s9OIw1"
      },
      "source": [
        "This is a simple \"Text report\". This is useful when you want to quickly check the results you get from your analyses and data transformations.\n",
        "\n",
        "However, visualizations provide an easier way to get analyse and explora data.\n",
        "\n",
        "\n",
        "You can run the simplest visualization in matplotlib as follows:"
      ]
    },
    {
      "cell_type": "code",
      "execution_count": null,
      "metadata": {
        "id": "miGn8T9mOmZ-"
      },
      "outputs": [],
      "source": [
        "import matplotlib.pyplot as plt"
      ]
    },
    {
      "cell_type": "code",
      "execution_count": null,
      "metadata": {
        "id": "CDQn3Zx0OdEm"
      },
      "outputs": [],
      "source": [
        "plt.plot(gen_label, counts)"
      ]
    },
    {
      "cell_type": "markdown",
      "metadata": {
        "id": "SeOqoDy6Ov2u"
      },
      "source": [
        "However, it is always useful to have control of the different parts of a visualization. \n",
        "\n",
        "Let's define properly the plot by indicating the figure size (`figsize`) and the figure background (`facecolor`).\n",
        "\n",
        "Additionally, we can add the x- and y-axis labels!"
      ]
    },
    {
      "cell_type": "code",
      "execution_count": null,
      "metadata": {
        "id": "oQQDgQNyOq7d"
      },
      "outputs": [],
      "source": [
        "fig, ax = plt.subplots(figsize = (5, 5), facecolor='w')\n",
        "plt.plot(gen_label, counts)\n",
        "plt.xlabel('Generation')\n",
        "plt.ylabel('Pokemon count')"
      ]
    },
    {
      "cell_type": "markdown",
      "metadata": {
        "id": "yIlHbSvTPH7_"
      },
      "source": [
        "We can also change some properties of the plot such as: \n",
        "+ Marker (`marker`)\n",
        "+ Line style (`ls`)\n",
        "+ Color (`color`)\n",
        "+ Line width (`lw`)\n",
        "+ Marker size (`markersize` or `ms`)\n",
        "+ Marker Edge Width (`markeredgewidth` or `mew`)\n",
        "+ etc.\n"
      ]
    },
    {
      "cell_type": "code",
      "execution_count": null,
      "metadata": {
        "id": "N3CeaGD5PLM-"
      },
      "outputs": [],
      "source": [
        "fig, ax = plt.subplots(figsize = (5, 5))\n",
        "ax.plot(\n",
        "    gen_label, counts, \n",
        "    marker='o', ls='--', color='black', lw=2, ms=8, mew=3)\n",
        "plt.xlabel('Generation', fontsize=14)\n",
        "plt.ylabel('Pokemon count', fontsize=14)\n",
        "plt.show()"
      ]
    },
    {
      "cell_type": "markdown",
      "metadata": {
        "id": "fCZJHIGqPTXZ"
      },
      "source": [
        "For more details about `Line2D` properties, check the [Matplotlib's documentation](https://matplotlib.org/stable/api/_as_gen/matplotlib.lines.Line2D.html#matplotlib.lines.Line2D).\n"
      ]
    },
    {
      "cell_type": "markdown",
      "metadata": {
        "id": "O4HSvMfiPXZV"
      },
      "source": [
        "#### 2.12.2.7. Scatter"
      ]
    },
    {
      "cell_type": "markdown",
      "metadata": {
        "id": "STPCOd3WPfGG"
      },
      "source": [
        "A scatter plot of two input variables `x` and `y`. We can vary the marker size and/or color."
      ]
    },
    {
      "cell_type": "markdown",
      "metadata": {
        "id": "lunTjVLFS_kY"
      },
      "source": [
        "**How is the relation `HP` (Health points) and `Attack` for Fire-, Dark-, and Psychic- Pokemons?**"
      ]
    },
    {
      "cell_type": "code",
      "execution_count": null,
      "metadata": {
        "id": "0wIi4QEaPyye"
      },
      "outputs": [],
      "source": [
        "# filtering\n",
        "mask_nonlegendary  = pokedataset['Legendary']==False\n",
        "mask_dark_types = (pokedataset['Type1'][mask_nonlegendary] == 'Dark')\n",
        "mask_fire_types = (pokedataset['Type1'][mask_nonlegendary] == 'Fire')\n",
        "mask_psychic_types = (pokedataset['Type1'][mask_nonlegendary] == 'Psychic')\n",
        "\n",
        "dark_types_attack = pokedataset['Attack'][mask_nonlegendary][mask_dark_types]\n",
        "fire_types_attack = pokedataset['Attack'][mask_nonlegendary][mask_fire_types]\n",
        "psychic_types_attack = pokedataset['Attack'][mask_nonlegendary][mask_psychic_types]\n",
        "\n",
        "dark_types_HP = pokedataset['HP'][mask_nonlegendary][mask_dark_types]\n",
        "fire_types_HP = pokedataset['HP'][mask_nonlegendary][mask_fire_types]\n",
        "psychic_types_HP = pokedataset['HP'][mask_nonlegendary][mask_psychic_types]"
      ]
    },
    {
      "cell_type": "code",
      "execution_count": null,
      "metadata": {
        "id": "ScqYi1zWR7mS"
      },
      "outputs": [],
      "source": [
        "print(\"Input example\")\n",
        "print(\"dark_types_HP     (x) =\", dark_types_HP, \"\\n\")\n",
        "print(\"dark_types_attack (y) =\", dark_types_HP)"
      ]
    },
    {
      "cell_type": "code",
      "execution_count": null,
      "metadata": {
        "id": "yZO32u2yPvgI"
      },
      "outputs": [],
      "source": [
        "fig, ax = plt.subplots(figsize = (6, 6))\n",
        "\n",
        "ax.scatter(dark_types_HP, dark_types_attack, c='black', s=50)\n",
        "ax.scatter(fire_types_HP, fire_types_attack, alpha=0.6, c='red', s=50)\n",
        "ax.scatter(psychic_types_HP, psychic_types_attack, alpha=0.6, c='purple', s=50)\n",
        "\n",
        "ax.set_xlabel(\"HP\");\n",
        "ax.set_ylabel(\"Attack\");"
      ]
    },
    {
      "cell_type": "markdown",
      "metadata": {
        "id": "bfOXA073ROB3"
      },
      "source": [
        "We can also include a legend as follows:"
      ]
    },
    {
      "cell_type": "code",
      "execution_count": null,
      "metadata": {
        "id": "RPCJ345GQ6tg"
      },
      "outputs": [],
      "source": [
        "fig, ax = plt.subplots(figsize = (6, 6))\n",
        "\n",
        "ax.scatter(\n",
        "    dark_types_HP, dark_types_attack, c='black', \n",
        "    label='Dark', s=50)\n",
        "ax.scatter(\n",
        "    fire_types_HP, fire_types_attack, alpha=0.6, c='red', \n",
        "    label='Fire', s=50)\n",
        "ax.scatter(\n",
        "    psychic_types_HP, psychic_types_attack, alpha=0.6, c='purple', \n",
        "    label='Psychic', s=50)\n",
        "\n",
        "ax.set_xlabel(\"HP\");\n",
        "ax.set_ylabel(\"Attack\");\n",
        "\n",
        "ax.legend()"
      ]
    },
    {
      "cell_type": "markdown",
      "metadata": {
        "id": "95kIVBv8RTpR"
      },
      "source": [
        "#### 2.2.2.8. Bar"
      ]
    },
    {
      "cell_type": "markdown",
      "metadata": {
        "id": "94bfR3L_TRja"
      },
      "source": [
        "**Which is the frequency of Pokemon per type?**"
      ]
    },
    {
      "cell_type": "code",
      "execution_count": null,
      "metadata": {
        "id": "dLzFg0pDRQxo"
      },
      "outputs": [],
      "source": [
        "tmp_type = np.concatenate([pokedataset['Type1'], pokedataset['Type2']])\n",
        "all_types = np.unique(tmp_type[tmp_type!=''])\n",
        "print(all_types)\n",
        "counts_by_type = []\n",
        "for poketype in all_types:\n",
        "  count = np.sum((pokedataset['Type1']==poketype) | (pokedataset['Type2']==poketype))\n",
        "  counts_by_type.append(count)"
      ]
    },
    {
      "cell_type": "code",
      "execution_count": null,
      "metadata": {
        "id": "B1PpK7gkRylo"
      },
      "outputs": [],
      "source": [
        "print(\"Inputs\")\n",
        "print(\"x =\", all_types)\n",
        "print(\"y =\", counts_by_type)"
      ]
    },
    {
      "cell_type": "code",
      "execution_count": null,
      "metadata": {
        "id": "7xDd51xhRaYv"
      },
      "outputs": [],
      "source": [
        "fig, ax = plt.subplots(figsize=(8,6), facecolor='w')\n",
        "ax.bar(all_types, counts_by_type)\n",
        "plt.ylabel(\"Frequency\", fontsize=14); \n",
        "plt.xlabel(\"Pokemon Type\", fontsize=14)\n",
        "plt.xticks(rotation=45)"
      ]
    },
    {
      "cell_type": "markdown",
      "metadata": {
        "id": "eVXzCC_kRuCn"
      },
      "source": [
        "#### 2.2.2.9. Imshow"
      ]
    },
    {
      "cell_type": "markdown",
      "metadata": {
        "id": "MNnIVQnQTb1J"
      },
      "source": [
        "**Which is the frequency of Pokemons with 2 types?**"
      ]
    },
    {
      "cell_type": "code",
      "execution_count": null,
      "metadata": {
        "id": "n3Ge2KeCSUTj"
      },
      "outputs": [],
      "source": [
        "def get_count_matrix_by_type():\n",
        "    \"\"\"\n",
        "    It returns a matrix with the frequency of pokemons with specific first and second types.\n",
        "    \"\"\"\n",
        "    labels_type1 = np.unique(pokedataset['Type1'])\n",
        "    labels_type2 = np.unique(pokedataset['Type2'])\n",
        "\n",
        "    labels_type1 = labels_type1[labels_type1 != '']\n",
        "    labels_type2 = labels_type2[labels_type2 != '']\n",
        "\n",
        "    type_count_matrix = np.zeros(shape=(len(labels_type1), len(labels_type2)))\n",
        "\n",
        "    for i in range(len(labels_type1)):\n",
        "        for j in range(len(labels_type2)):\n",
        "            mask_type1 = pokedataset['Type1'] == labels_type1[i] \n",
        "            mask_type2 = pokedataset['Type2'] == labels_type2[j]\n",
        "            count = np.sum( mask_type1 & mask_type2 )\n",
        "            type_count_matrix[i, j] = count\n",
        "\n",
        "    return type_count_matrix"
      ]
    },
    {
      "cell_type": "code",
      "execution_count": null,
      "metadata": {
        "id": "y51yJKcDSULC"
      },
      "outputs": [],
      "source": [
        "type_count_matrix = get_count_matrix_by_type()"
      ]
    },
    {
      "cell_type": "code",
      "execution_count": null,
      "metadata": {
        "id": "-80pbUOoSUB_"
      },
      "outputs": [],
      "source": [
        "print(type_count_matrix)"
      ]
    },
    {
      "cell_type": "code",
      "execution_count": null,
      "metadata": {
        "id": "VRqLm0V1VI3e"
      },
      "outputs": [],
      "source": [
        "fig, ax = plt.subplots(figsize=(8,6), facecolor='w')\n",
        "im = ax.imshow(type_count_matrix, cmap='Spectral_r')\n",
        "ax.set_ylabel(\"First Pokemon Type\", fontsize=14); \n",
        "ax.set_xlabel(\"Second Pokemon Type\", fontsize=14)\n",
        "plt.colorbar(im, label=\"Frequency\")"
      ]
    },
    {
      "cell_type": "code",
      "execution_count": null,
      "metadata": {
        "id": "Pi9JjnCyTnJU"
      },
      "outputs": [],
      "source": [
        "fig, ax = plt.subplots(figsize=(8,6), facecolor='w')\n",
        "im = ax.imshow(type_count_matrix, cmap='Spectral_r')\n",
        "ax.set_ylabel(\"First Pokemon Type\", fontsize=14); \n",
        "ax.set_xlabel(\"Second Pokemon Type\", fontsize=14)\n",
        "plt.xticks(rotation=45)\n",
        "labels_type1 = np.unique(pokedataset['Type1'])\n",
        "labels_type2 = np.unique(pokedataset['Type2'])\n",
        "\n",
        "ticks_nums = np.arange(-0.5,len(labels_type1)+0.5, 1)\n",
        "plt.xticks(ticks_nums, labels_type1)\n",
        "plt.yticks(ticks_nums, labels_type2)\n",
        "plt.colorbar(im, label=\"Frequency\")"
      ]
    },
    {
      "cell_type": "markdown",
      "metadata": {
        "id": "4GdwNB2ASnmR"
      },
      "source": [
        "----"
      ]
    },
    {
      "cell_type": "markdown",
      "metadata": {
        "id": "gwcreCUfVc0a"
      },
      "source": [
        "#### 2.2.2.10. Practical part\n"
      ]
    },
    {
      "cell_type": "markdown",
      "metadata": {
        "id": "RtFxXZ0iV5SH"
      },
      "source": [
        "##### 2.2.2.10.1 Exercise\n",
        "1. Given a 2D array of size ($N \\times n)$ where $N$ is the number of neurons and $n$ the amount of spikes, make a raster plot by using `plot(times, neuron_id, marker='|', linestyle='')`. The x-axis correspond to spike times (in seconds, `ax.set_xlabel(Time (s))`) and y-axis correspond to the neuron id (i.e., `ax._set_ylabel(# Neuron)`)."
      ]
    },
    {
      "cell_type": "markdown",
      "metadata": {
        "id": "3ggFgCv9V-N9"
      },
      "source": [
        "##### 2.1.2.10.2 Solution"
      ]
    },
    {
      "cell_type": "code",
      "execution_count": null,
      "metadata": {
        "id": "Vx3FojSAbZOw"
      },
      "outputs": [],
      "source": [
        "import matplotlib.pyplot as plt"
      ]
    },
    {
      "cell_type": "code",
      "execution_count": null,
      "metadata": {
        "id": "c5pSuyPIWCMn"
      },
      "outputs": [],
      "source": [
        "# spike times array:\n",
        "spike_times = np.array([\n",
        "    [0.1, 0.3, 0.7],\n",
        "    [0.1, 0.12, 0.25, 0.6, 0.8],\n",
        "    [0.08, 0.28, 0.47, 0.51, 0.93]\n",
        "])"
      ]
    },
    {
      "cell_type": "code",
      "execution_count": null,
      "metadata": {
        "id": "vajzlZ54WAbv"
      },
      "outputs": [],
      "source": [
        "# your solution here!\n",
        "\n",
        "# you want to know better the data structure? then run some simple functions to\n",
        "# check the `shape` (dimensions) of `spike_times`!\n",
        "\n",
        "# Some hints:\n",
        "\n",
        "# (1) First, try to print the spike times of the neuron 1 (id=0)\n",
        "# (2) Then, check if you can plot the spike times of neuron 2 (id=1)\n",
        "# (3) Imagine you do not have N=3 neurons but more (e.g., N=1000). \n",
        "#     Can you use a `for` statement to print the spike time of every neuron?\n",
        "# (4) Try plotting them. Notice that, for plt.plot(x,y), `x` and `y` are arrays\n",
        "#     with the same length. That means you  will have to indicate the neuron id\n",
        "#     in a different way.\n",
        "#     For example: x=[0.1, 0.3, 0.7] and y=[0, 0, 0] will represent every spike\n",
        "#     of the neuron id=0. Here, I repeated the neuron id as many times as the\n",
        "#     length of x."
      ]
    },
    {
      "cell_type": "markdown",
      "metadata": {
        "id": "NNXoHr66beak"
      },
      "source": [
        "----"
      ]
    },
    {
      "cell_type": "markdown",
      "metadata": {
        "id": "6VjecUp9bfaZ"
      },
      "source": [
        "### 2.2.3. Sci-kit Learn"
      ]
    },
    {
      "cell_type": "markdown",
      "metadata": {
        "id": "TbjbV2l4JG29"
      },
      "source": [
        "<img src=\"https://github.com/bsotomayorg/Intro_HPC_Python/blob/main/notebooks/imgs/slides_d1/114.PNG?raw=1\" width=\"80%\" height=\"80%\" />"
      ]
    },
    {
      "cell_type": "markdown",
      "metadata": {
        "id": "aP243SklbmNi"
      },
      "source": [
        "#### 2.2.3.1. Introduction"
      ]
    },
    {
      "cell_type": "markdown",
      "metadata": {
        "id": "19C2Ca91dXhd"
      },
      "source": [
        "Scikit-Learn is Python package for machine learning analysis.\n",
        "\n",
        "In this seminar we will explore a module of Scikit-learn. Specifically \"Manifold Learning\" algorithms. However, Scikit-Learn counts with many other modules.\n",
        "\n",
        "**Analysis modules:**\n",
        "\n",
        "+ Classicition.\n",
        "+ Regression.\n",
        "+ Clustering.\n",
        "+ Dimensionality Reduction.\n",
        "+ Model selection.\n",
        "+ Preprocessing.\n",
        "\n",
        "You can check them in detail [here](https://scikit-learn.org/stable/)."
      ]
    },
    {
      "cell_type": "markdown",
      "metadata": {
        "id": "V2ir-InJbpzz"
      },
      "source": [
        "#### 2.1.3.2. Manifold learning with Scikit-Learn"
      ]
    },
    {
      "cell_type": "markdown",
      "metadata": {
        "id": "pMAlozyQb2u0"
      },
      "source": [
        "When we work with high-dimensional data (i.e., data that requires more than two or three dimensions to be represented) it can be very difficult to interpret its features.\n",
        "\n",
        "One simplification is to assume that the important information in such data actually lies in a lower-dimensional space. Methods that look to reduce such dimensionality are called _Manifold Learning_ algorithms (or Non-linear dimensionality reduction methods).\n",
        "\n",
        "Some examples of such methods are:\n",
        "+ Non-linear Principal Component Analysis.\n",
        "+ Laplacian Eigenmaps.\n",
        "+ Isomap.\n",
        "+ Locally-linear embedding.\n",
        "+ Autoencoders.\n",
        "+ t-Distributed Stochastic Neighbor Embedding (t-SNE).\n",
        "\n",
        "In this seminar we will use the last one to reduce the dimensionality of our datasets.\n",
        "\n"
      ]
    },
    {
      "cell_type": "markdown",
      "metadata": {
        "id": "0QIVcScpfbw-"
      },
      "source": [
        "#### 2.2.3.3. Application on MNIST digits dataset\n",
        "\n"
      ]
    },
    {
      "cell_type": "markdown",
      "metadata": {
        "id": "T2KgYRWXfqOV"
      },
      "source": [
        "The MNIST database contains handwritten digits. It is a subset of a larger set, widely used in Machine learning problems. The digits are size-normalized and centered in a fixed-size image.\n",
        "\n",
        "Let's see how to find Clusters in a 2D embedding using **t-SNE**."
      ]
    },
    {
      "cell_type": "code",
      "execution_count": null,
      "metadata": {
        "id": "9AWhsQnKbX7y"
      },
      "outputs": [],
      "source": [
        "# Importing modules\n",
        "from sklearn.manifold import TSNE\n",
        "import matplotlib.pyplot as plt\n",
        "from sklearn import datasets"
      ]
    },
    {
      "cell_type": "markdown",
      "metadata": {
        "id": "7LkYy89mgYJx"
      },
      "source": [
        "Let's briefly explore our data."
      ]
    },
    {
      "cell_type": "code",
      "execution_count": null,
      "metadata": {
        "id": "FhfEq-qgbX1R"
      },
      "outputs": [],
      "source": [
        "# loading digits\n",
        "digits = datasets.load_digits()"
      ]
    },
    {
      "cell_type": "code",
      "execution_count": null,
      "metadata": {
        "id": "oG3_2iRxbXsI"
      },
      "outputs": [],
      "source": [
        "# Take the first 500 data points: it's hard to see 1500 points\n",
        "X = digits.data[:500]\n",
        "y = digits.target[:500]\n",
        "images = digits.images[:500]"
      ]
    },
    {
      "cell_type": "code",
      "execution_count": null,
      "metadata": {
        "id": "RgpjOhnIjk-y"
      },
      "outputs": [],
      "source": [
        "images[9].shape"
      ]
    },
    {
      "cell_type": "code",
      "execution_count": null,
      "metadata": {
        "id": "Nl0XXfKVgPrz"
      },
      "outputs": [],
      "source": [
        "f, ax = plt.subplots(figsize=(4,4), facecolor='w')\n",
        "ax.imshow(images[9], cmap='Greys_r')"
      ]
    },
    {
      "cell_type": "markdown",
      "metadata": {
        "id": "rz9mQu7ZgXBi"
      },
      "source": [
        "**t-SNE application with 2 components**"
      ]
    },
    {
      "cell_type": "code",
      "execution_count": null,
      "metadata": {
        "id": "w9O50UGHgfgJ"
      },
      "outputs": [],
      "source": [
        "# defining our tSNE Model\n",
        "tsne = TSNE(n_components=2, random_state=0)"
      ]
    },
    {
      "cell_type": "code",
      "execution_count": null,
      "metadata": {
        "id": "TgDAzNl8gh0o"
      },
      "outputs": [],
      "source": [
        "# Fit the model from data in X and transform X.\n",
        "my_embedding = tsne.fit_transform(X)"
      ]
    },
    {
      "cell_type": "markdown",
      "metadata": {
        "id": "0qOKKjVige-w"
      },
      "source": [
        "**Visualizing results**"
      ]
    },
    {
      "cell_type": "code",
      "execution_count": null,
      "metadata": {
        "id": "b1EtJ253metN"
      },
      "outputs": [],
      "source": [
        "def plot_embedding(emb, digits):\n",
        "    f, ax = plt.subplots(figsize=(5, 5), facecolor='w')\n",
        "    colors = 'r', 'g', 'b', 'c', 'm', 'y', 'k', 'brown', 'orange', 'purple'\n",
        "    target_ids = range(len(digits.target_names))\n",
        "    for i, c, label in zip(target_ids, colors, digits.target_names):\n",
        "        x_array = emb[y == i, 0]\n",
        "        y_array = emb[y == i, 1]\n",
        "        ax.scatter(x_array, y_array, c=c, label=label, alpha=0.6, s=15)\n",
        "    ax.set_xlabel(\"Component 1\", fontsize=14)\n",
        "    ax.set_ylabel(\"Component 2\", fontsize=14)\n",
        "    plt.legend(bbox_to_anchor=(1., 1.20), ncol=5, frameon=False)"
      ]
    },
    {
      "cell_type": "code",
      "execution_count": null,
      "metadata": {
        "id": "xAJZdZU7mmu9"
      },
      "outputs": [],
      "source": [
        "plot_embedding(my_embedding, digits)"
      ]
    },
    {
      "cell_type": "markdown",
      "metadata": {
        "id": "Ih-MUSXdhIzL"
      },
      "source": [
        "Great! We can find clusters depending of the MNIST digits image in an unsupervised fashion via t-SNE!"
      ]
    },
    {
      "cell_type": "markdown",
      "metadata": {
        "id": "XcevPDJmhY6b"
      },
      "source": [
        "#### 2.2.3.4. Practical part"
      ]
    },
    {
      "cell_type": "markdown",
      "metadata": {
        "id": "lS88By9cheZM"
      },
      "source": [
        "##### 2.2.3.4.1. Exercise"
      ]
    },
    {
      "cell_type": "markdown",
      "metadata": {
        "id": "AI07vhcBnbH3"
      },
      "source": [
        "Find a low-dimensional representations of MNIST digits by using any of the following methods:\n",
        "\n",
        "+ Isomap\n",
        "+ Multidimensional Scaling\n",
        "+ Spectral Embedding\n",
        "+ Locally Linear Embedding:\n",
        "  + Standard (`method='Standard'`)\n",
        "  + Hessian (`method='Hessian'`)\n",
        "  + Modified (`method='Modified'`)\n",
        "\n",
        "Check on [Scikit-learn documentation](https://scikit-learn.org/stable/modules/manifold.html) how to use such method. Make sure to indicate 2 components to get a 2D-embedding!\n",
        "\n",
        "More Scikit-learn examples [here](https://scikit-learn.org/stable/auto_examples/manifold/plot_compare_methods.html)."
      ]
    },
    {
      "cell_type": "markdown",
      "metadata": {
        "id": "gFKpKdIche2H"
      },
      "source": [
        "##### 2.2.3.4.3. Solution"
      ]
    },
    {
      "cell_type": "code",
      "execution_count": null,
      "metadata": {
        "id": "5wb8rz6ohnNu"
      },
      "outputs": [],
      "source": [
        "# your solution here!"
      ]
    },
    {
      "cell_type": "markdown",
      "metadata": {
        "id": "IFReg_hzJG2_"
      },
      "source": [
        "----\n",
        "\n",
        "Day #1 of the summer course \"_Introduction to High-Performance Computing in Python for Scientists!_\". \n",
        "\n",
        "\n",
        "[Goethe Research Academy for Early Career Researchers (GRADE)](https://www.goethe-university-frankfurt.de/), Goethe University Frankfurt, Germany. June 2022.\n",
        "\n",
        "---"
      ]
    }
  ],
  "metadata": {
    "colab": {
      "collapsed_sections": [],
      "name": "TCR-HPC-D1_github - Scientific Computing with Python.ipynb",
      "provenance": [],
      "toc_visible": true
    },
    "kernelspec": {
      "display_name": "Python 3 (ipykernel)",
      "language": "python",
      "name": "python3"
    },
    "language_info": {
      "codemirror_mode": {
        "name": "ipython",
        "version": 3
      },
      "file_extension": ".py",
      "mimetype": "text/x-python",
      "name": "python",
      "nbconvert_exporter": "python",
      "pygments_lexer": "ipython3",
      "version": "3.8.13"
    }
  },
  "nbformat": 4,
  "nbformat_minor": 0
}
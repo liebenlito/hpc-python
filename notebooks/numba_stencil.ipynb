{
 "cells": [
  {
   "cell_type": "markdown",
   "id": "254140dd",
   "metadata": {},
   "source": [
    "# Numba Stencil\n",
    "\n",
    "\n",
    "Operasi stencil https://www.mathworks.com/help/parallel-computing/stencil-operations-on-a-gpu.html biasanya digunakan pada metode finite differences, finite elements, atau metode lain yang memanfaatkan suatu mesh atau grid."
   ]
  },
  {
   "cell_type": "markdown",
   "id": "a2568b35",
   "metadata": {},
   "source": [
    "## Persamaan Panas 1D\n",
    "\n",
    "$$\n",
    "\\frac{\\partial u}{\\partial t} = \\alpha \\frac{\\partial^2 u}{\\partial x^2}, \\hspace{1em} x \\in (0,L), t \\in (0, T]\n",
    "$$\n",
    "\n",
    "dengan inisial awal $u(x,0) = I_0(x)$ dan syarat batas $u(0,t) = 0$ dan $u(L,t) = 0$.\n",
    "\n",
    "Masalah ini dapat kita selesaikan dengan mendiskritisasi ruang dan waktunya (disebut juga dengan **metode finite difference**):\n",
    "\n",
    "* **space discretisation:** $x_i = i\\Delta x, i = 0, 1, \\cdots, N_x$.\n",
    "* **time discretisation:** $t_n = n\\Delta t, t = 0, 1, \\cdots, N_t$\n",
    "\n",
    "dengan menggunakan **Central Time Central Space (CTCS)** atau dikenal sebagai metode **Crank-Nicolson 1D**\n",
    "\n",
    "$$\n",
    "\\frac{w_i^{n+1} - w_i^n}{\\Delta t} = \\alpha \\frac{w_{i+1}^n - 2w_i^n + w_{i-1}^n}{\\Delta x^2}\n",
    "$$\n",
    "\n",
    "sehingga memebentuk\n",
    "\n",
    "$$\n",
    "w_i^{n+1} = w_i^n + F(w_{i+1}^n - 2w_i^n + w_{i-1}^n)\n",
    "$$\n",
    "\n",
    "dimana $F = \\alpha \\frac{\\Delta t}{\\Delta x^2}$.\n",
    "\n",
    "\n",
    "![](../images/Heat1D.jpg)\n",
    "\n",
    "Di dalam perhitungan grid terdapat $w_{i-1}, w_i, w_{i+1}$ yang disebut sebagai **3-titik stencil**.\n",
    "\n",
    "![](../images/Stencil1D.jpg)"
   ]
  },
  {
   "cell_type": "markdown",
   "id": "eb1840e9",
   "metadata": {},
   "source": [
    "**Implementasi**"
   ]
  },
  {
   "cell_type": "code",
   "execution_count": 1,
   "id": "fef10005",
   "metadata": {},
   "outputs": [],
   "source": [
    "import numba\n",
    "import numpy as np\n",
    "import matplotlib.pyplot as plt"
   ]
  },
  {
   "cell_type": "code",
   "execution_count": 32,
   "id": "490a00aa",
   "metadata": {},
   "outputs": [],
   "source": [
    "Nx = 500\n",
    "Nt = 10_000\n",
    "T = 100.\n",
    "L = 100.\n",
    "\n",
    "dx = L/Nx\n",
    "dt = T/Nt\n",
    "alpha = 1.0\n",
    "F = alpha * dt/dx*dx\n",
    "\n",
    "x = np.linspace(0, L, Nx+1)\n",
    "\n",
    "# nilai awal: sin(2*pi*x) dimana 50 <= x <= 60\n",
    "temp_awal = np.zeros(Nx+1)\n",
    "temp_awal[Nx//2:Nx//2+Nx//10] = np.sin(2.0 * np.pi * (x[Nx//2:Nx//2+Nx//10] - x[Nx//2]) / (L/5) )"
   ]
  },
  {
   "cell_type": "code",
   "execution_count": null,
   "id": "dc1f3b8e",
   "metadata": {},
   "outputs": [],
   "source": []
  },
  {
   "cell_type": "code",
   "execution_count": 33,
   "id": "80fd29d0",
   "metadata": {},
   "outputs": [],
   "source": [
    "@numba.stencil\n",
    "def Crank_Nicolson(x, F):\n",
    "    return x[0] + F * (x[1] - 2.0 * x[0] + x[-1])"
   ]
  },
  {
   "cell_type": "code",
   "execution_count": 34,
   "id": "8ceaaad6",
   "metadata": {},
   "outputs": [],
   "source": [
    "@numba.njit\n",
    "def simulasi(x, F, Nt):\n",
    "    for i in range(Nt):\n",
    "        x = Crank_Nicolson(x, F)\n",
    "    \n",
    "    return x"
   ]
  },
  {
   "cell_type": "code",
   "execution_count": 35,
   "id": "9d3c408b",
   "metadata": {},
   "outputs": [
    {
     "data": {
      "image/png": "[encoded data removed]",
      "text/plain": [
       "<Figure size 500x500 with 1 Axes>"
      ]
     },
     "metadata": {},
     "output_type": "display_data"
    }
   ],
   "source": [
    "temp_simulasi = simulasi(temp_awal, F, Nt)\n",
    "\n",
    "fig = plt.figure(figsize=(5,5))\n",
    "ax = fig.add_subplot(111)\n",
    "ax.set_xlabel('$x$')\n",
    "ax.set_ylabel('$u$')\n",
    "\n",
    "ax.plot(x, temp_awal, label='$t = 0.0$')\n",
    "ax.plot(x, temp_simulasi, label=f'$t = {T}$')\n",
    "\n",
    "ax.legend()\n",
    "plt.show()"
   ]
  },
  {
   "cell_type": "markdown",
   "id": "a16386ee",
   "metadata": {},
   "source": [
    "## Analisa Performa\n",
    "\n",
    "**Python vs NumPy vs Numba**"
   ]
  },
  {
   "cell_type": "code",
   "execution_count": 37,
   "id": "23531c43",
   "metadata": {},
   "outputs": [
    {
     "name": "stdout",
     "output_type": "stream",
     "text": [
      "CPU times: user 7.93 ms, sys: 121 µs, total: 8.05 ms\n",
      "Wall time: 8.02 ms\n"
     ]
    },
    {
     "data": {
      "text/plain": [
       "array([0.00000000e+00, 3.87701413e-65, 1.25213409e-64, 3.64827742e-64,\n",
       "       1.04792714e-63, 2.99652776e-63, 8.53976926e-63, 2.42588815e-62,\n",
       "       6.86904081e-62, 1.93874084e-61, 5.45429548e-61, 1.52950047e-60,\n",
       "       4.27513080e-60, 1.19106322e-59, 3.30752096e-59, 9.15481433e-59,\n",
       "       2.52564538e-58, 6.94492948e-58, 1.90341146e-57, 5.19952436e-57,\n",
       "       1.41565480e-56, 3.84158668e-56, 1.03901096e-55, 2.80080279e-55,\n",
       "       7.52479246e-55, 2.01489672e-54, 5.37717273e-54, 1.43019342e-53,\n",
       "       3.79115731e-53, 1.00157094e-52, 2.63706687e-52, 6.91969111e-52,\n",
       "       1.80956851e-51, 4.71609691e-51, 1.22491620e-50, 3.17060833e-50,\n",
       "       8.17876941e-50, 2.10251478e-49, 5.38632368e-49, 1.37513299e-48,\n",
       "       3.49858452e-48, 8.87017129e-48, 2.24109441e-47, 5.64252302e-47,\n",
       "       1.41568979e-46, 3.53949214e-46, 8.81837194e-46, 2.18930862e-45,\n",
       "       5.41618112e-45, 1.33519126e-44, 3.27985302e-44, 8.02827732e-44,\n",
       "       1.95814076e-43, 4.75899752e-43, 1.15248039e-42, 2.78095883e-42,\n",
       "       6.68644045e-42, 1.60188471e-41, 3.82384103e-41, 9.09488340e-41,\n",
       "       2.15535896e-40, 5.08936592e-40, 1.19736281e-39, 2.80674067e-39,\n",
       "       6.55525610e-39, 1.52540196e-38, 3.53657284e-38, 8.16922738e-38,\n",
       "       1.88007785e-37, 4.31085630e-37, 9.84782946e-37, 2.24131625e-36,\n",
       "       5.08215371e-36, 1.14807661e-35, 2.58385862e-35, 5.79345720e-35,\n",
       "       1.29411961e-34, 2.87988380e-34, 6.38463129e-34, 1.41011119e-33,\n",
       "       3.10258689e-33, 6.80054895e-33, 1.48494301e-32, 3.23011339e-32,\n",
       "       6.99945601e-32, 1.51093478e-31, 3.24906523e-31, 6.95983263e-31,\n",
       "       1.48512562e-30, 3.15680668e-30, 6.68420200e-30, 1.40982207e-29,\n",
       "       2.96202408e-29, 6.19895941e-29, 1.29226420e-28, 2.68338224e-28,\n",
       "       5.55020301e-28, 1.14347506e-27, 2.34656413e-27, 4.79647814e-27,\n",
       "       9.76547198e-27, 1.98034635e-26, 4.00002437e-26, 8.04737289e-26,\n",
       "       1.61254579e-25, 3.21834707e-25, 6.39754044e-25, 1.26662778e-24,\n",
       "       2.49768263e-24, 4.90539809e-24, 9.59525471e-24, 1.86930646e-23,\n",
       "       3.62695997e-23, 7.00873756e-23, 1.34886395e-22, 2.58537984e-22,\n",
       "       4.93520259e-22, 9.38224140e-22, 1.77633878e-21, 3.34933945e-21,\n",
       "       6.28931468e-21, 1.17612886e-20, 2.19033507e-20, 4.06225273e-20,\n",
       "       7.50275452e-20, 1.37996683e-19, 2.52759445e-19, 4.61034801e-19,\n",
       "       8.37421976e-19, 1.51473307e-18, 2.72838575e-18, 4.89384457e-18,\n",
       "       8.74110128e-18, 1.55471427e-17, 2.75359692e-17, 4.85637729e-17,\n",
       "       8.52871675e-17, 1.49145844e-16, 2.59711884e-16, 4.50321538e-16,\n",
       "       7.77500921e-16, 1.33666783e-15, 2.28816636e-15, 3.90023139e-15,\n",
       "       6.61955846e-15, 1.11866685e-14, 1.88236086e-14, 3.15378923e-14,\n",
       "       5.26123203e-14, 8.73905827e-14, 1.44531206e-13, 2.37999415e-13,\n",
       "       3.90215877e-13, 6.37010092e-13, 1.03537487e-12, 1.67554655e-12,\n",
       "       2.69973191e-12, 4.33099609e-12, 6.91760473e-12, 1.10007512e-11,\n",
       "       1.74174868e-11, 2.74563716e-11, 4.30916690e-11, 6.73339482e-11,\n",
       "       1.04752301e-10, 1.62248237e-10, 2.50196705e-10, 3.84119803e-10,\n",
       "       5.87129248e-10, 8.93472327e-10, 1.35365317e-09, 2.04179072e-09,\n",
       "       3.06613486e-09, 4.58401735e-09, 6.82299529e-09, 1.01105932e-08,\n",
       "       1.49159173e-08, 2.19075675e-08, 3.20337958e-08, 4.66328529e-08,\n",
       "       6.75840613e-08, 9.75135079e-08, 1.40072553e-07, 2.00312829e-07,\n",
       "       2.85188312e-07, 4.04223744e-07, 5.70399407e-07, 8.01315575e-07,\n",
       "       1.12071613e-06, 1.56047044e-06, 2.16313614e-06, 2.98525314e-06,\n",
       "       4.10155213e-06, 5.61029844e-06, 7.64003565e-06, 1.03580423e-05,\n",
       "       1.39808694e-05, 1.87873862e-05, 2.51348258e-05, 3.34783875e-05,\n",
       "       4.43950234e-05, 5.86121023e-05, 7.70417038e-05, 1.00821356e-04,\n",
       "       1.31362059e-04, 1.70404480e-04, 2.20084160e-04, 2.83006603e-04,\n",
       "       3.62332957e-04, 4.61876962e-04, 5.86213581e-04, 7.40799548e-04,\n",
       "       9.32105727e-04, 1.16776080e-03, 1.45670534e-03, 1.80935481e-03,\n",
       "       2.23776940e-03, 2.75582798e-03, 3.37940268e-03, 4.12652998e-03,\n",
       "       5.01757321e-03, 6.07537092e-03, 7.32536464e-03, 8.79569907e-03,\n",
       "       1.05172872e-02, 1.25238329e-02, 1.48518018e-02, 1.75403356e-02,\n",
       "       2.06310982e-02, 2.41680510e-02, 2.81971497e-02, 3.27659577e-02,\n",
       "       3.79231758e-02, 4.37180848e-02, 5.01999043e-02, 5.74170712e-02,\n",
       "       6.54164440e-02, 7.42424425e-02, 8.39361342e-02, 9.45342827e-02,\n",
       "       1.06068373e-01, 1.18563635e-01, 1.32038080e-01, 1.46501580e-01,\n",
       "       1.61955006e-01, 1.78389443e-01, 1.95785515e-01, 2.14112828e-01,\n",
       "       2.33329558e-01, 2.53382194e-01, 2.74205447e-01, 2.95722343e-01,\n",
       "       3.17844498e-01, 3.40472575e-01, 3.63496929e-01, 3.86798426e-01,\n",
       "       4.10249426e-01, 4.33714925e-01, 4.57053828e-01, 4.80120336e-01,\n",
       "       5.02765438e-01, 5.24838465e-01, 5.46188694e-01, 5.66666982e-01,\n",
       "       5.86127396e-01, 6.04428814e-01, 6.21436489e-01, 6.37023542e-01,\n",
       "       6.51072367e-01, 6.63475934e-01, 6.74138976e-01, 6.82979036e-01,\n",
       "       6.89927382e-01, 6.94929757e-01, 6.97946977e-01, 6.98955358e-01,\n",
       "       6.97946977e-01, 6.94929757e-01, 6.89927382e-01, 6.82979036e-01,\n",
       "       6.74138976e-01, 6.63475934e-01, 6.51072367e-01, 6.37023542e-01,\n",
       "       6.21436489e-01, 6.04428814e-01, 5.86127396e-01, 5.66666982e-01,\n",
       "       5.46188694e-01, 5.24838465e-01, 5.02765438e-01, 4.80120336e-01,\n",
       "       4.57053828e-01, 4.33714925e-01, 4.10249426e-01, 3.86798426e-01,\n",
       "       3.63496929e-01, 3.40472575e-01, 3.17844498e-01, 2.95722343e-01,\n",
       "       2.74205447e-01, 2.53382194e-01, 2.33329558e-01, 2.14112828e-01,\n",
       "       1.95785515e-01, 1.78389443e-01, 1.61955006e-01, 1.46501580e-01,\n",
       "       1.32038080e-01, 1.18563635e-01, 1.06068373e-01, 9.45342827e-02,\n",
       "       8.39361342e-02, 7.42424425e-02, 6.54164440e-02, 5.74170712e-02,\n",
       "       5.01999043e-02, 4.37180848e-02, 3.79231758e-02, 3.27659577e-02,\n",
       "       2.81971497e-02, 2.41680510e-02, 2.06310982e-02, 1.75403356e-02,\n",
       "       1.48518018e-02, 1.25238329e-02, 1.05172872e-02, 8.79569907e-03,\n",
       "       7.32536464e-03, 6.07537092e-03, 5.01757321e-03, 4.12652998e-03,\n",
       "       3.37940268e-03, 2.75582798e-03, 2.23776940e-03, 1.80935481e-03,\n",
       "       1.45670534e-03, 1.16776080e-03, 9.32105727e-04, 7.40799548e-04,\n",
       "       5.86213581e-04, 4.61876962e-04, 3.62332957e-04, 2.83006603e-04,\n",
       "       2.20084160e-04, 1.70404480e-04, 1.31362059e-04, 1.00821356e-04,\n",
       "       7.70417038e-05, 5.86121023e-05, 4.43950234e-05, 3.34783875e-05,\n",
       "       2.51348258e-05, 1.87873862e-05, 1.39808694e-05, 1.03580423e-05,\n",
       "       7.64003565e-06, 5.61029844e-06, 4.10155213e-06, 2.98525314e-06,\n",
       "       2.16313614e-06, 1.56047044e-06, 1.12071613e-06, 8.01315575e-07,\n",
       "       5.70399407e-07, 4.04223744e-07, 2.85188312e-07, 2.00312829e-07,\n",
       "       1.40072553e-07, 9.75135079e-08, 6.75840613e-08, 4.66328529e-08,\n",
       "       3.20337958e-08, 2.19075675e-08, 1.49159173e-08, 1.01105932e-08,\n",
       "       6.82299529e-09, 4.58401735e-09, 3.06613486e-09, 2.04179072e-09,\n",
       "       1.35365317e-09, 8.93472327e-10, 5.87129248e-10, 3.84119803e-10,\n",
       "       2.50196705e-10, 1.62248237e-10, 1.04752301e-10, 6.73339482e-11,\n",
       "       4.30916690e-11, 2.74563716e-11, 1.74174868e-11, 1.10007512e-11,\n",
       "       6.91760473e-12, 4.33099609e-12, 2.69973191e-12, 1.67554655e-12,\n",
       "       1.03537487e-12, 6.37010092e-13, 3.90215877e-13, 2.37999415e-13,\n",
       "       1.44531206e-13, 8.73905827e-14, 5.26123203e-14, 3.15378923e-14,\n",
       "       1.88236086e-14, 1.11866685e-14, 6.61955846e-15, 3.90023139e-15,\n",
       "       2.28816636e-15, 1.33666783e-15, 7.77500921e-16, 4.50321538e-16,\n",
       "       2.59711884e-16, 1.49145844e-16, 8.52871675e-17, 4.85637729e-17,\n",
       "       2.75359692e-17, 1.55471427e-17, 8.74110128e-18, 4.89384457e-18,\n",
       "       2.72838575e-18, 1.51473307e-18, 8.37421976e-19, 4.61034801e-19,\n",
       "       2.52759445e-19, 1.37996683e-19, 7.50275452e-20, 4.06225273e-20,\n",
       "       2.19033507e-20, 1.17612886e-20, 6.28931468e-21, 3.34933945e-21,\n",
       "       1.77633878e-21, 9.38224140e-22, 4.93520259e-22, 2.58537984e-22,\n",
       "       1.34886395e-22, 7.00873756e-23, 3.62695997e-23, 1.86930646e-23,\n",
       "       9.59525471e-24, 4.90539809e-24, 2.49768263e-24, 1.26662778e-24,\n",
       "       6.39754044e-25, 3.21834707e-25, 1.61254579e-25, 8.04737289e-26,\n",
       "       4.00002437e-26, 1.98034635e-26, 9.76547198e-27, 4.79647814e-27,\n",
       "       2.34656413e-27, 1.14347506e-27, 5.55020301e-28, 2.68338224e-28,\n",
       "       1.29226420e-28, 6.19895941e-29, 2.96202408e-29, 1.40982207e-29,\n",
       "       6.68420200e-30, 3.15680668e-30, 1.48512562e-30, 6.95983263e-31,\n",
       "       3.24906523e-31, 1.51093478e-31, 6.99945601e-32, 3.23011339e-32,\n",
       "       1.48494301e-32, 6.80054895e-33, 3.10258689e-33, 1.41011119e-33,\n",
       "       6.38463129e-34, 2.87988380e-34, 1.29411961e-34, 5.79345720e-35,\n",
       "       2.58385862e-35, 1.14807661e-35, 5.08215371e-36, 2.24131625e-36,\n",
       "       9.84782946e-37, 4.31085630e-37, 1.88007785e-37, 8.16922738e-38,\n",
       "       3.53657284e-38, 1.52540196e-38, 6.55525610e-39, 2.80674067e-39,\n",
       "       1.19736281e-39, 5.08936591e-40, 2.15535892e-40, 9.09488251e-41,\n",
       "       3.82383879e-41, 1.60187907e-41, 6.68629888e-42, 2.78060488e-42,\n",
       "       1.15159855e-42, 4.73710444e-43, 1.90397895e-43, 6.69308606e-44,\n",
       "       0.00000000e+00])"
      ]
     },
     "execution_count": 37,
     "metadata": {},
     "output_type": "execute_result"
    }
   ],
   "source": [
    "%time simulasi(temp_awal, F, Nt);"
   ]
  },
  {
   "cell_type": "code",
   "execution_count": null,
   "id": "7d0a0dd1",
   "metadata": {},
   "outputs": [],
   "source": []
  }
 ],
 "metadata": {
  "kernelspec": {
   "display_name": "Python 3 (ipykernel)",
   "language": "python",
   "name": "python3"
  },
  "language_info": {
   "codemirror_mode": {
    "name": "ipython",
    "version": 3
   },
   "file_extension": ".py",
   "mimetype": "text/x-python",
   "name": "python",
   "nbconvert_exporter": "python",
   "pygments_lexer": "ipython3",
   "version": "3.9.12"
  }
 },
 "nbformat": 4,
 "nbformat_minor": 5
}

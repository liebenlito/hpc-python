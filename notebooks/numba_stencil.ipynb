{
 "cells": [
  {
   "cell_type": "markdown",
   "id": "254140dd",
   "metadata": {},
   "source": [
    "# Numba Stencil\n",
    "\n",
    "\n",
    "Operasi stencil https://www.mathworks.com/help/parallel-computing/stencil-operations-on-a-gpu.html biasanya digunakan pada metode finite differences, finite elements, atau metode lain yang memanfaatkan suatu mesh atau grid."
   ]
  },
  {
   "cell_type": "markdown",
   "id": "a2568b35",
   "metadata": {},
   "source": [
    "## Persamaan Panas 1D\n",
    "\n",
    "$$\n",
    "\\frac{\\partial u}{\\partial t} = \\alpha \\frac{\\partial^2 u}{\\partial x^2}, \\hspace{1em} x \\in (0,L), t \\in (0, T]\n",
    "$$\n",
    "\n",
    "dengan inisial awal $u(x,0) = I_0(x)$ dan syarat batas $u(0,t) = 0$ dan $u(L,t) = 0$.\n",
    "\n",
    "Masalah ini dapat kita selesaikan dengan mendiskritisasi ruang dan waktunya (disebut juga dengan **metode finite difference**):\n",
    "\n",
    "* **space discretisation:** $x_i = i\\Delta x, i = 0, 1, \\cdots, N_x$.\n",
    "* **time discretisation:** $t_n = n\\Delta t, t = 0, 1, \\cdots, N_t$\n",
    "\n",
    "dengan menggunakan **Central Time Central Space (CTCS)** atau dikenal sebagai metode **Crank-Nicolson 1D**\n",
    "\n",
    "$$\n",
    "\\frac{w_i^{n+1} - w_i^n}{\\Delta t} = \\alpha \\frac{w_{i+1}^n - 2w_i^n + w_{i-1}^n}{\\Delta x^2}\n",
    "$$\n",
    "\n",
    "sehingga memebentuk\n",
    "\n",
    "$$\n",
    "w_i^{n+1} = w_i^n + F(w_{i+1}^n - 2w_i^n + w_{i-1}^n)\n",
    "$$\n",
    "\n",
    "dimana $F = \\alpha \\frac{\\Delta t}{\\Delta x^2}$.\n",
    "\n",
    "\n",
    "![](../images/Heat1D.jpg)\n",
    "\n",
    "Di dalam perhitungan grid terdapat $w_{i-1}, w_i, w_{i+1}$ yang disebut sebagai **3-titik stencil**.\n",
    "\n",
    "![](../images/Stencil1D.jpg)"
   ]
  },
  {
   "cell_type": "markdown",
   "id": "eb1840e9",
   "metadata": {},
   "source": [
    "### Implementasi"
   ]
  },
  {
   "cell_type": "code",
   "execution_count": 1,
   "id": "fef10005",
   "metadata": {},
   "outputs": [],
   "source": [
    "import numba\n",
    "import numpy as np\n",
    "import matplotlib.pyplot as plt"
   ]
  },
  {
   "cell_type": "code",
   "execution_count": 19,
   "id": "490a00aa",
   "metadata": {},
   "outputs": [],
   "source": [
    "Nx = 500\n",
    "Nt = 10_000\n",
    "T = 100.\n",
    "L = 100.\n",
    "\n",
    "dx = L/Nx\n",
    "dt = T/Nt\n",
    "alpha = 1.0\n",
    "F = alpha * dt/dx*dx\n",
    "\n",
    "x = np.linspace(0, L, Nx+1)\n",
    "\n",
    "# nilai awal: sin(2*pi*x) dimana 50 <= x <= 60\n",
    "temp_awal = np.zeros(Nx+1)\n",
    "temp_awal[Nx//2:Nx//2+Nx//10] = np.sin(2.0 * np.pi * (x[Nx//2:Nx//2+Nx//10] - x[Nx//2]) / (L/5) )"
   ]
  },
  {
   "cell_type": "code",
   "execution_count": 20,
   "id": "80fd29d0",
   "metadata": {},
   "outputs": [],
   "source": [
    "@numba.stencil\n",
    "def Crank_Nicolson(x, F):\n",
    "    return x[0] + F * (x[1] - 2.0 * x[0] + x[-1])"
   ]
  },
  {
   "cell_type": "code",
   "execution_count": 21,
   "id": "8ceaaad6",
   "metadata": {},
   "outputs": [],
   "source": [
    "@numba.njit\n",
    "def simulasi(x, F, Nt):\n",
    "    for i in range(Nt):\n",
    "        x = Crank_Nicolson(x, F)\n",
    "    \n",
    "    return x"
   ]
  },
  {
   "cell_type": "code",
   "execution_count": 22,
   "id": "9d3c408b",
   "metadata": {},
   "outputs": [
    {
     "data": {
      "image/png": "[encoded data removed]",
      "text/plain": [
       "<Figure size 500x500 with 1 Axes>"
      ]
     },
     "metadata": {},
     "output_type": "display_data"
    }
   ],
   "source": [
    "temp_simulasi = simulasi(temp_awal, F, Nt)\n",
    "\n",
    "fig = plt.figure(figsize=(5,5))\n",
    "ax = fig.add_subplot(111)\n",
    "ax.set_xlabel('$x$')\n",
    "ax.set_ylabel('$u$')\n",
    "\n",
    "ax.plot(x, temp_awal, label='$t = 0.0$')\n",
    "ax.plot(x, temp_simulasi, label=f'$t = {T}$')\n",
    "\n",
    "ax.legend()\n",
    "plt.show()"
   ]
  },
  {
   "cell_type": "markdown",
   "id": "fea1a591",
   "metadata": {},
   "source": [
    "### Widgets (Extra)"
   ]
  },
  {
   "cell_type": "code",
   "execution_count": 23,
   "id": "5224ce51",
   "metadata": {},
   "outputs": [],
   "source": [
    "import ipywidgets as widgets\n",
    "from ipywidgets import HBox, VBox\n",
    "from IPython.display import display"
   ]
  },
  {
   "cell_type": "code",
   "execution_count": 27,
   "id": "e4678b4c",
   "metadata": {},
   "outputs": [
    {
     "data": {
      "application/vnd.jupyter.widget-view+json": {
       "model_id": "8926b5c006e345678a145f2fcc0dc532",
       "version_major": 2,
       "version_minor": 0
      },
      "text/plain": [
       "interactive(children=(IntSlider(value=500, description='T', max=1000, min=1), Output()), _dom_classes=('widget…"
      ]
     },
     "metadata": {},
     "output_type": "display_data"
    }
   ],
   "source": [
    "@widgets.interact(T=(1,1000))\n",
    "def interaksi(T):\n",
    "    x = np.linspace(0, L, Nx+1)\n",
    "    \n",
    "    fig = plt.figure(figsize=(5,5))\n",
    "    ax = fig.add_subplot(111)\n",
    "    ax.set_xlabel('$x$')\n",
    "    ax.set_ylabel('$u$')\n",
    "\n",
    "    ax.plot(x, temp_awal, label='$t = 0.0$')\n",
    "    ax.plot(x, simulasi(temp_awal, F, int(T/dt)), label=f'$t = {T}$')\n",
    "\n",
    "    ax.legend()"
   ]
  },
  {
   "cell_type": "markdown",
   "id": "a16386ee",
   "metadata": {},
   "source": [
    "### Analisa Performa\n",
    "\n",
    "**Python vs NumPy vs Numba**"
   ]
  },
  {
   "cell_type": "code",
   "execution_count": null,
   "id": "23531c43",
   "metadata": {},
   "outputs": [],
   "source": [
    "%time simulasi(temp_awal, F, Nt)"
   ]
  },
  {
   "cell_type": "markdown",
   "id": "c86b8bbd",
   "metadata": {},
   "source": [
    "## Persamaan Panas 2D"
   ]
  },
  {
   "cell_type": "code",
   "execution_count": null,
   "id": "7d0a0dd1",
   "metadata": {},
   "outputs": [],
   "source": []
  }
 ],
 "metadata": {
  "kernelspec": {
   "display_name": "Python 3 (ipykernel)",
   "language": "python",
   "name": "python3"
  },
  "language_info": {
   "codemirror_mode": {
    "name": "ipython",
    "version": 3
   },
   "file_extension": ".py",
   "mimetype": "text/x-python",
   "name": "python",
   "nbconvert_exporter": "python",
   "pygments_lexer": "ipython3",
   "version": "3.9.12"
  }
 },
 "nbformat": 4,
 "nbformat_minor": 5
}

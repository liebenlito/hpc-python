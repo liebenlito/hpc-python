{
 "cells": [
  {
   "cell_type": "markdown",
   "metadata": {},
   "source": [
    "# Pendahuluan\n",
    "\n",
    "Cakupan topik:\n",
    "1. Apa saja elemen-elemen penting dari __arsitektur komputer__?\n",
    "2. Bagaimana __perkembangan__ dari komputer saat ini?\n",
    "3. Apa kiat-kiat mempercepat __waktu eksekusi__ dari Python code? "
   ]
  },
  {
   "cell_type": "markdown",
   "metadata": {},
   "source": [
    "## Arsitekur Komputer Dasar\n",
    "\n",
    "Di dalam keperluan komputasi, arsitektur penting yang perlu dikenal adalah computing units (CU). CU berperan untuk melakukan operasi aritmatika dan logika sehingga CU dapat disebut juga sebagai arithmatic-logic unit (ALU). Komponen yang kedua adalah __memory unit__. Memory unit digunakan sebagai tempat penyimpanan data atau bisa dianalogikan sebagai tempat antrian data sebelum data tersebut diproses oleh CU. Memory unit memiliki dua sifat, pertama adalah bersifat __sementara (RAM)__ dan kedua adalah bersifat __permanen (storage)__. Di dalam CU terdapat memory unit yang dinamakan __cache__. CU sekarang ini terdapat minimal 3 layer cache yaitu L1, L2, dan L3. Semua komponen ini memiliki jalur komunikasi yang disebut __bus__."
   ]
  },
  {
   "cell_type": "markdown",
   "metadata": {},
   "source": [
    "## Computing Units\n",
    "\n",
    "Di era sekarang ini, computing units terdiri dari CPU dan graphical processing units (GPU). Karakteristik utama yang menarik dari CU adalah perhitungan banyaknya operasi yang dibutuhkan dalam satu cycle dan banyaknya cycle yang dapat dikerjakan dalam satu detik. Perhitungan ini diukur oleh __instruction per cycle (IPC)__ dan __clock speed__.\n",
    "\n",
    "![](../images/clockspeed.png)"
   ]
  },
  {
   "cell_type": "markdown",
   "metadata": {},
   "source": [
    "## Memory Units\n",
    "\n",
    "![](../images/karakteristik-memori.png)"
   ]
  },
  {
   "cell_type": "markdown",
   "metadata": {},
   "source": [
    "## Communication Units\n",
    "\n",
    "![](../images/communication%20unit.png)"
   ]
  },
  {
   "cell_type": "markdown",
   "metadata": {},
   "source": [
    "## Numpy Cheatsheets"
   ]
  },
  {
   "cell_type": "code",
   "execution_count": 1,
   "metadata": {},
   "outputs": [],
   "source": [
    "import numpy as np"
   ]
  },
  {
   "cell_type": "markdown",
   "metadata": {},
   "source": [
    "Tipe data dasar dari Numpy adalah array. Code berikut ini membuat array dengan tipe data double precision dengan 3 elemen."
   ]
  },
  {
   "cell_type": "code",
   "execution_count": 2,
   "metadata": {},
   "outputs": [
    {
     "data": {
      "text/plain": [
       "numpy.ndarray"
      ]
     },
     "execution_count": 2,
     "metadata": {},
     "output_type": "execute_result"
    }
   ],
   "source": [
    "a = np.array([3.5, 4, 18.9], dtype='float64')\n",
    "type(a)"
   ]
  },
  {
   "cell_type": "markdown",
   "metadata": {},
   "source": [
    "Parameter `dtype='float64'` menunjukan tipe data double precision yang sebenarnya tidak diperlukan karena secara default numpy array bertipe data double precision. Untuk menggunakan tipe data single precision kita dapat menggunakan parameter `dtype='float32'`. Daftar berbagai tipe data pada Numpy dapat dilihat (https://numpy.org/devdocs/user/basics.types.html). Berikut ini adalah code untuk mendeklarasikan array dengan berbagai cara"
   ]
  },
  {
   "cell_type": "code",
   "execution_count": 3,
   "metadata": {},
   "outputs": [],
   "source": [
    "a_random = np.random.rand(10) # array random dengan 10 elemen\n",
    "a_ones = np.ones((10,10), dtype='float') # matriks 10 x 10 dengan semua elemen bernilai 1\n",
    "a_zeros = np.zeros((10, 10, 10), dtype='complex128') # tensor dengan semua elemen bernilai 0 dan tipe data complex\n",
    "a_empty = np.empty(50, dtype='byte') # array yang dapat diisi oleh 'data' berukuran 50 bytes.\n",
    "a_range = np.arange(50) # array berjumlah 50 elemen dan elemen-elemennya bernilai dari 0-49."
   ]
  },
  {
   "cell_type": "markdown",
   "metadata": {},
   "source": [
    "Kita juga dapat mengakses setiap elemen dari array dan mengetahui ukuran dari array-array di atas dengan code berikut"
   ]
  },
  {
   "cell_type": "code",
   "execution_count": 10,
   "metadata": {},
   "outputs": [
    {
     "name": "stdout",
     "output_type": "stream",
     "text": [
      "(10,)\n",
      "(10, 10)\n",
      "(10, 10, 10)\n",
      "0.3003821728666056\n",
      "[0.30038217 0.32254245]\n",
      "[0.13554162 0.64965307]\n",
      "[[1. 1. 1.]\n",
      " [1. 1. 1.]\n",
      " [1. 1. 1.]]\n"
     ]
    }
   ],
   "source": [
    "# ukuran array\n",
    "print(a_random.shape) \n",
    "print(a_ones.shape)\n",
    "print(a_zeros.shape)\n",
    "\n",
    "# akses elemen array\n",
    "print(a_random[0]) # akses elemen pertama\n",
    "print(a_random[:2]) # akses dua elemen pertama\n",
    "print(a_random[-2:]) # akses dua elemen terakhir\n",
    "print(a_ones[:3, 2:5]) # akses kolom ke-3 sampai ke-5 di 3 baris pertama"
   ]
  },
  {
   "cell_type": "code",
   "execution_count": 13,
   "metadata": {},
   "outputs": [
    {
     "data": {
      "text/plain": [
       "array([[ 1.,  1.,  1.,  1.,  0.,  1.,  1.,  1.,  1.,  1.],\n",
       "       [ 1.,  1.,  1.,  1.,  1.,  1.,  1.,  1.,  1.,  1.],\n",
       "       [ 1.,  1.,  1.,  1.,  2.,  1.,  1.,  1.,  1.,  1.],\n",
       "       [ 1.,  1.,  1., 10.,  3.,  1.,  1.,  1.,  1.,  1.],\n",
       "       [ 1.,  1.,  1.,  1.,  4.,  1.,  1.,  1.,  1.,  1.],\n",
       "       [ 1.,  1.,  1.,  1.,  5.,  1.,  1.,  1.,  1.,  1.],\n",
       "       [ 1.,  1.,  1.,  1.,  6.,  1.,  1.,  1.,  1.,  1.],\n",
       "       [ 1.,  1.,  1.,  1.,  7.,  1.,  1.,  1.,  1.,  1.],\n",
       "       [10., 10., 10., 10., 10., 10., 10., 10., 10., 10.],\n",
       "       [ 1.,  1.,  1.,  1.,  9.,  1.,  1.,  1.,  1.,  1.]])"
      ]
     },
     "execution_count": 13,
     "metadata": {},
     "output_type": "execute_result"
    }
   ],
   "source": [
    "a_ones[3,3] = 10 # ubah nilai elemen di baris 3 dan kolom 3 dengan 10\n",
    "a_ones[:,4] = np.arange(10) # ubah nilai elemen di kolom 3 dengan nilai 0-9\n",
    "a_ones[8] = 10 # ubah nilai baris 8 dengan 10\n",
    "a_ones"
   ]
  },
  {
   "cell_type": "markdown",
   "metadata": {},
   "source": [
    "Plot grafik menggunakan modul `matplotlib`."
   ]
  },
  {
   "cell_type": "code",
   "execution_count": 14,
   "metadata": {},
   "outputs": [
    {
     "data": {
      "image/png": "[encoded data removed]",
      "text/plain": [
       "<Figure size 640x480 with 1 Axes>"
      ]
     },
     "metadata": {},
     "output_type": "display_data"
    }
   ],
   "source": [
    "import matplotlib.pyplot as plt\n",
    "\n",
    "x = np.linspace(-10, 10, 1000)\n",
    "y = np.exp(-x**2)\n",
    "plt.plot(x, y)\n",
    "plt.xlabel('x')\n",
    "plt.ylabel('y')\n",
    "plt.show()"
   ]
  },
  {
   "cell_type": "markdown",
   "metadata": {},
   "source": [
    "Operasi matriks seperti perkalian matriks-matriks atau matriks-vektor di Numpy"
   ]
  },
  {
   "cell_type": "code",
   "execution_count": 19,
   "metadata": {},
   "outputs": [
    {
     "name": "stdout",
     "output_type": "stream",
     "text": [
      "[[3 3]\n",
      " [2 2]]\n",
      "[[1 2]\n",
      " [1 1]]\n"
     ]
    }
   ],
   "source": [
    "A = np.array([[1,2], [1,1]])\n",
    "B = np.array([[1,1], [1,1]])\n",
    "\n",
    "C = A @ B # perkalian matriks\n",
    "D = A * B # perkalian element-wise matriks\n",
    "\n",
    "print(C)\n",
    "print(D)"
   ]
  },
  {
   "cell_type": "code",
   "execution_count": 22,
   "metadata": {},
   "outputs": [
    {
     "data": {
      "text/plain": [
       "(1000,)"
      ]
     },
     "execution_count": 22,
     "metadata": {},
     "output_type": "execute_result"
    }
   ],
   "source": [
    "A = np.random.rand(1000, 1000)\n",
    "b = np.random.rand(1000)\n",
    "x = np.linalg.solve(A, b)\n",
    "x.shape"
   ]
  },
  {
   "cell_type": "code",
   "execution_count": 24,
   "metadata": {},
   "outputs": [
    {
     "data": {
      "text/plain": [
       "1.014003066023323e-13"
      ]
     },
     "execution_count": 24,
     "metadata": {},
     "output_type": "execute_result"
    }
   ],
   "source": [
    "residual = np.linalg.norm(b - A @ x) / (np.linalg.norm(A) * np.linalg.norm(x))\n",
    "residual"
   ]
  },
  {
   "cell_type": "markdown",
   "metadata": {},
   "source": [
    "## Komputasi Paralel di Python\n",
    "\n",
    "Di bab ini kita akan membahas berbagai macam eksekusi paralel. Kemudian kita akan mendemonstrasikan sejumlah tools untuk eksekusi paralel. Pertama kita lihat contoh sederhana berikut"
   ]
  },
  {
   "cell_type": "code",
   "execution_count": 25,
   "metadata": {},
   "outputs": [],
   "source": [
    "import numpy as np\n",
    "\n",
    "n = 1000000\n",
    "a = np.random.rand(n)\n",
    "b = np.random.rand(n)\n",
    "\n",
    "c = np.empty(n)\n",
    "\n",
    "for i in range(n):\n",
    "    c[i] = a[i] + b[i]"
   ]
  },
  {
   "cell_type": "markdown",
   "metadata": {},
   "source": [
    "Arsitektur **SIMD** \n",
    "\n",
    "![](../images/simd_sum.png)\n",
    "\n",
    "* Process tidak mengizinkan untuk mengkases data secara langsung dari proses satu ke yang lain.\n",
    "* Thread adalah aliran eksekusi di dalam suatu process. Semua thread dapat melakukan sharing memory dan bebas untuk membaca dan memanipulasi data satu dengan yang lain."
   ]
  },
  {
   "cell_type": "code",
   "execution_count": 37,
   "metadata": {},
   "outputs": [],
   "source": [
    "import numpy as np\n",
    "import threading\n",
    "import multiprocessing\n",
    "\n",
    "def worker(arr1, arr2, arr3, chunk):\n",
    "    \n",
    "    for index in chunk:\n",
    "        arr3[index] = arr1[index] + arr2[index]\n",
    "\n",
    "nthreads = multiprocessing.cpu_count()\n",
    "\n",
    "np.random.seed(1)\n",
    "\n",
    "n = 1000000\n",
    "a = np.random.rand(n)\n",
    "b = np.random.rand(n)\n",
    "c = np.empty(n)\n",
    "\n",
    "chunks = np.array_split(range(n), nthreads) # membagi n dengan sejumlah threads\n",
    "\n",
    "all_threads = []\n",
    "\n",
    "for chunk in chunks:\n",
    "    thread = threading.Thread(target=worker, args=(a, b, c, chunk))\n",
    "    all_threads.append(thread)\n",
    "    thread.start()\n",
    "\n",
    "for thread in all_threads:\n",
    "    thread.join()"
   ]
  },
  {
   "cell_type": "code",
   "execution_count": 38,
   "metadata": {},
   "outputs": [
    {
     "name": "stdout",
     "output_type": "stream",
     "text": [
      "8\n",
      "[array([     0,      1,      2, ..., 124997, 124998, 124999]), array([125000, 125001, 125002, ..., 249997, 249998, 249999]), array([250000, 250001, 250002, ..., 374997, 374998, 374999]), array([375000, 375001, 375002, ..., 499997, 499998, 499999]), array([500000, 500001, 500002, ..., 624997, 624998, 624999]), array([625000, 625001, 625002, ..., 749997, 749998, 749999]), array([750000, 750001, 750002, ..., 874997, 874998, 874999]), array([875000, 875001, 875002, ..., 999997, 999998, 999999])]\n",
      "[0.55531841 1.41379807 0.55724769 ... 0.73478182 0.99620445 0.66344561]\n"
     ]
    }
   ],
   "source": [
    "print(nthreads)\n",
    "print(chunks)\n",
    "print(c)"
   ]
  },
  {
   "cell_type": "markdown",
   "metadata": {},
   "source": [
    "Code di atas sebenarnya tidak mengeksekusi secara paralel! Alasannya adalah karena Python memiliki feature GIL (Global Interpreter Lock). Untuk melakukan eksekusi paralel kita gunakan `Numba`."
   ]
  },
  {
   "cell_type": "code",
   "execution_count": 33,
   "metadata": {},
   "outputs": [],
   "source": [
    "import numpy as np\n",
    "import numba\n",
    "\n",
    "n = 1000000\n",
    "a = np.random.rand(n)\n",
    "b = np.random.rand(n)\n",
    "\n",
    "c = np.empty(n)\n",
    "\n",
    "@numba.njit(parallel=True)\n",
    "def numba_fun(arr1, arr2, arr3):\n",
    "\n",
    "    for index in numba.prange(n):\n",
    "        arr3[index] = arr1[index] + arr2[index]\n",
    "\n",
    "numba_fun(a,b,c)"
   ]
  },
  {
   "cell_type": "code",
   "execution_count": 34,
   "metadata": {},
   "outputs": [
    {
     "name": "stdout",
     "output_type": "stream",
     "text": [
      "[0.88965294 1.220542   0.20014882 ... 0.9819837  0.91527884 1.20463264]\n"
     ]
    }
   ],
   "source": [
    "print(c)"
   ]
  },
  {
   "cell_type": "code",
   "execution_count": null,
   "metadata": {},
   "outputs": [],
   "source": []
  }
 ],
 "metadata": {
  "kernelspec": {
   "display_name": "Python 3",
   "language": "python",
   "name": "python3"
  },
  "language_info": {
   "codemirror_mode": {
    "name": "ipython",
    "version": 3
   },
   "file_extension": ".py",
   "mimetype": "text/x-python",
   "name": "python",
   "nbconvert_exporter": "python",
   "pygments_lexer": "ipython3",
   "version": "3.9.12"
  },
  "orig_nbformat": 4,
  "vscode": {
   "interpreter": {
    "hash": "53d5a6e36cc43c05634cd1771832eb144e71cf8056471b08a2f37e088ce7f261"
   }
  }
 },
 "nbformat": 4,
 "nbformat_minor": 2
}

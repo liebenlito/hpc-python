{
 "cells": [
  {
   "cell_type": "markdown",
   "metadata": {},
   "source": [
    "# Pendahuluan\n",
    "\n",
    "Cakupan topik:\n",
    "1. Apa saja elemen-elemen penting dari __arsitektur komputer__?\n",
    "2. Bagaimana __perkembangan__ dari komputer saat ini?\n",
    "3. Apa kiat-kiat mempercepat __waktu eksekusi__ dari Python code? "
   ]
  },
  {
   "cell_type": "markdown",
   "metadata": {},
   "source": [
    "## Arsitekur Komputer Dasar\n",
    "\n",
    "Di dalam keperluan komputasi, arsitektur penting yang perlu dikenal adalah computing units (CU). CU berperan untuk melakukan operasi aritmatika dan logika sehingga CU dapat disebut juga sebagai arithmatic-logic unit (ALU). Komponen yang kedua adalah __memory unit__. Memory unit digunakan sebagai tempat penyimpanan data atau bisa dianalogikan sebagai tempat antrian data sebelum data tersebut diproses oleh CU. Memory unit memiliki dua sifat, pertama adalah bersifat __sementara (RAM)__ dan kedua adalah bersifat __permanen (storage)__. Di dalam CU terdapat memory unit yang dinamakan __cache__. CU sekarang ini terdapat minimal 3 layer cache yaitu L1, L2, dan L3. Semua komponen ini memiliki jalur komunikasi yang disebut __bus__."
   ]
  },
  {
   "cell_type": "markdown",
   "metadata": {},
   "source": [
    "## Computing Units\n",
    "\n",
    "Di era sekarang ini, computing units terdiri dari CPU dan graphical processing units (GPU). Karakteristik utama yang menarik dari CU adalah perhitungan banyaknya operasi yang dibutuhkan dalam satu cycle dan banyaknya cycle yang dapat dikerjakan dalam satu detik. Perhitungan ini diukur oleh __instruction per cycle (IPC)__ dan __clock speed__.\n",
    "\n",
    "![](../images/clockspeed.png)"
   ]
  },
  {
   "cell_type": "markdown",
   "metadata": {},
   "source": [
    "## Memory Units\n",
    "\n",
    "![](../images/karakteristik-memori.png)"
   ]
  },
  {
   "cell_type": "markdown",
   "metadata": {},
   "source": [
    "## Communication Units\n",
    "\n",
    "![](../images/communication%20unit.png)"
   ]
  },
  {
   "cell_type": "code",
   "execution_count": 1,
   "metadata": {},
   "outputs": [],
   "source": [
    "import math\n",
    "\n",
    "def check_prime(angka):\n",
    "    sqrt_angka = math.sqrt(angka)\n",
    "    for i in range(2, int(sqrt_angka) + 1):\n",
    "        if (angka / i).is_integer():\n",
    "            return False\n",
    "    return True"
   ]
  },
  {
   "cell_type": "code",
   "execution_count": 4,
   "metadata": {},
   "outputs": [
    {
     "name": "stdout",
     "output_type": "stream",
     "text": [
      "check_prime(10000000) = False\n",
      "check_prime(10000019) = True\n"
     ]
    }
   ],
   "source": [
    "print(f\"check_prime(10000000) = {check_prime(10000000)}\")\n",
    "print(f\"check_prime(10000019) = {check_prime(10000019)}\")"
   ]
  },
  {
   "cell_type": "code",
   "execution_count": 6,
   "metadata": {},
   "outputs": [],
   "source": [
    "import math\n",
    "\n",
    "def check_prime_vectorize(number):\n",
    "    sqrt_number = math.sqrt(number)\n",
    "    numbers = range(2, int(sqrt_number) + 1)\n",
    "\n",
    "    for i in range(0, len(numbers), 5):\n",
    "        hasil = (number / numbers[i:(i + 5)]).is_integer()\n",
    "        if any(hasil):\n",
    "            return False\n",
    "    \n",
    "    return True"
   ]
  },
  {
   "cell_type": "code",
   "execution_count": 7,
   "metadata": {},
   "outputs": [
    {
     "ename": "TypeError",
     "evalue": "unsupported operand type(s) for /: 'int' and 'range'",
     "output_type": "error",
     "traceback": [
      "\u001b[0;31m---------------------------------------------------------------------------\u001b[0m",
      "\u001b[0;31mTypeError\u001b[0m                                 Traceback (most recent call last)",
      "\u001b[1;32m/Users/muhazaliebenlito/vscode/hpc-python/notebooks/01-introduction.ipynb Cell 9\u001b[0m in \u001b[0;36m<module>\u001b[0;34m\u001b[0m\n\u001b[0;32m----> <a href='vscode-notebook-cell:/Users/muhazaliebenlito/vscode/hpc-python/notebooks/01-introduction.ipynb#X11sZmlsZQ%3D%3D?line=0'>1</a>\u001b[0m \u001b[39mprint\u001b[39m(\u001b[39mf\u001b[39m\u001b[39m\"\u001b[39m\u001b[39mcheck_prime_vectorize(10000000) = \u001b[39m\u001b[39m{\u001b[39;00mcheck_prime_vectorize(\u001b[39m10000000\u001b[39m)\u001b[39m}\u001b[39;00m\u001b[39m\"\u001b[39m)\n\u001b[1;32m      <a href='vscode-notebook-cell:/Users/muhazaliebenlito/vscode/hpc-python/notebooks/01-introduction.ipynb#X11sZmlsZQ%3D%3D?line=1'>2</a>\u001b[0m \u001b[39mprint\u001b[39m(\u001b[39mf\u001b[39m\u001b[39m\"\u001b[39m\u001b[39mcheck_prime_vectorize(10000019) = \u001b[39m\u001b[39m{\u001b[39;00mcheck_prime_vectorize(\u001b[39m10000019\u001b[39m)\u001b[39m}\u001b[39;00m\u001b[39m\"\u001b[39m)\n",
      "\u001b[1;32m/Users/muhazaliebenlito/vscode/hpc-python/notebooks/01-introduction.ipynb Cell 9\u001b[0m in \u001b[0;36mcheck_prime_vectorize\u001b[0;34m(number)\u001b[0m\n\u001b[1;32m      <a href='vscode-notebook-cell:/Users/muhazaliebenlito/vscode/hpc-python/notebooks/01-introduction.ipynb#X11sZmlsZQ%3D%3D?line=4'>5</a>\u001b[0m numbers \u001b[39m=\u001b[39m \u001b[39mrange\u001b[39m(\u001b[39m2\u001b[39m, \u001b[39mint\u001b[39m(sqrt_number) \u001b[39m+\u001b[39m \u001b[39m1\u001b[39m)\n\u001b[1;32m      <a href='vscode-notebook-cell:/Users/muhazaliebenlito/vscode/hpc-python/notebooks/01-introduction.ipynb#X11sZmlsZQ%3D%3D?line=6'>7</a>\u001b[0m \u001b[39mfor\u001b[39;00m i \u001b[39min\u001b[39;00m \u001b[39mrange\u001b[39m(\u001b[39m0\u001b[39m, \u001b[39mlen\u001b[39m(numbers), \u001b[39m5\u001b[39m):\n\u001b[0;32m----> <a href='vscode-notebook-cell:/Users/muhazaliebenlito/vscode/hpc-python/notebooks/01-introduction.ipynb#X11sZmlsZQ%3D%3D?line=7'>8</a>\u001b[0m     hasil \u001b[39m=\u001b[39m (number \u001b[39m/\u001b[39;49m numbers[i:(i \u001b[39m+\u001b[39;49m \u001b[39m5\u001b[39;49m)])\u001b[39m.\u001b[39mis_integer()\n\u001b[1;32m      <a href='vscode-notebook-cell:/Users/muhazaliebenlito/vscode/hpc-python/notebooks/01-introduction.ipynb#X11sZmlsZQ%3D%3D?line=8'>9</a>\u001b[0m     \u001b[39mif\u001b[39;00m \u001b[39many\u001b[39m(hasil):\n\u001b[1;32m     <a href='vscode-notebook-cell:/Users/muhazaliebenlito/vscode/hpc-python/notebooks/01-introduction.ipynb#X11sZmlsZQ%3D%3D?line=9'>10</a>\u001b[0m         \u001b[39mreturn\u001b[39;00m \u001b[39mFalse\u001b[39;00m\n",
      "\u001b[0;31mTypeError\u001b[0m: unsupported operand type(s) for /: 'int' and 'range'"
     ]
    }
   ],
   "source": [
    "print(f\"check_prime_vectorize(10000000) = {check_prime_vectorize(10000000)}\")\n",
    "print(f\"check_prime_vectorize(10000019) = {check_prime_vectorize(10000019)}\")"
   ]
  },
  {
   "cell_type": "code",
   "execution_count": 8,
   "metadata": {},
   "outputs": [
    {
     "name": "stdout",
     "output_type": "stream",
     "text": [
      "Number of processors:  8\n"
     ]
    }
   ],
   "source": [
    "import multiprocessing as mp\n",
    "print(\"Number of processors: \", mp.cpu_count())"
   ]
  }
 ],
 "metadata": {
  "kernelspec": {
   "display_name": "Python 3.9.10 ('iben_env')",
   "language": "python",
   "name": "python3"
  },
  "language_info": {
   "codemirror_mode": {
    "name": "ipython",
    "version": 3
   },
   "file_extension": ".py",
   "mimetype": "text/x-python",
   "name": "python",
   "nbconvert_exporter": "python",
   "pygments_lexer": "ipython3",
   "version": "3.9.10"
  },
  "orig_nbformat": 4,
  "vscode": {
   "interpreter": {
    "hash": "bd2bba1f0abd62882dfa9d8465ca304f17cc759b9753a8b197c7f4fc49e2b8f4"
   }
  }
 },
 "nbformat": 4,
 "nbformat_minor": 2
}

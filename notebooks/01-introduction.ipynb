{
 "cells": [
  {
   "cell_type": "markdown",
   "metadata": {},
   "source": [
    "# Pendahuluan\n",
    "\n",
    "Cakupan topik:\n",
    "1. Apa saja elemen-elemen penting dari __arsitektur komputer__?\n",
    "2. Bagaimana __perkembangan__ dari komputer saat ini?\n",
    "3. Apa kiat-kiat mempercepat __waktu eksekusi__ dari Python code? "
   ]
  },
  {
   "cell_type": "markdown",
   "metadata": {},
   "source": [
    "## Arsitekur Komputer Dasar\n",
    "\n",
    "Di dalam keperluan komputasi, arsitektur penting yang perlu dikenal adalah computing units (CU). CU berperan untuk melakukan operasi aritmatika dan logika sehingga CU dapat disebut juga sebagai arithmatic-logic unit (ALU). Komponen yang kedua adalah __memory unit__. Memory unit digunakan sebagai tempat penyimpanan data atau bisa dianalogikan sebagai tempat antrian data sebelum data tersebut diproses oleh CU. Memory unit memiliki dua sifat, pertama adalah bersifat __sementara (RAM)__ dan kedua adalah bersifat __permanen (storage)__. Di dalam CU terdapat memory unit yang dinamakan __cache__. CU sekarang ini terdapat minimal 3 layer cache yaitu L1, L2, dan L3. Semua komponen ini memiliki jalur komunikasi yang disebut __bus__."
   ]
  },
  {
   "cell_type": "markdown",
   "metadata": {},
   "source": [
    "## Computing Units\n",
    "\n",
    "Di era sekarang ini, computing units terdiri dari CPU dan graphical processing units (GPU). Karakteristik utama yang menarik dari CU adalah perhitungan banyaknya operasi yang dibutuhkan dalam satu cycle dan banyaknya cycle yang dapat dikerjakan dalam satu detik. Perhitungan ini diukur oleh __instruction per cycle (IPC)__ dan __clock speed__.\n",
    "\n",
    "![](../images/clockspeed.png)"
   ]
  },
  {
   "cell_type": "markdown",
   "metadata": {},
   "source": [
    "## Memory Units\n",
    "\n",
    "![](../images/karakteristik-memori.png)"
   ]
  },
  {
   "cell_type": "markdown",
   "metadata": {},
   "source": [
    "## Communication Units\n",
    "\n",
    "![](../images/communication%20unit.png)"
   ]
  },
  {
   "cell_type": "code",
   "execution_count": 1,
   "metadata": {},
   "outputs": [],
   "source": [
    "import math\n",
    "\n",
    "def check_prime(angka):\n",
    "    sqrt_angka = math.sqrt(angka)\n",
    "    for i in range(2, int(sqrt_angka) + 1):\n",
    "        if (angka / i).is_integer():\n",
    "            return False\n",
    "    return True"
   ]
  },
  {
   "cell_type": "code",
   "execution_count": 2,
   "metadata": {},
   "outputs": [
    {
     "name": "stdout",
     "output_type": "stream",
     "text": [
      "check_prime(10000000) = False\n",
      "check_prime(10000019) = True\n"
     ]
    }
   ],
   "source": [
    "print(f\"check_prime(10000000) = {check_prime(10000000)}\")\n",
    "print(f\"check_prime(10000019) = {check_prime(10000019)}\")"
   ]
  },
  {
   "cell_type": "code",
   "execution_count": 3,
   "metadata": {},
   "outputs": [],
   "source": [
    "import math\n",
    "\n",
    "def check_prime_vectorize(number):\n",
    "    sqrt_number = math.sqrt(number)\n",
    "    numbers = range(2, int(sqrt_number) + 1)\n",
    "\n",
    "    for i in range(0, len(numbers), 5):\n",
    "        hasil = (number / numbers[i:(i + 5)]).is_integer()\n",
    "        if any(hasil):\n",
    "            return False\n",
    "    \n",
    "    return True"
   ]
  },
  {
   "cell_type": "code",
   "execution_count": 4,
   "metadata": {},
   "outputs": [
    {
     "ename": "TypeError",
     "evalue": "unsupported operand type(s) for /: 'int' and 'range'",
     "output_type": "error",
     "traceback": [
      "\u001b[1;31m---------------------------------------------------------------------------\u001b[0m",
      "\u001b[1;31mTypeError\u001b[0m                                 Traceback (most recent call last)",
      "\u001b[1;32m<ipython-input-4-8775ef5ca80d>\u001b[0m in \u001b[0;36m<module>\u001b[1;34m\u001b[0m\n\u001b[1;32m----> 1\u001b[1;33m \u001b[0mprint\u001b[0m\u001b[1;33m(\u001b[0m\u001b[1;34mf\"check_prime_vectorize(10000000) = {check_prime_vectorize(10000000)}\"\u001b[0m\u001b[1;33m)\u001b[0m\u001b[1;33m\u001b[0m\u001b[1;33m\u001b[0m\u001b[0m\n\u001b[0m\u001b[0;32m      2\u001b[0m \u001b[0mprint\u001b[0m\u001b[1;33m(\u001b[0m\u001b[1;34mf\"check_prime_vectorize(10000019) = {check_prime_vectorize(10000019)}\"\u001b[0m\u001b[1;33m)\u001b[0m\u001b[1;33m\u001b[0m\u001b[1;33m\u001b[0m\u001b[0m\n",
      "\u001b[1;32m<ipython-input-3-f41923c700b8>\u001b[0m in \u001b[0;36mcheck_prime_vectorize\u001b[1;34m(number)\u001b[0m\n\u001b[0;32m      6\u001b[0m \u001b[1;33m\u001b[0m\u001b[0m\n\u001b[0;32m      7\u001b[0m     \u001b[1;32mfor\u001b[0m \u001b[0mi\u001b[0m \u001b[1;32min\u001b[0m \u001b[0mrange\u001b[0m\u001b[1;33m(\u001b[0m\u001b[1;36m0\u001b[0m\u001b[1;33m,\u001b[0m \u001b[0mlen\u001b[0m\u001b[1;33m(\u001b[0m\u001b[0mnumbers\u001b[0m\u001b[1;33m)\u001b[0m\u001b[1;33m,\u001b[0m \u001b[1;36m5\u001b[0m\u001b[1;33m)\u001b[0m\u001b[1;33m:\u001b[0m\u001b[1;33m\u001b[0m\u001b[1;33m\u001b[0m\u001b[0m\n\u001b[1;32m----> 8\u001b[1;33m         \u001b[0mhasil\u001b[0m \u001b[1;33m=\u001b[0m \u001b[1;33m(\u001b[0m\u001b[0mnumber\u001b[0m \u001b[1;33m/\u001b[0m \u001b[0mnumbers\u001b[0m\u001b[1;33m[\u001b[0m\u001b[0mi\u001b[0m\u001b[1;33m:\u001b[0m\u001b[1;33m(\u001b[0m\u001b[0mi\u001b[0m \u001b[1;33m+\u001b[0m \u001b[1;36m5\u001b[0m\u001b[1;33m)\u001b[0m\u001b[1;33m]\u001b[0m\u001b[1;33m)\u001b[0m\u001b[1;33m.\u001b[0m\u001b[0mis_integer\u001b[0m\u001b[1;33m(\u001b[0m\u001b[1;33m)\u001b[0m\u001b[1;33m\u001b[0m\u001b[1;33m\u001b[0m\u001b[0m\n\u001b[0m\u001b[0;32m      9\u001b[0m         \u001b[1;32mif\u001b[0m \u001b[0many\u001b[0m\u001b[1;33m(\u001b[0m\u001b[0mhasil\u001b[0m\u001b[1;33m)\u001b[0m\u001b[1;33m:\u001b[0m\u001b[1;33m\u001b[0m\u001b[1;33m\u001b[0m\u001b[0m\n\u001b[0;32m     10\u001b[0m             \u001b[1;32mreturn\u001b[0m \u001b[1;32mFalse\u001b[0m\u001b[1;33m\u001b[0m\u001b[1;33m\u001b[0m\u001b[0m\n",
      "\u001b[1;31mTypeError\u001b[0m: unsupported operand type(s) for /: 'int' and 'range'"
     ]
    }
   ],
   "source": [
    "print(f\"check_prime_vectorize(10000000) = {check_prime_vectorize(10000000)}\")\n",
    "print(f\"check_prime_vectorize(10000019) = {check_prime_vectorize(10000019)}\")"
   ]
  },
  {
   "cell_type": "code",
   "execution_count": 5,
   "metadata": {},
   "outputs": [
    {
     "name": "stdout",
     "output_type": "stream",
     "text": [
      "Number of processors:  12\n"
     ]
    },
    {
     "ename": "",
     "evalue": "",
     "output_type": "error",
     "traceback": [
      "The Kernel crashed while executing code in the the current cell or a previous cell. Please review the code in the cell(s) to identify a possible cause of the failure. Click <a href='https://aka.ms/vscodeJupyterKernelCrash'>here</a> for more info. View Jupyter <a href='command:jupyter.viewOutput'>log</a> for further details."
     ]
    }
   ],
   "source": [
    "import multiprocessing as mp\n",
    "print(\"Number of processors: \", mp.cpu_count())"
   ]
  },
  {
   "cell_type": "code",
   "execution_count": null,
   "metadata": {},
   "outputs": [],
   "source": []
  }
 ],
 "metadata": {
  "kernelspec": {
   "display_name": "Python 3",
   "language": "python",
   "name": "python3"
  },
  "language_info": {
   "codemirror_mode": {
    "name": "ipython",
    "version": 3
   },
   "file_extension": ".py",
   "mimetype": "text/x-python",
   "name": "python",
   "nbconvert_exporter": "python",
   "pygments_lexer": "ipython3",
   "version": "3.8.7"
  },
  "orig_nbformat": 4,
  "vscode": {
   "interpreter": {
    "hash": "bd2bba1f0abd62882dfa9d8465ca304f17cc759b9753a8b197c7f4fc49e2b8f4"
   }
  }
 },
 "nbformat": 4,
 "nbformat_minor": 2
}
